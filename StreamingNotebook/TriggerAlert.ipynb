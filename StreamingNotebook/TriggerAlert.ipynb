{
 "cells": [
  {
   "cell_type": "markdown",
   "metadata": {},
   "source": [
    "todo-list\n",
    "=========\n",
    "<li>Migrate static->stream(if possible)</li>\n",
    "<li>Find new efficient way to do pattern detection/anomaly detection</li>\n",
    "<li>Email alert config (now sent to yanisa.sunthornyotin@cern.ch)</li>"
   ]
  },
  {
   "cell_type": "code",
   "execution_count": null,
   "metadata": {},
   "outputs": [],
   "source": [
    "!pip install --user stldecompose "
   ]
  },
  {
   "cell_type": "code",
   "execution_count": 1,
   "metadata": {},
   "outputs": [],
   "source": [
    "from pyspark.sql.functions import *\n",
    "from pyspark.sql.types import *\n",
    "userSchema = StructType() \\\n",
    "        .add(\"window\",StructType()\\\n",
    "             .add(\"start\",TimestampType())\\\n",
    "             .add(\"end\",TimestampType()))\\\n",
    "        .add(\"system\", StringType())\\\n",
    "        .add(\"count\", LongType())"
   ]
  },
  {
   "cell_type": "code",
   "execution_count": 2,
   "metadata": {},
   "outputs": [
    {
     "name": "stdout",
     "output_type": "stream",
     "text": [
      "root\n",
      " |-- window: struct (nullable = true)\n",
      " |    |-- start: timestamp (nullable = true)\n",
      " |    |-- end: timestamp (nullable = true)\n",
      " |-- system: string (nullable = true)\n",
      " |-- count: long (nullable = true)\n",
      "\n"
     ]
    }
   ],
   "source": [
    "raw_data = spark\\\n",
    ".readStream.format(\"parquet\")\\\n",
    ".schema(userSchema)\\\n",
    ".load(\"/cms/users/carizapo/ming/groupdata_cmsweb_logs\");\n",
    "raw_data.printSchema()"
   ]
  },
  {
   "cell_type": "code",
   "execution_count": 3,
   "metadata": {
    "scrolled": true
   },
   "outputs": [
    {
     "name": "stdout",
     "output_type": "stream",
     "text": [
      "root\n",
      " |-- window: struct (nullable = false)\n",
      " |    |-- start: timestamp (nullable = true)\n",
      " |    |-- end: timestamp (nullable = true)\n",
      " |-- system: string (nullable = true)\n",
      " |-- count: long (nullable = false)\n",
      "\n"
     ]
    }
   ],
   "source": [
    "temp_data = spark\\\n",
    ".read.format(\"parquet\")\\\n",
    ".load(\"/cms/users/carizapo/ming/groupdata_cmsweb_logs\");\n",
    "temp_data.printSchema()"
   ]
  },
  {
   "cell_type": "code",
   "execution_count": 4,
   "metadata": {},
   "outputs": [],
   "source": [
    "# temp_data.show()"
   ]
  },
  {
   "cell_type": "markdown",
   "metadata": {},
   "source": [
    "Calculate % Difference according to the mean of the amounth of email within 1 week\n",
    "-----------"
   ]
  },
  {
   "cell_type": "code",
   "execution_count": 4,
   "metadata": {},
   "outputs": [],
   "source": [
    "from pyspark.sql import Window\n",
    "w = Window.partitionBy('system',window(\"window.start\", \"7 days\"))\n",
    "# .orderBy(col(\"window.start\").cast('long')).rangeBetween(-days(7), 0)\n",
    "\n",
    "freq_analyze_df=temp_data.select('*', avg('count').over(w).alias('avg')).sort('system','window')\\\n",
    ".select('*', ((col('count') - first('avg').over(w))).alias('diff'))\\\n",
    ".select('*', ((col('diff')/first('avg').over(w))).alias('%diff'))\\\n",
    ".select('*', when((abs(col('%diff'))>3), 1).otherwise(0).alias('label'))\n",
    "# freq_analyze_df.filter(\"system=='popdb'\").show()"
   ]
  },
  {
   "cell_type": "code",
   "execution_count": 5,
   "metadata": {},
   "outputs": [
    {
     "name": "stdout",
     "output_type": "stream",
     "text": [
      "root\n",
      " |-- system: string (nullable = true)\n",
      " |-- window: struct (nullable = true)\n",
      " |    |-- start: timestamp (nullable = true)\n",
      " |    |-- end: timestamp (nullable = true)\n",
      " |-- count: long (nullable = true)\n",
      " |-- avg: double (nullable = true)\n",
      " |-- diff: double (nullable = true)\n",
      " |-- %diff: double (nullable = true)\n",
      " |-- label: integer (nullable = false)\n",
      "\n"
     ]
    }
   ],
   "source": [
    "raw_data=raw_data.join(freq_analyze_df, [\"system\",\"window\",\"count\"], \"inner\")\n",
    "raw_data.printSchema()"
   ]
  },
  {
   "cell_type": "code",
   "execution_count": null,
   "metadata": {},
   "outputs": [],
   "source": [
    "filter_alert_data = raw_data.filter(\"label > 0\")"
   ]
  },
  {
   "cell_type": "code",
   "execution_count": 6,
   "metadata": {},
   "outputs": [],
   "source": [
    "raw_data_flow = raw_data.writeStream.queryName(\"hdfs\").outputMode(\"Append\").format(\"memory\").start()"
   ]
  },
  {
   "cell_type": "code",
   "execution_count": null,
   "metadata": {},
   "outputs": [],
   "source": [
    "filter_alert_data_flow = filter_alert_data.writeStream.queryName(\"alert\").outputMode(\"Append\").format(\"memory\").start()"
   ]
  },
  {
   "cell_type": "code",
   "execution_count": null,
   "metadata": {},
   "outputs": [],
   "source": [
    "raw_data_flow.stop()"
   ]
  },
  {
   "cell_type": "code",
   "execution_count": null,
   "metadata": {},
   "outputs": [],
   "source": [
    "filter_alert_data_flow.stop()"
   ]
  },
  {
   "cell_type": "code",
   "execution_count": null,
   "metadata": {},
   "outputs": [],
   "source": [
    "spark.streams.active"
   ]
  },
  {
   "cell_type": "code",
   "execution_count": null,
   "metadata": {},
   "outputs": [],
   "source": [
    "# raw_data_flow.lastProgress\n",
    "filter_alert_data_flow.lastProgress\n",
    "# raw_data_flow.processAllAvailable()\n",
    "# filter_alert_data_flow.processAllAvailable()"
   ]
  },
  {
   "cell_type": "code",
   "execution_count": 73,
   "metadata": {},
   "outputs": [
    {
     "name": "stdout",
     "output_type": "stream",
     "text": [
      "+--------------------+--------------------+-----+------------------+--------------------+--------------------+-----+\n",
      "|              system|              window|count|               avg|                diff|               %diff|label|\n",
      "+--------------------+--------------------+-----+------------------+--------------------+--------------------+-----+\n",
      "|          %{request}|[2019-06-29 06:43...|    2|1.1827956989247312|  0.8172043010752688|  0.6909090909090908|    0|\n",
      "|           %{system}|[2019-06-28 16:16...| 1762|342.41309483631454|  1419.5869051636855|   4.145831238849956|    1|\n",
      "|           %{system}|[2019-06-28 20:59...|  679|342.41309483631454|  336.58690516368546|  0.9829849098632919|    0|\n",
      "|           %{system}|[2019-06-29 08:29...|  826|342.41309483631454|  483.58690516368546|  1.4122909212769943|    0|\n",
      "|           %{system}|[2019-06-30 13:23...|  180|342.41309483631454| -162.41309483631454| -0.4743191696975073|    0|\n",
      "|           %{system}|[2019-07-01 09:43...|  434|342.41309483631454|   91.58690516368546|  0.2674748908404546|    0|\n",
      "|           %{system}|[2019-07-01 18:28...|  747|342.41309483631454|  404.58690516368546|  1.1815754457553447|    0|\n",
      "|           %{system}|[2019-07-02 07:13...|  584|342.41309483631454|  241.58690516368546|  0.7055422494258652|    0|\n",
      "|           %{system}|[2019-07-02 10:24...|   66|342.41309483631454| -276.41309483631454| -0.8072503622224193|    0|\n",
      "|           %{system}|[2019-07-02 14:41...|    3|342.41309483631454| -339.41309483631454| -0.9912386528282918|    0|\n",
      "|           %{system}|[2019-07-02 19:58...|  601|342.41309483631454|  258.58690516368546|  0.7551898833988784|    0|\n",
      "|           %{system}|[2019-07-02 23:42...|   48|342.41309483631454| -294.41309483631454| -0.8598184452526686|    0|\n",
      "|                   /|[2019-06-28 10:38...|    1|1.3552425665101722|-0.35524256651017216|-0.26212471131639725|    0|\n",
      "|                   /|[2019-06-29 07:15...|    1|1.3552425665101722|-0.35524256651017216|-0.26212471131639725|    0|\n",
      "|                   /|[2019-06-30 14:13...|    1|1.3552425665101722|-0.35524256651017216|-0.26212471131639725|    0|\n",
      "|                   /|[2019-07-01 07:44...|    1|1.3552425665101722|-0.35524256651017216|-0.26212471131639725|    0|\n",
      "|                   /|[2019-07-02 20:33...|    3|1.3552425665101722|  1.6447574334898278|  1.2136258660508084|    0|\n",
      "|           /1hou.php|[2019-06-30 21:13...|    1|               1.0|                 0.0|                 0.0|    0|\n",
      "|            /887.php|[2019-06-30 00:53...|    1|               1.0|                 0.0|                 0.0|    0|\n",
      "|/PMA2015/index.ph...|[2019-06-30 06:44...|    1|               1.0|                 0.0|                 0.0|    0|\n",
      "+--------------------+--------------------+-----+------------------+--------------------+--------------------+-----+\n",
      "only showing top 20 rows\n",
      "\n"
     ]
    }
   ],
   "source": [
    "alerts = spark.sql(\"select * from hdfs\")\n",
    "alerts.show()"
   ]
  },
  {
   "cell_type": "code",
   "execution_count": null,
   "metadata": {},
   "outputs": [],
   "source": [
    "alerts = spark.sql(\"select * from alert\")\n",
    "alerts.show()"
   ]
  },
  {
   "cell_type": "code",
   "execution_count": null,
   "metadata": {},
   "outputs": [],
   "source": [
    "alerts = spark.sql(\"select * from concat\")\n",
    "alerts.show()"
   ]
  },
  {
   "cell_type": "code",
   "execution_count": 78,
   "metadata": {
    "scrolled": false
   },
   "outputs": [
    {
     "name": "stdout",
     "output_type": "stream",
     "text": [
      "+--------------------+---------+-----+------------------+------------------+------------------+-----+\n",
      "|              window|   system|count|               avg|              diff|             %diff|label|\n",
      "+--------------------+---------+-----+------------------+------------------+------------------+-----+\n",
      "|[2019-06-30 03:13...|%{system}| 1389|342.41309483631454|1046.5869051636855| 3.056503740500902|    1|\n",
      "|[2019-07-01 11:44...|%{system}| 1397|342.41309483631454|1054.5869051636855|3.0798673329587904|    1|\n",
      "|[2019-07-01 11:59...|%{system}| 3656|342.41309483631454|3313.5869051636855| 9.677161753255074|    1|\n",
      "|[2019-07-01 12:14...|%{system}| 1482|342.41309483631454|1139.5869051636855|3.3281055028238566|    1|\n",
      "|[2019-07-01 12:30...|%{system}| 2061|342.41309483631454|1718.5869051636855| 5.019045506963542|    1|\n",
      "|[2019-07-01 18:29...|%{system}| 1549|342.41309483631454|1206.5869051636855|3.5237755896586735|    1|\n",
      "|[2019-07-01 18:45...|%{system}| 4742|342.41309483631454|4399.5869051636855|12.848769429413446|    1|\n",
      "|[2019-07-02 17:58...|%{system}| 1548|342.41309483631454|1205.5869051636855|3.5208551406014372|    1|\n",
      "|[2019-07-02 18:13...|%{system}| 1485|342.41309483631454|1142.5869051636855|3.3368668499955647|    1|\n",
      "|[2019-07-03 00:29...|%{system}| 2525|342.41309483631454|2182.5869051636855| 6.374133869521078|    1|\n",
      "|[2019-07-03 00:43...|%{system}| 1434|342.41309483631454|1091.5869051636855|3.1879239480765253|    1|\n",
      "|[2019-07-03 00:44...|%{system}| 6253|342.41309483631454|5910.5869051636855| 17.26156795489715|    1|\n",
      "|[2019-07-03 00:59...|%{system}| 1770|342.41309483631454|1427.5869051636855| 4.169194831307845|    1|\n",
      "|[2019-07-03 05:14...|%{system}| 1426|342.41309483631454|1083.5869051636855|3.1645603556186366|    1|\n",
      "|[2019-06-29 18:28...|%{system}| 4934|342.41309483631454|4591.5869051636855|13.409495648402771|    1|\n",
      "|[2019-06-29 21:59...|%{system}| 1477|342.41309483631454|1134.5869051636855|3.3135032575376764|    1|\n",
      "|[2019-06-30 05:58...|%{system}| 1379|342.41309483631454|1036.5869051636855| 3.027299249928541|    1|\n",
      "|[2019-07-01 17:44...|%{system}| 1799|342.41309483631454|1456.5869051636855| 4.253887853967691|    1|\n",
      "|[2019-07-01 17:59...|%{system}| 1786|342.41309483631454|1443.5869051636855| 4.215922016223622|    1|\n",
      "|[2019-07-02 13:44...|%{system}| 1396|342.41309483631454|1053.5869051636855|3.0769468839015546|    1|\n",
      "+--------------------+---------+-----+------------------+------------------+------------------+-----+\n",
      "only showing top 20 rows\n",
      "\n"
     ]
    }
   ],
   "source": [
    "freq_analyze_df.filter(\"system=='%{system}' and label==1\").show()"
   ]
  },
  {
   "cell_type": "code",
   "execution_count": 229,
   "metadata": {},
   "outputs": [],
   "source": [
    "import numpy as np\n",
    "\n",
    "from pyspark.ml.linalg import Vectors\n",
    "w = Window.partitionBy('system',window(\"window.start\",\"5 hours\"))\n",
    "\n",
    "concat_alert_df=freq_analyze_df\\\n",
    ".drop_duplicates(['%diff','system'])\\\n",
    ".withColumn('features', collect_list(col('%diff')).over(w).cast(\"array<double>\"))\\\n",
    ".withColumn('num_features', size(collect_list(col('%diff')).over(w).cast(\"array<double>\")))\\\n",
    ".withColumn('start', collect_list(col('window.start')).over(w))\\\n",
    ".withColumn('labels', collect_list(col('label')).over(w))\\\n",
    ".drop_duplicates(subset=['features','label'])\n"
   ]
  },
  {
   "cell_type": "code",
   "execution_count": 68,
   "metadata": {},
   "outputs": [],
   "source": []
  },
  {
   "cell_type": "markdown",
   "metadata": {},
   "source": [
    "Concerns : The size of feature is not equal in each row\n",
    "-----\n",
    "The decision tree failed"
   ]
  },
  {
   "cell_type": "code",
   "execution_count": 231,
   "metadata": {},
   "outputs": [],
   "source": [
    "from pyspark.ml.clustering import KMeans\n",
    "from pyspark.ml.linalg import Vectors, VectorUDT\n",
    "to_vector = udf(lambda a: Vectors.dense(a), VectorUDT())\n",
    "transform=concat_alert_df.select(\"system\",\"start\",\"labels\",to_vector(\"features\").alias(\"features\"))\n",
    "# transform.show()"
   ]
  },
  {
   "cell_type": "code",
   "execution_count": 179,
   "metadata": {},
   "outputs": [],
   "source": [
    "transform_pd=transform.toPandas()"
   ]
  },
  {
   "cell_type": "code",
   "execution_count": null,
   "metadata": {},
   "outputs": [],
   "source": [
    "transform_pd[transform_pd.label==0].head(10)"
   ]
  },
  {
   "cell_type": "code",
   "execution_count": 203,
   "metadata": {},
   "outputs": [
    {
     "data": {
      "text/html": [
       "<div>\n",
       "<style scoped>\n",
       "    .dataframe tbody tr th:only-of-type {\n",
       "        vertical-align: middle;\n",
       "    }\n",
       "\n",
       "    .dataframe tbody tr th {\n",
       "        vertical-align: top;\n",
       "    }\n",
       "\n",
       "    .dataframe thead th {\n",
       "        text-align: right;\n",
       "    }\n",
       "</style>\n",
       "<table border=\"1\" class=\"dataframe\">\n",
       "  <thead>\n",
       "    <tr style=\"text-align: right;\">\n",
       "      <th></th>\n",
       "      <th>system</th>\n",
       "      <th>start</th>\n",
       "      <th>label</th>\n",
       "      <th>features</th>\n",
       "    </tr>\n",
       "  </thead>\n",
       "  <tbody>\n",
       "    <tr>\n",
       "      <th>282</th>\n",
       "      <td>/server-status</td>\n",
       "      <td>[2019-07-02 11:17:00]</td>\n",
       "      <td>0</td>\n",
       "      <td>[2.2560952097172806]</td>\n",
       "    </tr>\n",
       "    <tr>\n",
       "      <th>407</th>\n",
       "      <td>/server-status</td>\n",
       "      <td>[2019-06-21 10:02:00, 2019-06-21 10:01:00, 2019-06-21 10:03:00]</td>\n",
       "      <td>0</td>\n",
       "      <td>[1.046153846153846, -0.30000000000000004, -0.8384615384615385]</td>\n",
       "    </tr>\n",
       "    <tr>\n",
       "      <th>527</th>\n",
       "      <td>/server-status</td>\n",
       "      <td>[2019-06-30 23:32:00, 2019-06-30 23:30:00, 2019-06-30 23:57:00, 2019-06-30 23:43:00, 2019-06-30 23:44:00, 2019-06-30 23:38:00, 2019-06-30 23:31:00, 2019-06-30 23:29:00, 2019-06-30 23:42:00, 2019-06-30 23:59:00]</td>\n",
       "      <td>0</td>\n",
       "      <td>[-0.7495311377140553, 1.204125988116313, -0.49906227542811066, 0.7031882635444238, 0.6530944910872348, 0.502813173715668, 1.304313533030691, -0.5992498203424885, -0.4489685029709217, 1.154032215659124]</td>\n",
       "    </tr>\n",
       "    <tr>\n",
       "      <th>592</th>\n",
       "      <td>/server-status</td>\n",
       "      <td>[2019-07-01 00:23:00, 2019-07-01 00:38:00, 2019-07-01 01:47:00, 2019-07-01 03:59:00, 2019-07-01 01:14:00, 2019-07-01 01:12:00, 2019-07-01 00:28:00, 2019-07-01 02:01:00, 2019-07-01 03:57:00, 2019-07-01 04:13:00, 2019-07-01 01:29:00, 2019-07-01 03:28:00, 2019-07-01 00:15:00, 2019-07-01 00:00:00, 2019-07-01 00:39:00, 2019-07-01 01:42:00, 2019-07-01 02:29:00, 2019-07-01 02:28:00, 2019-07-01 03:44:00, 2019-07-01 02:44:00, 2019-07-01 02:02:00, 2019-07-01 01:28:00, 2019-07-01 03:43:00, 2019-07-01 00:29:00, 2019-07-01 01:38:00, 2019-07-01 00:43:00, 2019-07-01 01:00:00, 2019-07-01 03:42:00, 2019-07-01 01:39:00, 2019-07-01 00:27:00, 2019-07-01 03:29:00, 2019-07-01 04:27:00, 2019-07-01 01:27:00, 2019-07-01 00:59:00, 2019-07-01 03:58:00]</td>\n",
       "      <td>0</td>\n",
       "      <td>[0.25234431142972336, 0.45271940125847904, 0.35253185634410117, 0.7532820360016127, 1.1039384432019352, -0.2986871855993549, 0.6030007186300459, -0.3988747305137328, -0.24859341314216601, 1.3544073054878798, 1.5547823953166355, 0.552906946172857, -0.14840586822778815, -0.7996249101712443, -0.9499062275428111, -0.8998124550856221, 0.8534695809159906, 1.0538446707447462, 0.9035633533731795, 1.6549699402310134, 0.10206299405815653, 0.30243808388691223, 0.2022505389725344, 1.4545948504022577, -0.6493435927996775, 0.8033758084588016, -0.8497186826284332, -0.0983120957705992, 0.15215676651534546, -0.5491560478852996, 1.5046886228594467, -0.6994373652568664, -0.34878095805654385, 1.7050637126882024, 1.0037508982875574]</td>\n",
       "    </tr>\n",
       "    <tr>\n",
       "      <th>754</th>\n",
       "      <td>/server-status</td>\n",
       "      <td>[2019-07-03 03:41:00]</td>\n",
       "      <td>0</td>\n",
       "      <td>[2.005626347431336]</td>\n",
       "    </tr>\n",
       "    <tr>\n",
       "      <th>813</th>\n",
       "      <td>/server-status</td>\n",
       "      <td>[2019-07-01 06:28:00, 2019-07-01 05:02:00, 2019-07-01 08:58:00, 2019-07-01 05:57:00, 2019-07-01 09:43:00, 2019-07-01 06:58:00, 2019-07-01 05:29:00, 2019-07-01 07:14:00]</td>\n",
       "      <td>0</td>\n",
       "      <td>[0.9536571258303684, 0.0519692216009676, 1.254219760573502, -0.04821832331341027, 0.0018754491437786625, 0.4026256288012901, 1.4045010779450688, 1.6048761677738246]</td>\n",
       "    </tr>\n",
       "    <tr>\n",
       "      <th>815</th>\n",
       "      <td>/server-status</td>\n",
       "      <td>[2019-06-28 22:29:00]</td>\n",
       "      <td>0</td>\n",
       "      <td>[1.9054388025169582]</td>\n",
       "    </tr>\n",
       "    <tr>\n",
       "      <th>855</th>\n",
       "      <td>/server-status</td>\n",
       "      <td>[2019-06-21 09:38:00, 2019-06-21 09:53:00, 2019-06-21 09:42:00, 2019-06-21 09:28:00, 2019-06-21 09:27:00, 2019-06-21 09:39:00, 2019-06-21 09:59:00, 2019-06-21 09:29:00, 2019-06-21 09:44:00, 2019-06-21 09:24:00, 2019-06-21 09:30:00, 2019-06-21 09:23:00]</td>\n",
       "      <td>0</td>\n",
       "      <td>[0.34615384615384603, 0.6153846153846152, -0.6230769230769231, 0.5076923076923076, -0.5153846153846154, -0.7307692307692308, 0.23846153846153836, 0.723076923076923, 1.4769230769230768, -0.9461538461538461, 0.13076923076923067, 0.5615384615384614]</td>\n",
       "    </tr>\n",
       "    <tr>\n",
       "      <th>923</th>\n",
       "      <td>/server-status</td>\n",
       "      <td>[2019-06-29 11:59:00]</td>\n",
       "      <td>0</td>\n",
       "      <td>[1.7551574851453913]</td>\n",
       "    </tr>\n",
       "    <tr>\n",
       "      <th>1031</th>\n",
       "      <td>/server-status</td>\n",
       "      <td>[2019-07-01 11:45:00]</td>\n",
       "      <td>0</td>\n",
       "      <td>[-0.19849964068497708]</td>\n",
       "    </tr>\n",
       "  </tbody>\n",
       "</table>\n",
       "</div>"
      ],
      "text/plain": [
       "              system  \\\n",
       "282   /server-status   \n",
       "407   /server-status   \n",
       "527   /server-status   \n",
       "592   /server-status   \n",
       "754   /server-status   \n",
       "813   /server-status   \n",
       "815   /server-status   \n",
       "855   /server-status   \n",
       "923   /server-status   \n",
       "1031  /server-status   \n",
       "\n",
       "                                                                                                                                                                                                                                                                                                                                                                                                                                                                                                                                                                                                                                                                                                                                                                start  \\\n",
       "282   [2019-07-02 11:17:00]                                                                                                                                                                                                                                                                                                                                                                                                                                                                                                                                                                                                                                                                                                                                             \n",
       "407   [2019-06-21 10:02:00, 2019-06-21 10:01:00, 2019-06-21 10:03:00]                                                                                                                                                                                                                                                                                                                                                                                                                                                                                                                                                                                                                                                                                                   \n",
       "527   [2019-06-30 23:32:00, 2019-06-30 23:30:00, 2019-06-30 23:57:00, 2019-06-30 23:43:00, 2019-06-30 23:44:00, 2019-06-30 23:38:00, 2019-06-30 23:31:00, 2019-06-30 23:29:00, 2019-06-30 23:42:00, 2019-06-30 23:59:00]                                                                                                                                                                                                                                                                                                                                                                                                                                                                                                                                                \n",
       "592   [2019-07-01 00:23:00, 2019-07-01 00:38:00, 2019-07-01 01:47:00, 2019-07-01 03:59:00, 2019-07-01 01:14:00, 2019-07-01 01:12:00, 2019-07-01 00:28:00, 2019-07-01 02:01:00, 2019-07-01 03:57:00, 2019-07-01 04:13:00, 2019-07-01 01:29:00, 2019-07-01 03:28:00, 2019-07-01 00:15:00, 2019-07-01 00:00:00, 2019-07-01 00:39:00, 2019-07-01 01:42:00, 2019-07-01 02:29:00, 2019-07-01 02:28:00, 2019-07-01 03:44:00, 2019-07-01 02:44:00, 2019-07-01 02:02:00, 2019-07-01 01:28:00, 2019-07-01 03:43:00, 2019-07-01 00:29:00, 2019-07-01 01:38:00, 2019-07-01 00:43:00, 2019-07-01 01:00:00, 2019-07-01 03:42:00, 2019-07-01 01:39:00, 2019-07-01 00:27:00, 2019-07-01 03:29:00, 2019-07-01 04:27:00, 2019-07-01 01:27:00, 2019-07-01 00:59:00, 2019-07-01 03:58:00]   \n",
       "754   [2019-07-03 03:41:00]                                                                                                                                                                                                                                                                                                                                                                                                                                                                                                                                                                                                                                                                                                                                             \n",
       "813   [2019-07-01 06:28:00, 2019-07-01 05:02:00, 2019-07-01 08:58:00, 2019-07-01 05:57:00, 2019-07-01 09:43:00, 2019-07-01 06:58:00, 2019-07-01 05:29:00, 2019-07-01 07:14:00]                                                                                                                                                                                                                                                                                                                                                                                                                                                                                                                                                                                          \n",
       "815   [2019-06-28 22:29:00]                                                                                                                                                                                                                                                                                                                                                                                                                                                                                                                                                                                                                                                                                                                                             \n",
       "855   [2019-06-21 09:38:00, 2019-06-21 09:53:00, 2019-06-21 09:42:00, 2019-06-21 09:28:00, 2019-06-21 09:27:00, 2019-06-21 09:39:00, 2019-06-21 09:59:00, 2019-06-21 09:29:00, 2019-06-21 09:44:00, 2019-06-21 09:24:00, 2019-06-21 09:30:00, 2019-06-21 09:23:00]                                                                                                                                                                                                                                                                                                                                                                                                                                                                                                      \n",
       "923   [2019-06-29 11:59:00]                                                                                                                                                                                                                                                                                                                                                                                                                                                                                                                                                                                                                                                                                                                                             \n",
       "1031  [2019-07-01 11:45:00]                                                                                                                                                                                                                                                                                                                                                                                                                                                                                                                                                                                                                                                                                                                                             \n",
       "\n",
       "      label  \\\n",
       "282   0       \n",
       "407   0       \n",
       "527   0       \n",
       "592   0       \n",
       "754   0       \n",
       "813   0       \n",
       "815   0       \n",
       "855   0       \n",
       "923   0       \n",
       "1031  0       \n",
       "\n",
       "                                                                                                                                                                                                                                                                                                                                                                                                                                                                                                                                                                                                                                                                                                                                               features  \n",
       "282   [2.2560952097172806]                                                                                                                                                                                                                                                                                                                                                                                                                                                                                                                                                                                                                                                                                                                               \n",
       "407   [1.046153846153846, -0.30000000000000004, -0.8384615384615385]                                                                                                                                                                                                                                                                                                                                                                                                                                                                                                                                                                                                                                                                                     \n",
       "527   [-0.7495311377140553, 1.204125988116313, -0.49906227542811066, 0.7031882635444238, 0.6530944910872348, 0.502813173715668, 1.304313533030691, -0.5992498203424885, -0.4489685029709217, 1.154032215659124]                                                                                                                                                                                                                                                                                                                                                                                                                                                                                                                                          \n",
       "592   [0.25234431142972336, 0.45271940125847904, 0.35253185634410117, 0.7532820360016127, 1.1039384432019352, -0.2986871855993549, 0.6030007186300459, -0.3988747305137328, -0.24859341314216601, 1.3544073054878798, 1.5547823953166355, 0.552906946172857, -0.14840586822778815, -0.7996249101712443, -0.9499062275428111, -0.8998124550856221, 0.8534695809159906, 1.0538446707447462, 0.9035633533731795, 1.6549699402310134, 0.10206299405815653, 0.30243808388691223, 0.2022505389725344, 1.4545948504022577, -0.6493435927996775, 0.8033758084588016, -0.8497186826284332, -0.0983120957705992, 0.15215676651534546, -0.5491560478852996, 1.5046886228594467, -0.6994373652568664, -0.34878095805654385, 1.7050637126882024, 1.0037508982875574]  \n",
       "754   [2.005626347431336]                                                                                                                                                                                                                                                                                                                                                                                                                                                                                                                                                                                                                                                                                                                                \n",
       "813   [0.9536571258303684, 0.0519692216009676, 1.254219760573502, -0.04821832331341027, 0.0018754491437786625, 0.4026256288012901, 1.4045010779450688, 1.6048761677738246]                                                                                                                                                                                                                                                                                                                                                                                                                                                                                                                                                                               \n",
       "815   [1.9054388025169582]                                                                                                                                                                                                                                                                                                                                                                                                                                                                                                                                                                                                                                                                                                                               \n",
       "855   [0.34615384615384603, 0.6153846153846152, -0.6230769230769231, 0.5076923076923076, -0.5153846153846154, -0.7307692307692308, 0.23846153846153836, 0.723076923076923, 1.4769230769230768, -0.9461538461538461, 0.13076923076923067, 0.5615384615384614]                                                                                                                                                                                                                                                                                                                                                                                                                                                                                             \n",
       "923   [1.7551574851453913]                                                                                                                                                                                                                                                                                                                                                                                                                                                                                                                                                                                                                                                                                                                               \n",
       "1031  [-0.19849964068497708]                                                                                                                                                                                                                                                                                                                                                                                                                                                                                                                                                                                                                                                                                                                             "
      ]
     },
     "execution_count": 203,
     "metadata": {},
     "output_type": "execute_result"
    }
   ],
   "source": [
    "pd.set_option('display.max_colwidth', -1)\n",
    "transform_pd[transform_pd.system=='/server-status'].head(10)"
   ]
  },
  {
   "cell_type": "code",
   "execution_count": 233,
   "metadata": {},
   "outputs": [
    {
     "name": "stdout",
     "output_type": "stream",
     "text": [
      "Normalized using L^inf norm\n"
     ]
    }
   ],
   "source": [
    "from pyspark.ml.feature import Normalizer\n",
    "from pyspark.ml.linalg import Vectors\n",
    "# Normalize each Vector using $L^1$ norm.\n",
    "# normalizer = Normalizer(inputCol=\"features\", outputCol=\"normFeatures\", p=1.0)\n",
    "# l1NormData = normalizer.transform(transform)\n",
    "# print(\"Normalized using L^1 norm\")\n",
    "# l1NormData.show()\n",
    "\n",
    "# Normalize each Vector using $L^\\infty$ norm.\n",
    "lInfNormData = normalizer.transform(transform, {normalizer.p: float(\"inf\")})\n",
    "print(\"Normalized using L^inf norm\")\n",
    "# lInfNormData.show()"
   ]
  },
  {
   "cell_type": "code",
   "execution_count": 235,
   "metadata": {},
   "outputs": [],
   "source": [
    "to_array = udf(lambda x: x.toArray().tolist(), ArrayType(DoubleType()))\n",
    "lInfNormData_new = lInfNormData\\\n",
    ".withColumn('normFeatures_list', to_array(lInfNormData.normFeatures))\\\n",
    ".withColumn('features_list', to_array(lInfNormData.features))\\\n",
    ".drop(\"normFeatures\")"
   ]
  },
  {
   "cell_type": "code",
   "execution_count": 236,
   "metadata": {},
   "outputs": [
    {
     "name": "stdout",
     "output_type": "stream",
     "text": [
      "root\n",
      " |-- system: string (nullable = true)\n",
      " |-- start: array (nullable = true)\n",
      " |    |-- element: timestamp (containsNull = true)\n",
      " |-- labels: array (nullable = true)\n",
      " |    |-- element: integer (containsNull = true)\n",
      " |-- features: vector (nullable = true)\n",
      " |-- normFeatures_list: array (nullable = true)\n",
      " |    |-- element: double (containsNull = true)\n",
      " |-- features_list: array (nullable = true)\n",
      " |    |-- element: double (containsNull = true)\n",
      "\n"
     ]
    }
   ],
   "source": [
    "lInfNormData_new.printSchema()"
   ]
  },
  {
   "cell_type": "code",
   "execution_count": 237,
   "metadata": {},
   "outputs": [],
   "source": [
    "from pyspark.sql.functions import udf, explode\n",
    "from pyspark.sql.types import *\n",
    "from pyspark.ml.linalg import *\n",
    "parsed_data=lInfNormData_new.withColumn(\"tmp\", arrays_zip(\"start\", \"normFeatures_list\",\"features_list\",'labels'))\\\n",
    "    .withColumn(\"tmp\", explode(\"tmp\"))\\\n",
    "    .select(\"system\", col(\"tmp.start\"), col(\"tmp.normFeatures_list\"), col(\"tmp.labels\"),col(\"tmp.features_list\"),\"features\")\n",
    "# parsed_data.show()"
   ]
  },
  {
   "cell_type": "code",
   "execution_count": 240,
   "metadata": {},
   "outputs": [
    {
     "name": "stdout",
     "output_type": "stream",
     "text": [
      "root\n",
      " |-- system: string (nullable = true)\n",
      " |-- start: timestamp (nullable = true)\n",
      " |-- normFeatures_list: double (nullable = true)\n",
      " |-- labels: integer (nullable = true)\n",
      " |-- features_list: double (nullable = true)\n",
      " |-- features: vector (nullable = true)\n",
      "\n"
     ]
    }
   ],
   "source": [
    "new_alert=parsed_data.select('*', when((abs(col('normFeatures_list'))>0.9), 1).otherwise(0).alias('new_label'))\n",
    "parsed_data.printSchema()"
   ]
  },
  {
   "cell_type": "markdown",
   "metadata": {},
   "source": [
    "Some data have negative % difference (features) because the email comes less than the mean calculated from 7 days interval\n",
    "In this case, maybe the former benchmark work better( the newer one will amplify those differences to be 1 or -1 in case there's no abnormal email(+/-peak) coming).\n",
    "<li>The former benchmart set at %difference = 300% then alert</li>\n",
    "<li>Maybe we can assume that short lenght dataframe means there's no email coming %difference = 0%</li>"
   ]
  },
  {
   "cell_type": "code",
   "execution_count": 241,
   "metadata": {},
   "outputs": [
    {
     "data": {
      "text/html": [
       "<div>\n",
       "<style scoped>\n",
       "    .dataframe tbody tr th:only-of-type {\n",
       "        vertical-align: middle;\n",
       "    }\n",
       "\n",
       "    .dataframe tbody tr th {\n",
       "        vertical-align: top;\n",
       "    }\n",
       "\n",
       "    .dataframe thead th {\n",
       "        text-align: right;\n",
       "    }\n",
       "</style>\n",
       "<table border=\"1\" class=\"dataframe\">\n",
       "  <thead>\n",
       "    <tr style=\"text-align: right;\">\n",
       "      <th></th>\n",
       "      <th>system</th>\n",
       "      <th>start</th>\n",
       "      <th>normFeatures_list</th>\n",
       "      <th>labels</th>\n",
       "      <th>features_list</th>\n",
       "      <th>features</th>\n",
       "      <th>new_label</th>\n",
       "    </tr>\n",
       "  </thead>\n",
       "  <tbody>\n",
       "    <tr>\n",
       "      <th>0</th>\n",
       "      <td>wmdatamining</td>\n",
       "      <td>2019-06-21 09:28:00</td>\n",
       "      <td>1.0</td>\n",
       "      <td>0</td>\n",
       "      <td>0.955556</td>\n",
       "      <td>[-0.5555555555555556, -0.28888888888888886, 0.6592592592592592, 0.9555555555555556]</td>\n",
       "      <td>1</td>\n",
       "    </tr>\n",
       "    <tr>\n",
       "      <th>1</th>\n",
       "      <td>/das/request?pid=9e19d0bbe2c68dc55cc6312812c84273&amp;input=dataset%3D%2FDsToTau_To3Mu_MuFilter_TuneCUEP8M1_13TeV-pythia8%2FRunIIFall17MiniAODv2-PU2017_12Apr2018_94X_mc2017_realistic_v14-v1%2FMINIAODSIM&amp;ajax=1&amp;instance=prod%2Fglobal&amp;view=</td>\n",
       "      <td>2019-07-02 11:45:00</td>\n",
       "      <td>1.0</td>\n",
       "      <td>0</td>\n",
       "      <td>1.500000</td>\n",
       "      <td>[-0.5, 1.5, 0.0]</td>\n",
       "      <td>1</td>\n",
       "    </tr>\n",
       "    <tr>\n",
       "      <th>2</th>\n",
       "      <td>newwq</td>\n",
       "      <td>2019-06-29 18:28:00</td>\n",
       "      <td>1.0</td>\n",
       "      <td>0</td>\n",
       "      <td>1.457131</td>\n",
       "      <td>[0.5912314402585368, 0.6249677958823927, 1.4571312346041718]</td>\n",
       "      <td>1</td>\n",
       "    </tr>\n",
       "    <tr>\n",
       "      <th>3</th>\n",
       "      <td>/crabcache/file?hashkey=c39a92b59d396e328ee405998022e54bc6ebd30254d90ee08882b5d6fb916d27</td>\n",
       "      <td>2019-07-03 09:59:00</td>\n",
       "      <td>1.0</td>\n",
       "      <td>0</td>\n",
       "      <td>1.031250</td>\n",
       "      <td>[0.6249999999999999, -0.59375, 0.21874999999999994, -0.18750000000000006, 1.0312499999999998]</td>\n",
       "      <td>1</td>\n",
       "    </tr>\n",
       "    <tr>\n",
       "      <th>4</th>\n",
       "      <td>/confdb/</td>\n",
       "      <td>2019-06-21 09:53:00</td>\n",
       "      <td>1.0</td>\n",
       "      <td>0</td>\n",
       "      <td>1.333333</td>\n",
       "      <td>[1.3333333333333333, -0.6666666666666666]</td>\n",
       "      <td>1</td>\n",
       "    </tr>\n",
       "  </tbody>\n",
       "</table>\n",
       "</div>"
      ],
      "text/plain": [
       "                                                                                                                                                                                                                                       system  \\\n",
       "0  wmdatamining                                                                                                                                                                                                                                 \n",
       "1  /das/request?pid=9e19d0bbe2c68dc55cc6312812c84273&input=dataset%3D%2FDsToTau_To3Mu_MuFilter_TuneCUEP8M1_13TeV-pythia8%2FRunIIFall17MiniAODv2-PU2017_12Apr2018_94X_mc2017_realistic_v14-v1%2FMINIAODSIM&ajax=1&instance=prod%2Fglobal&view=   \n",
       "2  newwq                                                                                                                                                                                                                                        \n",
       "3  /crabcache/file?hashkey=c39a92b59d396e328ee405998022e54bc6ebd30254d90ee08882b5d6fb916d27                                                                                                                                                     \n",
       "4  /confdb/                                                                                                                                                                                                                                     \n",
       "\n",
       "                start  normFeatures_list  labels  features_list  \\\n",
       "0 2019-06-21 09:28:00  1.0                0       0.955556        \n",
       "1 2019-07-02 11:45:00  1.0                0       1.500000        \n",
       "2 2019-06-29 18:28:00  1.0                0       1.457131        \n",
       "3 2019-07-03 09:59:00  1.0                0       1.031250        \n",
       "4 2019-06-21 09:53:00  1.0                0       1.333333        \n",
       "\n",
       "                                                                                        features  \\\n",
       "0  [-0.5555555555555556, -0.28888888888888886, 0.6592592592592592, 0.9555555555555556]             \n",
       "1  [-0.5, 1.5, 0.0]                                                                                \n",
       "2  [0.5912314402585368, 0.6249677958823927, 1.4571312346041718]                                    \n",
       "3  [0.6249999999999999, -0.59375, 0.21874999999999994, -0.18750000000000006, 1.0312499999999998]   \n",
       "4  [1.3333333333333333, -0.6666666666666666]                                                       \n",
       "\n",
       "   new_label  \n",
       "0  1          \n",
       "1  1          \n",
       "2  1          \n",
       "3  1          \n",
       "4  1          "
      ]
     },
     "execution_count": 241,
     "metadata": {},
     "output_type": "execute_result"
    }
   ],
   "source": [
    "new_alert.filter('new_label==1 and labels==0').toPandas().head(5)"
   ]
  },
  {
   "cell_type": "code",
   "execution_count": 242,
   "metadata": {
    "scrolled": true
   },
   "outputs": [
    {
     "data": {
      "text/html": [
       "<div>\n",
       "<style scoped>\n",
       "    .dataframe tbody tr th:only-of-type {\n",
       "        vertical-align: middle;\n",
       "    }\n",
       "\n",
       "    .dataframe tbody tr th {\n",
       "        vertical-align: top;\n",
       "    }\n",
       "\n",
       "    .dataframe thead th {\n",
       "        text-align: right;\n",
       "    }\n",
       "</style>\n",
       "<table border=\"1\" class=\"dataframe\">\n",
       "  <thead>\n",
       "    <tr style=\"text-align: right;\">\n",
       "      <th></th>\n",
       "      <th>system</th>\n",
       "      <th>start</th>\n",
       "      <th>normFeatures_list</th>\n",
       "      <th>labels</th>\n",
       "      <th>features_list</th>\n",
       "      <th>features</th>\n",
       "      <th>new_label</th>\n",
       "    </tr>\n",
       "  </thead>\n",
       "  <tbody>\n",
       "    <tr>\n",
       "      <th>0</th>\n",
       "      <td>wmstatsserver</td>\n",
       "      <td>2019-07-03 04:01:00</td>\n",
       "      <td>0.360061</td>\n",
       "      <td>1</td>\n",
       "      <td>3.064622</td>\n",
       "      <td>[3.0646220871478937, 2.026937846678993, 2.044160821624535, 2.491958170208625, 2.9871186998929553, 0.20991398992432012, 8.511387913675527, 2.8105832067011507, 3.2583805552852407, 1.9537402031604398, 0.8127181130182874, 2.8794751064833184, 1.9967976405242946, 1.9408229719512835, 1.7728989662322496]</td>\n",
       "      <td>0</td>\n",
       "    </tr>\n",
       "    <tr>\n",
       "      <th>1</th>\n",
       "      <td>wmstatsserver</td>\n",
       "      <td>2019-07-03 05:14:00</td>\n",
       "      <td>0.382826</td>\n",
       "      <td>1</td>\n",
       "      <td>3.258381</td>\n",
       "      <td>[3.0646220871478937, 2.026937846678993, 2.044160821624535, 2.491958170208625, 2.9871186998929553, 0.20991398992432012, 8.511387913675527, 2.8105832067011507, 3.2583805552852407, 1.9537402031604398, 0.8127181130182874, 2.8794751064833184, 1.9967976405242946, 1.9408229719512835, 1.7728989662322496]</td>\n",
       "      <td>0</td>\n",
       "    </tr>\n",
       "    <tr>\n",
       "      <th>2</th>\n",
       "      <td>acdcserver</td>\n",
       "      <td>2019-07-03 10:29:00</td>\n",
       "      <td>0.521602</td>\n",
       "      <td>1</td>\n",
       "      <td>3.687440</td>\n",
       "      <td>[3.687440035635965, 1.247327302631579, 0.06858209978070176, 7.069447299890351, -0.1903011924342105, 4.205206620065789, 2.657415021929825, 2.4260725054824563, 1.2858843887061404, 1.7871265076754388, 0.7571014939692983, 6.243224026864035, -0.8898368969298246, 1.3740148711622808, 0.6138894599780702, 1.7045041803728072, 1.3299496299342106, 2.7069884183114037, 0.4541529605263158, 2.40954804002193, 1.946863007127193, 1.0710663377192982, 4.3318941885964914]</td>\n",
       "      <td>0</td>\n",
       "    </tr>\n",
       "    <tr>\n",
       "      <th>3</th>\n",
       "      <td>acdcserver</td>\n",
       "      <td>2019-07-03 07:13:00</td>\n",
       "      <td>0.594842</td>\n",
       "      <td>1</td>\n",
       "      <td>4.205207</td>\n",
       "      <td>[3.687440035635965, 1.247327302631579, 0.06858209978070176, 7.069447299890351, -0.1903011924342105, 4.205206620065789, 2.657415021929825, 2.4260725054824563, 1.2858843887061404, 1.7871265076754388, 0.7571014939692983, 6.243224026864035, -0.8898368969298246, 1.3740148711622808, 0.6138894599780702, 1.7045041803728072, 1.3299496299342106, 2.7069884183114037, 0.4541529605263158, 2.40954804002193, 1.946863007127193, 1.0710663377192982, 4.3318941885964914]</td>\n",
       "      <td>0</td>\n",
       "    </tr>\n",
       "    <tr>\n",
       "      <th>4</th>\n",
       "      <td>acdcserver</td>\n",
       "      <td>2019-07-03 10:13:00</td>\n",
       "      <td>0.883128</td>\n",
       "      <td>1</td>\n",
       "      <td>6.243224</td>\n",
       "      <td>[3.687440035635965, 1.247327302631579, 0.06858209978070176, 7.069447299890351, -0.1903011924342105, 4.205206620065789, 2.657415021929825, 2.4260725054824563, 1.2858843887061404, 1.7871265076754388, 0.7571014939692983, 6.243224026864035, -0.8898368969298246, 1.3740148711622808, 0.6138894599780702, 1.7045041803728072, 1.3299496299342106, 2.7069884183114037, 0.4541529605263158, 2.40954804002193, 1.946863007127193, 1.0710663377192982, 4.3318941885964914]</td>\n",
       "      <td>0</td>\n",
       "    </tr>\n",
       "  </tbody>\n",
       "</table>\n",
       "</div>"
      ],
      "text/plain": [
       "          system               start  normFeatures_list  labels  \\\n",
       "0  wmstatsserver 2019-07-03 04:01:00  0.360061           1        \n",
       "1  wmstatsserver 2019-07-03 05:14:00  0.382826           1        \n",
       "2  acdcserver    2019-07-03 10:29:00  0.521602           1        \n",
       "3  acdcserver    2019-07-03 07:13:00  0.594842           1        \n",
       "4  acdcserver    2019-07-03 10:13:00  0.883128           1        \n",
       "\n",
       "   features_list  \\\n",
       "0  3.064622        \n",
       "1  3.258381        \n",
       "2  3.687440        \n",
       "3  4.205207        \n",
       "4  6.243224        \n",
       "\n",
       "                                                                                                                                                                                                                                                                                                                                                                                                                                                                 features  \\\n",
       "0  [3.0646220871478937, 2.026937846678993, 2.044160821624535, 2.491958170208625, 2.9871186998929553, 0.20991398992432012, 8.511387913675527, 2.8105832067011507, 3.2583805552852407, 1.9537402031604398, 0.8127181130182874, 2.8794751064833184, 1.9967976405242946, 1.9408229719512835, 1.7728989662322496]                                                                                                                                                                \n",
       "1  [3.0646220871478937, 2.026937846678993, 2.044160821624535, 2.491958170208625, 2.9871186998929553, 0.20991398992432012, 8.511387913675527, 2.8105832067011507, 3.2583805552852407, 1.9537402031604398, 0.8127181130182874, 2.8794751064833184, 1.9967976405242946, 1.9408229719512835, 1.7728989662322496]                                                                                                                                                                \n",
       "2  [3.687440035635965, 1.247327302631579, 0.06858209978070176, 7.069447299890351, -0.1903011924342105, 4.205206620065789, 2.657415021929825, 2.4260725054824563, 1.2858843887061404, 1.7871265076754388, 0.7571014939692983, 6.243224026864035, -0.8898368969298246, 1.3740148711622808, 0.6138894599780702, 1.7045041803728072, 1.3299496299342106, 2.7069884183114037, 0.4541529605263158, 2.40954804002193, 1.946863007127193, 1.0710663377192982, 4.3318941885964914]   \n",
       "3  [3.687440035635965, 1.247327302631579, 0.06858209978070176, 7.069447299890351, -0.1903011924342105, 4.205206620065789, 2.657415021929825, 2.4260725054824563, 1.2858843887061404, 1.7871265076754388, 0.7571014939692983, 6.243224026864035, -0.8898368969298246, 1.3740148711622808, 0.6138894599780702, 1.7045041803728072, 1.3299496299342106, 2.7069884183114037, 0.4541529605263158, 2.40954804002193, 1.946863007127193, 1.0710663377192982, 4.3318941885964914]   \n",
       "4  [3.687440035635965, 1.247327302631579, 0.06858209978070176, 7.069447299890351, -0.1903011924342105, 4.205206620065789, 2.657415021929825, 2.4260725054824563, 1.2858843887061404, 1.7871265076754388, 0.7571014939692983, 6.243224026864035, -0.8898368969298246, 1.3740148711622808, 0.6138894599780702, 1.7045041803728072, 1.3299496299342106, 2.7069884183114037, 0.4541529605263158, 2.40954804002193, 1.946863007127193, 1.0710663377192982, 4.3318941885964914]   \n",
       "\n",
       "   new_label  \n",
       "0  0          \n",
       "1  0          \n",
       "2  0          \n",
       "3  0          \n",
       "4  0          "
      ]
     },
     "execution_count": 242,
     "metadata": {},
     "output_type": "execute_result"
    }
   ],
   "source": [
    "new_alert.filter('new_label==0 and labels==1').toPandas().head(5)"
   ]
  },
  {
   "cell_type": "markdown",
   "metadata": {},
   "source": []
  },
  {
   "cell_type": "code",
   "execution_count": 181,
   "metadata": {},
   "outputs": [],
   "source": [
    "import seaborn as sns\n",
    "import matplotlib.pyplot as plt\n",
    "import pandas as pd\n",
    "pdAlert= freq_analyze_df.toPandas()"
   ]
  },
  {
   "cell_type": "code",
   "execution_count": 54,
   "metadata": {},
   "outputs": [],
   "source": [
    "tags = pdAlert['window'].apply(pd.Series)\n",
    "pdAlert['start']= tags[0]\n",
    "pdAlert['end']= tags[1]\n",
    "filter_data = pdAlert.drop(['avg', 'diff','window'],axis=1)\n",
    "filter_data['start'] = pd.to_datetime(filter_data['start'], errors='coerce')\n",
    "filter_data=filter_data[(filter_data.system == '/couchdb/workqueue/_bulk_docs/')]\n",
    "# print(filter_data.head(20))\n",
    "filter_data.set_index('start', inplace=True)\n",
    "filter_data=filter_data.loc['2019-06-28':'2019-07-1']\n",
    "prep=filter_data[['count']]\n",
    "# prep.head(1000).plot()\n",
    "# filter_data=filter_data.resample('H')\\\n",
    "#        .mean()\\\n",
    "#        .interpolate('linear')\n",
    "# print(filter_data.head(20))"
   ]
  },
  {
   "cell_type": "code",
   "execution_count": null,
   "metadata": {},
   "outputs": [],
   "source": [
    "import statsmodels.api as sm\n",
    "import matplotlib.pyplot as plt\n",
    "%matplotlib inline\n",
    "# the main library has a small set of functionality\n",
    "from stldecompose import decompose, forecast\n",
    "from stldecompose.forecast_funcs import (naive,\n",
    "                                         drift, \n",
    "                                         mean, \n",
    "                                         seasonal_naive)"
   ]
  },
  {
   "cell_type": "code",
   "execution_count": null,
   "metadata": {},
   "outputs": [],
   "source": [
    "decomp = decompose(prep, period=24)"
   ]
  },
  {
   "cell_type": "code",
   "execution_count": null,
   "metadata": {},
   "outputs": [],
   "source": [
    "decomp.plot();\n",
    "plt.xlim('2019-06-29','2019-07-1');"
   ]
  },
  {
   "cell_type": "code",
   "execution_count": null,
   "metadata": {},
   "outputs": [],
   "source": [
    "import math as math\n",
    "train_factor=math.floor(len(prep)*0.7)\n",
    "short_prep = prep.head(train_factor)\n",
    "# apply the decomp to the truncated observation\n",
    "short_decomp = decompose(short_prep, period=24)"
   ]
  },
  {
   "cell_type": "code",
   "execution_count": null,
   "metadata": {},
   "outputs": [],
   "source": [
    "fcast = forecast(short_decomp, steps=8000, fc_func=drift,seasonal=True)"
   ]
  },
  {
   "cell_type": "code",
   "execution_count": null,
   "metadata": {},
   "outputs": [],
   "source": [
    "plt.plot(prep, '--', label='truth')\n",
    "plt.plot(short_prep, '--', label='obs')\n",
    "plt.plot(short_decomp.trend, ':', label='decomp.trend')\n",
    "plt.plot(fcast, '-', label=fcast.columns[0])\n",
    "plt.xlim('2019-06-30','2019-07-3')\n",
    "\n",
    "plt.ylim(0,100)\n",
    "plt.legend();"
   ]
  },
  {
   "cell_type": "code",
   "execution_count": 14,
   "metadata": {},
   "outputs": [],
   "source": [
    "from skmultiflow.data import DataStream\n",
    "from skmultiflow.trees import HoeffdingTree\n",
    "from skmultiflow.evaluation import EvaluatePrequential"
   ]
  },
  {
   "cell_type": "code",
   "execution_count": 23,
   "metadata": {},
   "outputs": [],
   "source": [
    "from pyspark.mllib.regression import LabeledPoint\n",
    "prep_df=(transform.select(col(\"label\"), col(\"features\"))\n",
    "  .rdd\n",
    "  .map(lambda row: LabeledPoint(row.label, as_old(row.features))))\n",
    "\n",
    "from pyspark.mllib import linalg as mllib_linalg\n",
    "from pyspark.ml import linalg as ml_linalg\n",
    "def as_old(v):\n",
    "    if isinstance(v, ml_linalg.SparseVector):\n",
    "        return mllib_linalg.SparseVector(v.size, v.indices, v.values)\n",
    "    if isinstance(v, ml_linalg.DenseVector):\n",
    "        return mllib_linalg.DenseVector(v.values)\n",
    "    raise ValueError(\"Unsupported type {0}\".format(type(v)))\n",
    " "
   ]
  },
  {
   "cell_type": "code",
   "execution_count": null,
   "metadata": {},
   "outputs": [],
   "source": [
    "from notifier import Notifier\n",
    "import json"
   ]
  },
  {
   "cell_type": "code",
   "execution_count": null,
   "metadata": {},
   "outputs": [],
   "source": [
    "# sns.set(style=\"ticks\", color_codes=True)\n",
    "# sns.relplot(x=\"start\", y=\"%diff\",hue=\"system\", kind=\"line\", data=pdAlert);"
   ]
  },
  {
   "cell_type": "code",
   "execution_count": null,
   "metadata": {},
   "outputs": [],
   "source": [
    "notifier = Notifier(config=json.loads(s='''\n",
    "{\n",
    "  \"cases\": {\n",
    "    \"exit_2\": {\n",
    "      \"alert_name\": \"cms-htcondor-es-validation\",\n",
    "      \"email\": {\n",
    "        \"send_ok\": true,\n",
    "        \"to\": [\n",
    "          \"yanisa.sunthornyotin@cern.ch\"\n",
    "        ]\n",
    "      },\n",
    "      \"entities\": [\n",
    "        \"default entity\"\n",
    "      ],\n",
    "      \"snow\": {\n",
    "        \"assignment_level\": 3,\n",
    "        \"functional_element\": \"\",\n",
    "        \"grouping\": true,\n",
    "        \"service_element\": \"MONITORING\"\n",
    "      },\n",
    "      \"source\": \"cms-monit-notifier\",\n",
    "      \"status\": \"ERROR\",\n",
    "      \"targets\": [\n",
    "        \"email\",\n",
    "        \"snow\"\n",
    "      ]\n",
    "    }\n",
    "  },\n",
    "  \"default_case\": {\n",
    "    \"alert_name\": \"cms-htcondor-es-validation\",\n",
    "    \"email\": {\n",
    "      \"send_ok\": true,\n",
    "      \"to\": [\n",
    "        \"yanisa.sunthornyotin@cern.ch\"\n",
    "      ]\n",
    "    },\n",
    "    \"entities\": [\n",
    "      \"default entity\"\n",
    "    ],\n",
    "    \"source\": \"cms-monit-notifier\",\n",
    "    \"status\": \"OK\",\n",
    "    \"targets\": [\n",
    "      \"email\"\n",
    "    ]\n",
    "  },\n",
    "  \"notification_endpoint\": \"http://monit-alarms.cern.ch:10011\"\n",
    "}'''\n",
    "                                    ))\n"
   ]
  },
  {
   "cell_type": "code",
   "execution_count": null,
   "metadata": {},
   "outputs": [],
   "source": [
    "sc.addPyFile('notifier.py')"
   ]
  },
  {
   "cell_type": "code",
   "execution_count": null,
   "metadata": {},
   "outputs": [],
   "source": [
    "alert_flow = filter_alert_data.writeStream\\\n",
    ".foreach(lambda alert: notifier.send_notification(subject=alert.system,description=json.dumps(alert.asDict(), default=str)))\\\n",
    ".start()"
   ]
  },
  {
   "cell_type": "code",
   "execution_count": null,
   "metadata": {},
   "outputs": [],
   "source": [
    "alert_flow.isActive"
   ]
  },
  {
   "cell_type": "code",
   "execution_count": null,
   "metadata": {},
   "outputs": [],
   "source": [
    "alert_flow.processAllAvailable()"
   ]
  },
  {
   "cell_type": "code",
   "execution_count": null,
   "metadata": {},
   "outputs": [],
   "source": [
    "alert_flow.stop()"
   ]
  },
  {
   "cell_type": "code",
   "execution_count": null,
   "metadata": {},
   "outputs": [],
   "source": [
    "hdfs_data_week_flow=raw_data.writeStream \\\n",
    ".outputMode(\"append\")\\\n",
    ".format(\"parquet\")\\\n",
    " .option(\"path\", \"/cms/users/carizapo/ming/moving_avg_cmsweb_logs\") \\\n",
    " .option(\"checkpointLocation\", \"/cms/users/carizapo/ming/checkpoint_moving_avg_cmsweb_logs\") \\\n",
    " .outputMode(\"append\") \\\n",
    " .start()"
   ]
  },
  {
   "cell_type": "code",
   "execution_count": null,
   "metadata": {},
   "outputs": [],
   "source": [
    "hdfs_data_week_flow.isActive"
   ]
  },
  {
   "cell_type": "code",
   "execution_count": null,
   "metadata": {},
   "outputs": [],
   "source": [
    "spark.streams.active"
   ]
  },
  {
   "cell_type": "code",
   "execution_count": null,
   "metadata": {},
   "outputs": [],
   "source": []
  }
 ],
 "metadata": {
  "kernelspec": {
   "display_name": "Python 3",
   "language": "python",
   "name": "python3"
  },
  "language_info": {
   "codemirror_mode": {
    "name": "ipython",
    "version": 3
   },
   "file_extension": ".py",
   "mimetype": "text/x-python",
   "name": "python",
   "nbconvert_exporter": "python",
   "pygments_lexer": "ipython3",
   "version": "3.6.5"
  },
  "sparkconnect": {
   "bundled_options": [],
   "list_of_options": [
    {
     "name": "spark.jars.packages",
     "value": "org.apache.spark:spark-sql-kafka-0-10_2.11:2.4.1"
    },
    {
     "name": "spark.jars",
     "value": "/eos/home-y/ysunthor/SWAN_projects/StreamingNotebook"
    }
   ]
  }
 },
 "nbformat": 4,
 "nbformat_minor": 2
}
