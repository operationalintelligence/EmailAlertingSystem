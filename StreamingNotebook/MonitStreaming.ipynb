{
 "cells": [
  {
   "cell_type": "markdown",
   "metadata": {},
   "source": [
    "## To-do list\n",
    "<li>Filter out large gap not alerting field</li>\n",
    "<li>Fix streaming abort(daily/weekly/monthly)</li>"
   ]
  },
  {
   "cell_type": "code",
   "execution_count": 1,
   "metadata": {},
   "outputs": [],
   "source": [
    "from pyspark.sql.functions import *\n",
    "from pyspark.sql.types import *\n",
    "from datetime import datetime\n",
    "from pyspark.sql.types import StructType\n",
    "import json\n",
    "emailSchema = StructType() \\\n",
    "        .add(\"metadata\", StructType()\\\n",
    "             .add(\"path\",StringType())\\\n",
    "             .add(\"_attachment_mimetype\",StringType())\\\n",
    "             .add(\"type_prefix\",StringType())\\\n",
    "             .add(\"host\",StringType())\\\n",
    "             .add(\"json\",StringType())\\\n",
    "             .add(\"producer\",StringType())\\\n",
    "             .add(\"topic\",StringType())\\\n",
    "             .add(\"_id\",StringType())\\\n",
    "             .add(\"type\",StringType())\\\n",
    "             .add(\"timestamp\",LongType())\\\n",
    "            )\\\n",
    "        .add(\"data\",StructType()\\\n",
    "             .add(\"code\",StringType())\\\n",
    "             .add(\"system\",StringType())\\\n",
    "             .add(\"uri_path\",StringType())\\\n",
    "             .add(\"method\",StringType())\\\n",
    "             .add(\"clientip\",StringType())\\\n",
    "             .add(\"client\",StringType())\\\n",
    "             .add(\"rec_date\",StringType())\\\n",
    "             .add(\"dn\",StringType())\\\n",
    "             .add(\"api\",StringType())\\\n",
    "             .add(\"rec_timestamp\",StringType())\\\n",
    "             .add(\"frontend\",StringType())\\\n",
    "            )\\"
   ]
  },
  {
   "cell_type": "code",
   "execution_count": 2,
   "metadata": {},
   "outputs": [
    {
     "name": "stdout",
     "output_type": "stream",
     "text": [
      "root\n",
      " |-- host: string (nullable = true)\n",
      " |-- timestamp: timestamp (nullable = true)\n",
      " |-- system: string (nullable = true)\n",
      " |-- user: string (nullable = true)\n",
      "\n"
     ]
    }
   ],
   "source": [
    "\n",
    "# Subscribe to 1 topic\n",
    "\n",
    "# .option(\"kafka.bootstrap.servers\", \"188.185.79.229:9092\")\\\n",
    "# .option(\"startingOffsets\", \"earliest\") \\\n",
    "\n",
    "raw_data = spark.readStream.format(\"kafka\")\\\n",
    ".option(\"kafka.bootstrap.servers\", \"monit-kafka.cern.ch:9092\")\\\n",
    ".option(\"subscribe\",\"cmsweb_logs\")\\\n",
    ".load()\\\n",
    ".select(\\\n",
    "        from_json(col(\"value\").cast(\"string\"),emailSchema)\\\n",
    "            .getField(\"metadata\").alias(\"metadata\").getField(\"host\").alias(\"host\")\\\n",
    "        ,col(\"timestamp\").alias(\"timestamp\")\\\n",
    "        ,from_json(col(\"value\").cast(\"string\"),emailSchema)\\\n",
    "            .getField(\"data\").alias(\"data\").getField(\"system\").alias(\"system\")\\\n",
    "        ,from_json(col(\"value\").cast(\"string\"),emailSchema)\\\n",
    "            .getField(\"data\").alias(\"data\").getField(\"dn\").alias(\"user\")\\\n",
    ")\n",
    "\n",
    "raw_data.printSchema()"
   ]
  },
  {
   "cell_type": "code",
   "execution_count": 3,
   "metadata": {},
   "outputs": [
    {
     "name": "stdout",
     "output_type": "stream",
     "text": [
      "root\n",
      " |-- window: struct (nullable = false)\n",
      " |    |-- start: timestamp (nullable = true)\n",
      " |    |-- end: timestamp (nullable = true)\n",
      " |-- system: string (nullable = true)\n",
      " |-- count: long (nullable = false)\n",
      "\n"
     ]
    }
   ],
   "source": [
    "groupped_data=raw_data\\\n",
    ".withWatermark(\"timestamp\", \"1 minute\")\\\n",
    ".groupBy(window('timestamp', \"1 minute\", \"1 minute\"),\"system\")\\\n",
    ".agg(count(\"system\").alias(\"count\"))\n",
    "groupped_data.printSchema()"
   ]
  },
  {
   "cell_type": "code",
   "execution_count": 8,
   "metadata": {},
   "outputs": [],
   "source": [
    "raw_data_flow = raw_data.writeStream.queryName(\"email\").outputMode(\"Append\").format(\"memory\").start()"
   ]
  },
  {
   "cell_type": "code",
   "execution_count": 9,
   "metadata": {},
   "outputs": [],
   "source": [
    "groupped_data_flow = groupped_data.writeStream.queryName(\"groupped_email\").outputMode(\"Append\").format(\"memory\").start()"
   ]
  },
  {
   "cell_type": "code",
   "execution_count": 29,
   "metadata": {},
   "outputs": [
    {
     "data": {
      "text/plain": [
       "[<pyspark.sql.streaming.StreamingQuery at 0x7faf702c3ac8>,\n",
       " <pyspark.sql.streaming.StreamingQuery at 0x7faf702c36a0>,\n",
       " <pyspark.sql.streaming.StreamingQuery at 0x7faf702c3748>,\n",
       " <pyspark.sql.streaming.StreamingQuery at 0x7faf702c3630>]"
      ]
     },
     "execution_count": 29,
     "metadata": {},
     "output_type": "execute_result"
    }
   ],
   "source": [
    "spark.streams.active"
   ]
  },
  {
   "cell_type": "code",
   "execution_count": 11,
   "metadata": {},
   "outputs": [
    {
     "data": {
      "text/plain": [
       "True"
      ]
     },
     "execution_count": 11,
     "metadata": {},
     "output_type": "execute_result"
    }
   ],
   "source": [
    "groupped_data_flow.isActive"
   ]
  },
  {
   "cell_type": "code",
   "execution_count": 10,
   "metadata": {},
   "outputs": [
    {
     "data": {
      "text/plain": [
       "True"
      ]
     },
     "execution_count": 10,
     "metadata": {},
     "output_type": "execute_result"
    }
   ],
   "source": [
    "raw_data_flow.isActive"
   ]
  },
  {
   "cell_type": "code",
   "execution_count": null,
   "metadata": {},
   "outputs": [],
   "source": [
    "# groupped_data_flow.processAllAvailable()\n",
    "# groupped_data_flow.lastProgress\n",
    "raw_data_flow.processAllAvailable()\n",
    "# hdfs_data_flow.processAllAvailable()"
   ]
  },
  {
   "cell_type": "code",
   "execution_count": null,
   "metadata": {},
   "outputs": [],
   "source": [
    "raw_data_flow.stop()"
   ]
  },
  {
   "cell_type": "code",
   "execution_count": null,
   "metadata": {},
   "outputs": [],
   "source": [
    "groupped_data_flow.stop()"
   ]
  },
  {
   "cell_type": "code",
   "execution_count": null,
   "metadata": {},
   "outputs": [],
   "source": [
    "alerts = spark.sql(\"select * from email\")\n",
    "alerts.show()"
   ]
  },
  {
   "cell_type": "code",
   "execution_count": null,
   "metadata": {},
   "outputs": [],
   "source": [
    "alerts = spark.sql(\"select * from groupped_email\")\n",
    "alerts.show()"
   ]
  },
  {
   "cell_type": "code",
   "execution_count": 15,
   "metadata": {},
   "outputs": [],
   "source": [
    "# hdfs_data_flow.isActive"
   ]
  },
  {
   "cell_type": "code",
   "execution_count": 11,
   "metadata": {},
   "outputs": [],
   "source": [
    "hdfs_data_flow=groupped_data.writeStream \\\n",
    ".outputMode(\"append\")\\\n",
    ".format(\"parquet\")\\\n",
    " .option(\"path\", \"/cms/users/carizapo/ming/groupdata_cmsweb_logs\") \\\n",
    " .option(\"checkpointLocation\", \"/cms/users/carizapo/ming/checkpoint_b_cmsweb_logs\") \\\n",
    " .outputMode(\"append\") \\\n",
    " .start()"
   ]
  },
  {
   "cell_type": "code",
   "execution_count": 3,
   "metadata": {},
   "outputs": [],
   "source": [
    "raw_data_old = spark.readStream.format(\"kafka\")\\\n",
    ".option(\"kafka.bootstrap.servers\", \"monit-kafka.cern.ch:9092\")\\\n",
    ".option(\"subscribe\",\"cmsweb_logs\")\\\n",
    ".option(\"auto.offset.reset\", \"earliest\")\\\n",
    ".option(\"startingOffsets\", \"earliest\")\\\n",
    ".load()\\\n",
    ".select(\\\n",
    "        from_json(col(\"value\").cast(\"string\"),emailSchema)\\\n",
    "            .getField(\"metadata\").alias(\"metadata\").getField(\"host\").alias(\"host\")\\\n",
    "        ,col(\"timestamp\").alias(\"timestamp\")\\\n",
    "        ,from_json(col(\"value\").cast(\"string\"),emailSchema)\\\n",
    "            .getField(\"data\").alias(\"data\").getField(\"system\").alias(\"system\")\\\n",
    "        ,from_json(col(\"value\").cast(\"string\"),emailSchema)\\\n",
    "            .getField(\"data\").alias(\"data\").getField(\"dn\").alias(\"user\")\\\n",
    ")\n"
   ]
  },
  {
   "cell_type": "code",
   "execution_count": 19,
   "metadata": {},
   "outputs": [],
   "source": [
    "groupped_data_hour=raw_data_old\\\n",
    ".withWatermark(\"timestamp\", \"15 minutes\")\\\n",
    ".groupBy(window('timestamp', \"1 hour\", \"30 minutes\"),\"system\")\\\n",
    ".agg(count(\"system\").alias(\"count\"))"
   ]
  },
  {
   "cell_type": "code",
   "execution_count": 20,
   "metadata": {},
   "outputs": [],
   "source": [
    "groupped_data_day=raw_data_old\\\n",
    ".withWatermark(\"timestamp\", \"1 hours\")\\\n",
    ".groupBy(window('timestamp', \"1 day\", \"1 day\"),\"system\")\\\n",
    ".agg(count(\"system\").alias(\"count\"))"
   ]
  },
  {
   "cell_type": "code",
   "execution_count": 21,
   "metadata": {},
   "outputs": [],
   "source": [
    "groupped_data_week=raw_data_old\\\n",
    ".withWatermark(\"timestamp\", \"1 hours\")\\\n",
    ".groupBy(window('timestamp', \"1 week\", \"1 week\"),\"system\")\\\n",
    ".agg(count(\"system\").alias(\"count\"))"
   ]
  },
  {
   "cell_type": "code",
   "execution_count": 22,
   "metadata": {},
   "outputs": [],
   "source": [
    "groupped_data_month=raw_data_old\\\n",
    ".withWatermark(\"timestamp\", \"1 hours\")\\\n",
    ".groupBy(window('timestamp', \"4 weeks\", \"2 weeks\"),\"system\")\\\n",
    ".agg(count(\"system\").alias(\"count\"))"
   ]
  },
  {
   "cell_type": "code",
   "execution_count": 23,
   "metadata": {},
   "outputs": [],
   "source": [
    "hdfs_data_hour_flow=groupped_data_hour.writeStream \\\n",
    ".outputMode(\"append\")\\\n",
    ".format(\"parquet\")\\\n",
    " .option(\"path\", \"/cms/users/carizapo/ming/groupdata_hour_cmsweb_logs\") \\\n",
    " .option(\"checkpointLocation\", \"/cms/users/carizapo/ming/checkpoint_1a_cmsweb_logs\") \\\n",
    " .outputMode(\"append\") \\\n",
    " .start()"
   ]
  },
  {
   "cell_type": "code",
   "execution_count": 24,
   "metadata": {},
   "outputs": [],
   "source": [
    "hdfs_data_day_flow=groupped_data_day.writeStream \\\n",
    ".outputMode(\"append\")\\\n",
    ".format(\"parquet\")\\\n",
    " .option(\"path\", \"/cms/users/carizapo/ming/groupdata_day_cmsweb_logs\") \\\n",
    " .option(\"checkpointLocation\", \"/cms/users/carizapo/ming/checkpoint_2a_cmsweb_logs\") \\\n",
    " .outputMode(\"append\") \\\n",
    " .start()"
   ]
  },
  {
   "cell_type": "code",
   "execution_count": 25,
   "metadata": {},
   "outputs": [],
   "source": [
    "hdfs_data_week_flow=groupped_data_week.writeStream \\\n",
    ".outputMode(\"append\")\\\n",
    ".format(\"parquet\")\\\n",
    " .option(\"path\", \"/cms/users/carizapo/ming/groupdata_week_cmsweb_logs\") \\\n",
    " .option(\"checkpointLocation\", \"/cms/users/carizapo/ming/checkpoint_3a_cmsweb_logs\") \\\n",
    " .outputMode(\"append\") \\\n",
    " .start()"
   ]
  },
  {
   "cell_type": "code",
   "execution_count": 26,
   "metadata": {},
   "outputs": [],
   "source": [
    "hdfs_data_month_flow=groupped_data_month.writeStream \\\n",
    ".outputMode(\"append\")\\\n",
    ".format(\"parquet\")\\\n",
    " .option(\"path\", \"/cms/users/carizapo/ming/groupdata_month_cmsweb_logs\") \\\n",
    " .option(\"checkpointLocation\", \"/cms/users/carizapo/ming/checkpoint_4a_cmsweb_logs\") \\\n",
    " .outputMode(\"append\") \\\n",
    " .start()"
   ]
  },
  {
   "cell_type": "code",
   "execution_count": 18,
   "metadata": {},
   "outputs": [],
   "source": [
    "# hdfs_data_flow.stop()\n",
    "hdfs_data_hour_flow.stop()\n",
    "hdfs_data_day_flow.stop()\n",
    "hdfs_data_week_flow.stop()\n",
    "hdfs_data_month_flow.stop()"
   ]
  },
  {
   "cell_type": "code",
   "execution_count": 33,
   "metadata": {},
   "outputs": [],
   "source": [
    "raw_data_old_flow=raw_data_old.writeStream.queryName(\"old_data\").outputMode(\"Append\").format(\"memory\").start()"
   ]
  },
  {
   "cell_type": "code",
   "execution_count": 55,
   "metadata": {},
   "outputs": [],
   "source": [
    "alerts = spark.sql(\"select * from old_data\")\n",
    "alerts.show()"
   ]
  },
  {
   "cell_type": "code",
   "execution_count": 36,
   "metadata": {},
   "outputs": [],
   "source": [
    "groupped_data_day_flow.stop()"
   ]
  },
  {
   "cell_type": "code",
   "execution_count": 30,
   "metadata": {},
   "outputs": [
    {
     "data": {
      "text/plain": [
       "True"
      ]
     },
     "execution_count": 30,
     "metadata": {},
     "output_type": "execute_result"
    }
   ],
   "source": [
    "hdfs_data_day_flow.isActive"
   ]
  },
  {
   "cell_type": "code",
   "execution_count": 34,
   "metadata": {},
   "outputs": [
    {
     "data": {
      "text/plain": [
       "True"
      ]
     },
     "execution_count": 34,
     "metadata": {},
     "output_type": "execute_result"
    }
   ],
   "source": [
    "raw_data_old_flow.isActive"
   ]
  },
  {
   "cell_type": "code",
   "execution_count": null,
   "metadata": {},
   "outputs": [],
   "source": []
  }
 ],
 "metadata": {
  "kernelspec": {
   "display_name": "Python 3",
   "language": "python",
   "name": "python3"
  },
  "language_info": {
   "codemirror_mode": {
    "name": "ipython",
    "version": 3
   },
   "file_extension": ".py",
   "mimetype": "text/x-python",
   "name": "python",
   "nbconvert_exporter": "python",
   "pygments_lexer": "ipython3",
   "version": "3.6.5"
  },
  "sparkconnect": {
   "bundled_options": [],
   "list_of_options": [
    {
     "name": "spark.jars.packages",
     "value": "org.apache.spark:spark-sql-kafka-0-10_2.11:2.4.1"
    },
    {
     "name": "spark.jars",
     "value": "/eos/home-y/ysunthor/SWAN_projects/StreamingNotebook"
    }
   ]
  }
 },
 "nbformat": 4,
 "nbformat_minor": 2
}
