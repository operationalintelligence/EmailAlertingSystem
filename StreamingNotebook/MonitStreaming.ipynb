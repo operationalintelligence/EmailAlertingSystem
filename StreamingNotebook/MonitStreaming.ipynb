{
 "cells": [
  {
   "cell_type": "markdown",
   "metadata": {},
   "source": [
    "## To-do list\n",
    "<li>Filter out large gap not alerting field</li>\n",
    "<li>Find rolling average</li>\n",
    "<li>Compare each new row with rolling average</li>"
   ]
  },
  {
   "cell_type": "code",
   "execution_count": null,
   "metadata": {},
   "outputs": [],
   "source": [
    "from pyspark.sql.functions import *\n",
    "from pyspark.sql.types import *\n",
    "from datetime import datetime\n",
    "from pyspark.sql.types import StructType\n",
    "import json\n",
    "emailSchema = StructType() \\\n",
    "        .add(\"metadata\", StructType()\\\n",
    "             .add(\"path\",StringType())\\\n",
    "             .add(\"_attachment_mimetype\",StringType())\\\n",
    "             .add(\"type_prefix\",StringType())\\\n",
    "             .add(\"host\",StringType())\\\n",
    "             .add(\"json\",StringType())\\\n",
    "             .add(\"producer\",StringType())\\\n",
    "             .add(\"topic\",StringType())\\\n",
    "             .add(\"_id\",StringType())\\\n",
    "             .add(\"type\",StringType())\\\n",
    "             .add(\"timestamp\",LongType())\\\n",
    "            )\\\n",
    "        .add(\"data\",StructType()\\\n",
    "             .add(\"code\",StringType())\\\n",
    "             .add(\"system\",StringType())\\\n",
    "             .add(\"uri_path\",StringType())\\\n",
    "             .add(\"method\",StringType())\\\n",
    "             .add(\"clientip\",StringType())\\\n",
    "             .add(\"client\",StringType())\\\n",
    "             .add(\"rec_date\",StringType())\\\n",
    "             .add(\"dn\",StringType())\\\n",
    "             .add(\"api\",StringType())\\\n",
    "             .add(\"rec_timestamp\",StringType())\\\n",
    "             .add(\"frontend\",StringType())\\\n",
    "            )\\"
   ]
  },
  {
   "cell_type": "code",
   "execution_count": null,
   "metadata": {},
   "outputs": [],
   "source": [
    "\n",
    "# Subscribe to 1 topic\n",
    "\n",
    "# .option(\"kafka.bootstrap.servers\", \"188.185.79.229:9092\")\\\n",
    "# .option(\"startingOffsets\", \"earliest\") \\\n",
    "\n",
    "raw_data = spark.readStream.format(\"kafka\")\\\n",
    ".option(\"kafka.bootstrap.servers\", \"monit-kafka.cern.ch:9092\")\\\n",
    ".option(\"subscribe\",\"cmsweb_logs\")\\\n",
    ".load()\\\n",
    ".select(\\\n",
    "        from_json(col(\"value\").cast(\"string\"),emailSchema)\\\n",
    "            .getField(\"metadata\").alias(\"metadata\").getField(\"host\").alias(\"host\")\\\n",
    "        ,col(\"timestamp\").alias(\"timestamp\")\\\n",
    "        ,from_json(col(\"value\").cast(\"string\"),emailSchema)\\\n",
    "            .getField(\"data\").alias(\"data\").getField(\"system\").alias(\"system\")\\\n",
    "        ,from_json(col(\"value\").cast(\"string\"),emailSchema)\\\n",
    "            .getField(\"data\").alias(\"data\").getField(\"dn\").alias(\"user\")\\\n",
    ")\n",
    "\n",
    "raw_data.printSchema()"
   ]
  },
  {
   "cell_type": "code",
   "execution_count": null,
   "metadata": {},
   "outputs": [],
   "source": [
    "groupped_data=raw_data\\\n",
    ".withWatermark(\"timestamp\", \"1 minute\")\\\n",
    ".groupBy(window('timestamp', \"1 minute\", \"1 minute\"),\"system\")\\\n",
    ".agg(count(\"system\").alias(\"count\"))\\\n",
    "\n",
    "groupped_data.printSchema()"
   ]
  },
  {
   "cell_type": "code",
   "execution_count": null,
   "metadata": {},
   "outputs": [],
   "source": [
    "\n",
    "#function to calculate number of seconds from number of days\n",
    "days = lambda i: i * 86400\n",
    "avg_data = groupped_data.withColumn('window.start', groupped_data.window.start.cast('timestamp'))\n",
    "\n",
    "#create window by casting timestamp to long (number of seconds)\n",
    "w = (Window.orderBy(col(\"window.start\").cast('long')).rangeBetween(-days(7), 0))\n",
    "\n",
    "avg_data = avg_data.withColumn('rolling_average',avg(\"count\").over(w))"
   ]
  },
  {
   "cell_type": "code",
   "execution_count": null,
   "metadata": {},
   "outputs": [],
   "source": [
    "raw_data_flow = raw_data.writeStream.queryName(\"email\").outputMode(\"Append\").format(\"memory\").start()\n",
    "groupped_data_flow = groupped_data.writeStream.queryName(\"groupped_email\").outputMode(\"Append\").format(\"memory\").start()\n",
    "\n",
    "average_data_flow = average_data.writeStream.queryName(\"average_email\").outputMode(\"Append\").format(\"memory\").start()"
   ]
  },
  {
   "cell_type": "code",
   "execution_count": null,
   "metadata": {},
   "outputs": [],
   "source": [
    "spark.streams.active"
   ]
  },
  {
   "cell_type": "code",
   "execution_count": null,
   "metadata": {},
   "outputs": [],
   "source": [
    "# groupped_data_flow.lastProgress\n",
    "# raw_data_flow.lastProgress"
   ]
  },
  {
   "cell_type": "code",
   "execution_count": null,
   "metadata": {},
   "outputs": [],
   "source": [
    "raw_data_flow.stop()\n",
    "groupped_data_flow.stop()"
   ]
  },
  {
   "cell_type": "code",
   "execution_count": null,
   "metadata": {},
   "outputs": [],
   "source": [
    "alerts = spark.sql(\"select * from email\")\n",
    "alerts.show()"
   ]
  },
  {
   "cell_type": "code",
   "execution_count": null,
   "metadata": {},
   "outputs": [],
   "source": [
    "alerts = spark.sql(\"select * from groupped_email\")\n",
    "alerts.show()"
   ]
  }
 ],
 "metadata": {
  "kernelspec": {
   "display_name": "Python 3",
   "language": "python",
   "name": "python3"
  },
  "language_info": {
   "codemirror_mode": {
    "name": "ipython",
    "version": 3
   },
   "file_extension": ".py",
   "mimetype": "text/x-python",
   "name": "python",
   "nbconvert_exporter": "python",
   "pygments_lexer": "ipython3",
   "version": "3.6.5"
  }
 },
 "nbformat": 4,
 "nbformat_minor": 2
}
