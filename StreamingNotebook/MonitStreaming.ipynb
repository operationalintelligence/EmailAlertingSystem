{
 "cells": [
  {
   "cell_type": "markdown",
   "metadata": {},
   "source": [
    "## To-do list\n",
    "<li>Filter out large gap not alerting field</li>\n",
    "<li>Fix streaming abort(daily/weekly/monthly)</li>"
   ]
  },
  {
   "cell_type": "code",
   "execution_count": 1,
   "metadata": {},
   "outputs": [],
   "source": [
    "from pyspark.sql.functions import *\n",
    "from pyspark.sql.types import *\n",
    "from datetime import datetime\n",
    "from pyspark.sql.types import StructType\n",
    "import json\n",
    "emailSchema = StructType() \\\n",
    "        .add(\"metadata\", StructType()\\\n",
    "             .add(\"path\",StringType())\\\n",
    "             .add(\"_attachment_mimetype\",StringType())\\\n",
    "             .add(\"type_prefix\",StringType())\\\n",
    "             .add(\"host\",StringType())\\\n",
    "             .add(\"json\",StringType())\\\n",
    "             .add(\"producer\",StringType())\\\n",
    "             .add(\"topic\",StringType())\\\n",
    "             .add(\"_id\",StringType())\\\n",
    "             .add(\"type\",StringType())\\\n",
    "             .add(\"timestamp\",LongType())\\\n",
    "            )\\\n",
    "        .add(\"data\",StructType()\\\n",
    "             .add(\"code\",StringType())\\\n",
    "             .add(\"system\",StringType())\\\n",
    "             .add(\"uri_path\",StringType())\\\n",
    "             .add(\"method\",StringType())\\\n",
    "             .add(\"clientip\",StringType())\\\n",
    "             .add(\"client\",StringType())\\\n",
    "             .add(\"rec_date\",StringType())\\\n",
    "             .add(\"dn\",StringType())\\\n",
    "             .add(\"api\",StringType())\\\n",
    "             .add(\"rec_timestamp\",StringType())\\\n",
    "             .add(\"frontend\",StringType())\\\n",
    "            )\\"
   ]
  },
  {
   "cell_type": "code",
   "execution_count": 2,
   "metadata": {},
   "outputs": [
    {
     "name": "stdout",
     "output_type": "stream",
     "text": [
      "root\n",
      " |-- host: string (nullable = true)\n",
      " |-- timestamp: timestamp (nullable = true)\n",
      " |-- system: string (nullable = true)\n",
      " |-- user: string (nullable = true)\n",
      " |-- api: string (nullable = true)\n",
      "\n"
     ]
    }
   ],
   "source": [
    "\n",
    "# Subscribe to 1 topic\n",
    "\n",
    "# .option(\"kafka.bootstrap.servers\", \"188.185.79.229:9092\")\\\n",
    "# .option(\"startingOffsets\", \"earliest\") \\\n",
    "\n",
    "raw_data = spark.readStream.format(\"kafka\")\\\n",
    ".option(\"kafka.bootstrap.servers\", \"monit-kafka.cern.ch:9092\")\\\n",
    ".option(\"subscribe\",\"cmsweb_logs\")\\\n",
    ".option(\"failOnDataLoss\",False)\\\n",
    ".load()\\\n",
    ".select(\\\n",
    "        from_json(col(\"value\").cast(\"string\"),emailSchema)\\\n",
    "            .getField(\"metadata\").alias(\"metadata\").getField(\"host\").alias(\"host\")\\\n",
    "        ,col(\"timestamp\").alias(\"timestamp\")\\\n",
    "        ,from_json(col(\"value\").cast(\"string\"),emailSchema)\\\n",
    "            .getField(\"data\").alias(\"data\").getField(\"system\").alias(\"system\")\\\n",
    "        ,from_json(col(\"value\").cast(\"string\"),emailSchema)\\\n",
    "            .getField(\"data\").alias(\"data\").getField(\"dn\").alias(\"user\")\\\n",
    "        ,from_json(col(\"value\").cast(\"string\"),emailSchema)\\\n",
    "            .getField(\"data\").alias(\"data\").getField(\"api\").alias(\"api\")\n",
    ")\n",
    "raw_data=raw_data.filter(~raw_data.system.rlike(\"^(%|/)\"))\n",
    "\n",
    "raw_data.printSchema()"
   ]
  },
  {
   "cell_type": "markdown",
   "metadata": {},
   "source": [
    "Exclude system starting with % and / from query system\n",
    "since they are not representing real CMS systems.\n"
   ]
  },
  {
   "cell_type": "code",
   "execution_count": 3,
   "metadata": {},
   "outputs": [
    {
     "name": "stdout",
     "output_type": "stream",
     "text": [
      "root\n",
      " |-- window: struct (nullable = false)\n",
      " |    |-- start: timestamp (nullable = true)\n",
      " |    |-- end: timestamp (nullable = true)\n",
      " |-- system: string (nullable = true)\n",
      " |-- api: string (nullable = true)\n",
      " |-- user: string (nullable = true)\n",
      " |-- count_req: long (nullable = false)\n",
      "\n"
     ]
    }
   ],
   "source": [
    "groupped_req_data=raw_data\\\n",
    ".withWatermark(\"timestamp\", \"1 minute\")\\\n",
    ".groupBy(window('timestamp', \"1 minute\", \"1 minute\"),\"system\",\"api\",\"user\")\\\n",
    ".agg(count(\"api\").alias(\"count_req\"))\n",
    "\n",
    "groupped_req_data.printSchema()"
   ]
  },
  {
   "cell_type": "code",
   "execution_count": 11,
   "metadata": {},
   "outputs": [],
   "source": [
    "raw_data_flow = raw_data.writeStream.queryName(\"email\").outputMode(\"Append\").format(\"memory\").start()"
   ]
  },
  {
   "cell_type": "code",
   "execution_count": 13,
   "metadata": {},
   "outputs": [],
   "source": [
    "groupped_req_flow = groupped_req_data.writeStream.queryName(\"groupped_req\").outputMode(\"Append\").format(\"memory\").start()"
   ]
  },
  {
   "cell_type": "code",
   "execution_count": 14,
   "metadata": {},
   "outputs": [],
   "source": [
    "req_hdfs_flow=groupped_req_data.writeStream \\\n",
    ".outputMode(\"append\")\\\n",
    ".format(\"parquet\")\\\n",
    " .option(\"path\", \"/cms/users/carizapo/ming/data_cmsweb_logs\") \\\n",
    " .option(\"checkpointLocation\", \"/cms/users/carizapo/ming/req_checkpoint_cmsweb_logs\") \\\n",
    " .outputMode(\"append\") \\\n",
    " .start()"
   ]
  },
  {
   "cell_type": "code",
   "execution_count": 15,
   "metadata": {},
   "outputs": [
    {
     "data": {
      "text/plain": [
       "[<pyspark.sql.streaming.StreamingQuery at 0x7f9328af7438>,\n",
       " <pyspark.sql.streaming.StreamingQuery at 0x7f9328b0b080>,\n",
       " <pyspark.sql.streaming.StreamingQuery at 0x7f9328af7208>]"
      ]
     },
     "execution_count": 15,
     "metadata": {},
     "output_type": "execute_result"
    }
   ],
   "source": [
    "spark.streams.active"
   ]
  },
  {
   "cell_type": "code",
   "execution_count": 3,
   "metadata": {},
   "outputs": [],
   "source": [
    "# groupped_data=raw_data\\\n",
    "# .withWatermark(\"timestamp\", \"1 minute\")\\\n",
    "# .groupBy(window('timestamp', \"1 minute\", \"1 minute\"),\"system\")\\\n",
    "# .agg(count(\"system\").alias(\"count\"))\n",
    "# groupped_data.printSchema()"
   ]
  },
  {
   "cell_type": "code",
   "execution_count": 77,
   "metadata": {},
   "outputs": [
    {
     "name": "stdout",
     "output_type": "stream",
     "text": [
      "root\n",
      " |-- window: struct (nullable = false)\n",
      " |    |-- start: timestamp (nullable = true)\n",
      " |    |-- end: timestamp (nullable = true)\n",
      " |-- system: string (nullable = true)\n",
      " |-- api: string (nullable = true)\n",
      " |-- user: string (nullable = true)\n",
      " |-- count_req_load: long (nullable = false)\n",
      "\n"
     ]
    }
   ],
   "source": [
    "# groupped_load_data=raw_data\\\n",
    "# .withWatermark(\"timestamp\", \"1 minute\")\\\n",
    "# .groupBy(window('timestamp', \"1 minute\", \"1 minute\"),\"system\",\"api\",\"user\")\\\n",
    "# .agg(count(\"api\").alias(\"count_req_load\"))\n",
    "\n",
    "# groupped_load_data.printSchema()"
   ]
  },
  {
   "cell_type": "code",
   "execution_count": 79,
   "metadata": {},
   "outputs": [
    {
     "name": "stdout",
     "output_type": "stream",
     "text": [
      "root\n",
      " |-- system: string (nullable = true)\n",
      " |-- window: struct (nullable = false)\n",
      " |    |-- start: timestamp (nullable = true)\n",
      " |    |-- end: timestamp (nullable = true)\n",
      " |-- api: string (nullable = true)\n",
      " |-- user: string (nullable = true)\n",
      " |-- count_req_load: long (nullable = false)\n",
      " |-- count_sys_load: long (nullable = false)\n",
      "\n"
     ]
    }
   ],
   "source": [
    "# groupped_sys_load=raw_data\\\n",
    "# .withWatermark(\"timestamp\", \"1 minute\")\\\n",
    "# .groupBy(window('timestamp', \"1 minute\", \"1 minute\"),\"system\")\\\n",
    "# .agg(count(\"system\").alias(\"count_sys_load\"))\n",
    "\n",
    "# groupped_load_data=groupped_load_data.join(groupped_sys_load,[\"system\",\"window\"],\"inner\")\n",
    "# groupped_load_data.printSchema()"
   ]
  },
  {
   "cell_type": "code",
   "execution_count": 81,
   "metadata": {},
   "outputs": [
    {
     "name": "stdout",
     "output_type": "stream",
     "text": [
      "root\n",
      " |-- user: string (nullable = true)\n",
      " |-- window: struct (nullable = false)\n",
      " |    |-- start: timestamp (nullable = true)\n",
      " |    |-- end: timestamp (nullable = true)\n",
      " |-- system: string (nullable = true)\n",
      " |-- api: string (nullable = true)\n",
      " |-- count_req_load: long (nullable = false)\n",
      " |-- count_sys_load: long (nullable = false)\n",
      " |-- count_user_load: long (nullable = false)\n",
      "\n"
     ]
    }
   ],
   "source": [
    "# groupped_user_load=raw_data\\\n",
    "# .withWatermark(\"timestamp\", \"1 minute\")\\\n",
    "# .groupBy(window('timestamp', \"1 minute\", \"1 minute\"),\"user\")\\\n",
    "# .agg(count(\"user\").alias(\"count_user_load\"))\n",
    "\n",
    "# groupped_load_data=groupped_load_data.join(groupped_user_load,[\"user\",\"window\"],\"inner\")\n",
    "# groupped_load_data.printSchema()"
   ]
  },
  {
   "cell_type": "code",
   "execution_count": 87,
   "metadata": {},
   "outputs": [
    {
     "name": "stdout",
     "output_type": "stream",
     "text": [
      "root\n",
      " |-- api: string (nullable = true)\n",
      " |-- window: struct (nullable = false)\n",
      " |    |-- start: timestamp (nullable = true)\n",
      " |    |-- end: timestamp (nullable = true)\n",
      " |-- user: string (nullable = true)\n",
      " |-- system: string (nullable = true)\n",
      " |-- count_req_load: long (nullable = false)\n",
      " |-- count_sys_load: long (nullable = false)\n",
      " |-- count_user_load: long (nullable = false)\n",
      " |-- count_api_load: long (nullable = false)\n",
      "\n"
     ]
    }
   ],
   "source": [
    "# groupped_api_load=raw_data\\\n",
    "# .withWatermark(\"timestamp\", \"1 minute\")\\\n",
    "# .groupBy(window('timestamp', \"1 minute\", \"1 minute\"),\"api\")\\\n",
    "# .agg(count(\"api\").alias(\"count_api_load\"))\n",
    "\n",
    "# groupped_load_data=groupped_load_data.join(groupped_api_load,[\"api\",\"window\"],\"inner\")\n",
    "# groupped_load_data.printSchema()"
   ]
  },
  {
   "cell_type": "code",
   "execution_count": 89,
   "metadata": {},
   "outputs": [],
   "source": [
    "# groupped_load_flow = groupped_load_data.writeStream.queryName(\"groupped_load\").outputMode(\"Append\").format(\"memory\").start()"
   ]
  },
  {
   "cell_type": "code",
   "execution_count": 63,
   "metadata": {},
   "outputs": [],
   "source": [
    "# groupped_data_flow = groupped_data.writeStream.queryName(\"groupped\").outputMode(\"Append\").format(\"memory\").start()"
   ]
  },
  {
   "cell_type": "code",
   "execution_count": 6,
   "metadata": {},
   "outputs": [],
   "source": [
    "# hdfs_data_flow=groupped_data.writeStream \\\n",
    "# .outputMode(\"append\")\\\n",
    "# .format(\"parquet\")\\\n",
    "#  .option(\"path\", \"/cms/users/carizapo/ming/groupdata_cmsweb_logs\") \\\n",
    "#  .option(\"checkpointLocation\", \"/cms/users/carizapo/ming/checkpoint_cmsweb_logs\") \\\n",
    "#  .outputMode(\"append\") \\\n",
    "#  .start()"
   ]
  },
  {
   "cell_type": "code",
   "execution_count": 11,
   "metadata": {},
   "outputs": [
    {
     "data": {
      "text/plain": [
       "True"
      ]
     },
     "execution_count": 11,
     "metadata": {},
     "output_type": "execute_result"
    }
   ],
   "source": [
    "# groupped_req_flow.lastProgress\n",
    "# groupped_req_flow.processAllAvailable()\n",
    "# groupped_req_flow.isActive\n",
    "# groupped_load_flow.lastProgress\n",
    "# groupped_load_flow.isActive\n",
    "# req_hdfs_flow.processAllAvailable()\n",
    "# req_hdfs_flow.lastProgress\n",
    "# req_hdfs_flow.isActive"
   ]
  },
  {
   "cell_type": "code",
   "execution_count": 54,
   "metadata": {},
   "outputs": [],
   "source": [
    "raw_data_flow.stop()"
   ]
  },
  {
   "cell_type": "code",
   "execution_count": 94,
   "metadata": {},
   "outputs": [],
   "source": [
    "groupped_req_flow.stop()\n",
    "req_hdfs_flow.stop()"
   ]
  },
  {
   "cell_type": "code",
   "execution_count": 86,
   "metadata": {},
   "outputs": [],
   "source": [
    "# groupped_data_flow.stop()\n",
    "# groupped_load_flow.stop()"
   ]
  },
  {
   "cell_type": "code",
   "execution_count": 93,
   "metadata": {},
   "outputs": [
    {
     "name": "stdout",
     "output_type": "stream",
     "text": [
      "+--------------------+-------------+--------------------+--------------------+---------+\n",
      "|              window|       system|                 api|                user|count_req|\n",
      "+--------------------+-------------+--------------------+--------------------+---------+\n",
      "|[2019-07-17 09:12...|      couchdb|pdmvserv_task_EXO...|/DC=ch/DC=cern/OU...|        1|\n",
      "|[2019-07-17 09:12...|      couchdb|pdmvserv_task_HIG...|/DC=ch/DC=cern/OU...|        1|\n",
      "|[2019-07-17 09:12...|      couchdb|pdmvserv_task_SUS...|/DC=ch/DC=cern/OU...|        1|\n",
      "|[2019-07-17 09:12...|      couchdb|pdmvserv_task_EXO...|/DC=ch/DC=cern/OU...|        1|\n",
      "|[2019-07-17 09:12...|      couchdb|nwickram_RVCMSSW_...|/DC=ch/DC=cern/OU...|        1|\n",
      "|[2019-07-17 09:12...|wmstatsserver|zhenhu_RVCMSSW_10...|/DC=ch/DC=cern/OU...|        1|\n",
      "|[2019-07-17 09:12...|      couchdb|cmsunified_ACDC0_...|/DC=ch/DC=cern/OU...|        1|\n",
      "|[2019-07-17 09:12...|      couchdb|cmsunified_ACDC0_...|/DC=ch/DC=cern/OU...|        1|\n",
      "|[2019-07-17 09:12...|      couchdb|pdmvserv_task_EXO...|/DC=ch/DC=cern/OU...|        1|\n",
      "|[2019-07-17 09:12...|      couchdb|asikdar_RVCMSSW_1...|/DC=ch/DC=cern/OU...|        1|\n",
      "|[2019-07-17 09:12...|      couchdb|pdmvserv_task_SMP...|/DC=ch/DC=cern/OU...|        1|\n",
      "|[2019-07-17 09:12...|      couchdb|pdmvserv_task_EXO...|/DC=ch/DC=cern/OU...|        2|\n",
      "|[2019-07-17 09:12...|      couchdb|pdmvserv_task_SMP...|/DC=ch/DC=cern/OU...|        1|\n",
      "|[2019-07-17 09:12...|      couchdb|cmsunified_ACDC0_...|/DC=ch/DC=cern/OU...|        1|\n",
      "|[2019-07-17 09:12...|   crabserver|   fileusertransfers|/DC=ch/DC=cern/OU...|        4|\n",
      "|[2019-07-17 09:12...|wmstatsserver|prebello_RVCMSSW_...|/DC=ch/DC=cern/OU...|        1|\n",
      "|[2019-07-17 09:12...|      couchdb|pdmvserv_task_HIG...|/DC=ch/DC=cern/OU...|        1|\n",
      "|[2019-07-17 09:12...|       phedex|             missing|                   -|        1|\n",
      "|[2019-07-17 09:12...|wmstatsserver|pdmvserv_task_HIG...|/DC=ch/DC=cern/OU...|        1|\n",
      "|[2019-07-17 09:12...|   crabserver|   fileusertransfers|/DC=ch/DC=cern/OU...|       65|\n",
      "+--------------------+-------------+--------------------+--------------------+---------+\n",
      "only showing top 20 rows\n",
      "\n"
     ]
    }
   ],
   "source": [
    "alerts = spark.sql(\"select * from groupped_req\")\n",
    "alerts.show()"
   ]
  },
  {
   "cell_type": "code",
   "execution_count": null,
   "metadata": {},
   "outputs": [],
   "source": [
    "raw_data_old = spark.readStream.format(\"kafka\")\\\n",
    ".option(\"kafka.bootstrap.servers\", \"monit-kafka.cern.ch:9092\")\\\n",
    ".option(\"subscribe\",\"cmsweb_logs\")\\\n",
    ".option(\"auto.offset.reset\", \"earliest\")\\\n",
    ".option(\"startingOffsets\", \"earliest\")\\\n",
    ".load()\\\n",
    ".select(\\\n",
    "        from_json(col(\"value\").cast(\"string\"),emailSchema)\\\n",
    "            .getField(\"metadata\").alias(\"metadata\").getField(\"host\").alias(\"host\")\\\n",
    "        ,col(\"timestamp\").alias(\"timestamp\")\\\n",
    "        ,from_json(col(\"value\").cast(\"string\"),emailSchema)\\\n",
    "            .getField(\"data\").alias(\"data\").getField(\"system\").alias(\"system\")\\\n",
    "        ,from_json(col(\"value\").cast(\"string\"),emailSchema)\\\n",
    "            .getField(\"data\").alias(\"data\").getField(\"dn\").alias(\"user\")\\\n",
    ")\n",
    "\n",
    "raw_data_old=raw_data_old.filter(~raw_data.system.rlike(\"^(%|/)\"))"
   ]
  },
  {
   "cell_type": "code",
   "execution_count": null,
   "metadata": {},
   "outputs": [],
   "source": [
    "groupped_data_hour=raw_data_old\\\n",
    ".withWatermark(\"timestamp\", \"15 minutes\")\\\n",
    ".groupBy(window('timestamp', \"1 hour\", \"30 minutes\"),\"system\")\\\n",
    ".agg(count(\"system\").alias(\"count\"))"
   ]
  },
  {
   "cell_type": "code",
   "execution_count": null,
   "metadata": {},
   "outputs": [],
   "source": [
    "groupped_data_day=raw_data_old\\\n",
    ".withWatermark(\"timestamp\", \"1 hours\")\\\n",
    ".groupBy(window('timestamp', \"1 day\", \"1 day\"),\"system\")\\\n",
    ".agg(count(\"system\").alias(\"count\"))"
   ]
  },
  {
   "cell_type": "code",
   "execution_count": null,
   "metadata": {},
   "outputs": [],
   "source": [
    "groupped_data_week=raw_data_old\\\n",
    ".withWatermark(\"timestamp\", \"1 hours\")\\\n",
    ".groupBy(window('timestamp', \"1 week\", \"1 week\"),\"system\")\\\n",
    ".agg(count(\"system\").alias(\"count\"))"
   ]
  },
  {
   "cell_type": "code",
   "execution_count": null,
   "metadata": {},
   "outputs": [],
   "source": [
    "groupped_data_month=raw_data_old\\\n",
    ".withWatermark(\"timestamp\", \"1 hours\")\\\n",
    ".groupBy(window('timestamp', \"4 weeks\", \"2 weeks\"),\"system\")\\\n",
    ".agg(count(\"system\").alias(\"count\"))"
   ]
  },
  {
   "cell_type": "code",
   "execution_count": null,
   "metadata": {},
   "outputs": [],
   "source": [
    "hdfs_data_hour_flow=groupped_data_hour.writeStream \\\n",
    ".outputMode(\"append\")\\\n",
    ".format(\"parquet\")\\\n",
    " .option(\"path\", \"/cms/users/carizapo/ming/groupdata_hour_cmsweb_logs\") \\\n",
    " .option(\"checkpointLocation\", \"/cms/users/carizapo/ming/checkpoint_1a_cmsweb_logs\") \\\n",
    " .outputMode(\"append\") \\\n",
    " .start()"
   ]
  },
  {
   "cell_type": "code",
   "execution_count": null,
   "metadata": {},
   "outputs": [],
   "source": [
    "hdfs_data_day_flow=groupped_data_day.writeStream \\\n",
    ".outputMode(\"append\")\\\n",
    ".format(\"parquet\")\\\n",
    " .option(\"path\", \"/cms/users/carizapo/ming/groupdata_day_cmsweb_logs\") \\\n",
    " .option(\"checkpointLocation\", \"/cms/users/carizapo/ming/checkpoint_2a_cmsweb_logs\") \\\n",
    " .outputMode(\"append\") \\\n",
    " .start()"
   ]
  },
  {
   "cell_type": "code",
   "execution_count": null,
   "metadata": {},
   "outputs": [],
   "source": [
    "hdfs_data_week_flow=groupped_data_week.writeStream \\\n",
    ".outputMode(\"append\")\\\n",
    ".format(\"parquet\")\\\n",
    " .option(\"path\", \"/cms/users/carizapo/ming/groupdata_week_cmsweb_logs\") \\\n",
    " .option(\"checkpointLocation\", \"/cms/users/carizapo/ming/checkpoint_3a_cmsweb_logs\") \\\n",
    " .outputMode(\"append\") \\\n",
    " .start()"
   ]
  },
  {
   "cell_type": "code",
   "execution_count": null,
   "metadata": {},
   "outputs": [],
   "source": [
    "hdfs_data_month_flow=groupped_data_month.writeStream \\\n",
    ".outputMode(\"append\")\\\n",
    ".format(\"parquet\")\\\n",
    " .option(\"path\", \"/cms/users/carizapo/ming/groupdata_month_cmsweb_logs\") \\\n",
    " .option(\"checkpointLocation\", \"/cms/users/carizapo/ming/checkpoint_4a_cmsweb_logs\") \\\n",
    " .outputMode(\"append\") \\\n",
    " .start()"
   ]
  },
  {
   "cell_type": "code",
   "execution_count": null,
   "metadata": {},
   "outputs": [],
   "source": [
    "# hdfs_data_flow.stop()\n",
    "hdfs_data_hour_flow.stop()\n",
    "hdfs_data_day_flow.stop()\n",
    "hdfs_data_week_flow.stop()\n",
    "hdfs_data_month_flow.stop()"
   ]
  },
  {
   "cell_type": "code",
   "execution_count": null,
   "metadata": {},
   "outputs": [],
   "source": [
    "raw_data_old_flow=raw_data_old.writeStream.queryName(\"old_data\").outputMode(\"Append\").format(\"memory\").start()"
   ]
  },
  {
   "cell_type": "code",
   "execution_count": null,
   "metadata": {},
   "outputs": [],
   "source": [
    "alerts = spark.sql(\"select * from old_data\")\n",
    "alerts.show()"
   ]
  },
  {
   "cell_type": "code",
   "execution_count": null,
   "metadata": {},
   "outputs": [],
   "source": []
  }
 ],
 "metadata": {
  "kernelspec": {
   "display_name": "Python 3",
   "language": "python",
   "name": "python3"
  },
  "language_info": {
   "codemirror_mode": {
    "name": "ipython",
    "version": 3
   },
   "file_extension": ".py",
   "mimetype": "text/x-python",
   "name": "python",
   "nbconvert_exporter": "python",
   "pygments_lexer": "ipython3",
   "version": "3.6.5"
  },
  "sparkconnect": {
   "bundled_options": [],
   "list_of_options": [
    {
     "name": "spark.jars.packages",
     "value": "org.apache.spark:spark-sql-kafka-0-10_2.11:2.4.1"
    },
    {
     "name": "spark.jars",
     "value": "/eos/home-y/ysunthor/SWAN_projects/StreamingNotebook"
    }
   ]
  }
 },
 "nbformat": 4,
 "nbformat_minor": 2
}
