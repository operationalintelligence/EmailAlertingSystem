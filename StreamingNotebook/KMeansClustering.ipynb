{
 "cells": [
  {
   "cell_type": "markdown",
   "metadata": {},
   "source": [
    "todo-list\n",
    "=========\n",
    "<li>Migrate static->stream(if possible)</li>\n",
    "<li>Find new efficient way to do pattern detection/anomaly detection</li>\n",
    "<li>Email alert config (now sent to yanisa.sunthornyotin@cern.ch)</li>"
   ]
  },
  {
   "cell_type": "code",
   "execution_count": null,
   "metadata": {},
   "outputs": [],
   "source": [
    "spark.streams.active"
   ]
  },
  {
   "cell_type": "code",
   "execution_count": 1,
   "metadata": {},
   "outputs": [],
   "source": [
    "from pyspark.sql.functions import *\n",
    "from pyspark.sql.types import *\n",
    "userSchema = StructType() \\\n",
    "        .add(\"window\",StructType()\\\n",
    "             .add(\"start\",TimestampType())\\\n",
    "             .add(\"end\",TimestampType()))\\\n",
    "        .add(\"system\", StringType())\\\n",
    "        .add(\"api\", StringType())\\\n",
    "        .add(\"user\", StringType())\\\n",
    "        .add(\"count_req\", LongType())"
   ]
  },
  {
   "cell_type": "code",
   "execution_count": 118,
   "metadata": {},
   "outputs": [
    {
     "name": "stdout",
     "output_type": "stream",
     "text": [
      "root\n",
      " |-- window: struct (nullable = true)\n",
      " |    |-- start: timestamp (nullable = true)\n",
      " |    |-- end: timestamp (nullable = true)\n",
      " |-- system: string (nullable = true)\n",
      " |-- api: string (nullable = true)\n",
      " |-- user: string (nullable = true)\n",
      " |-- count_req: long (nullable = true)\n",
      "\n"
     ]
    }
   ],
   "source": [
    "raw_data = spark\\\n",
    ".readStream.format(\"parquet\")\\\n",
    ".schema(userSchema)\\\n",
    ".load(\"/cms/users/carizapo/ming/data_cmsweb_logs\");\n",
    "raw_data.printSchema()"
   ]
  },
  {
   "cell_type": "code",
   "execution_count": null,
   "metadata": {},
   "outputs": [],
   "source": [
    "# raw_data_flow.lastProgress"
   ]
  },
  {
   "cell_type": "code",
   "execution_count": null,
   "metadata": {},
   "outputs": [],
   "source": [
    "# raw_data_flow = raw_data.writeStream.queryName(\"req\").outputMode(\"Append\").format(\"memory\").start()"
   ]
  },
  {
   "cell_type": "code",
   "execution_count": null,
   "metadata": {},
   "outputs": [],
   "source": [
    "# alerts = spark.sql(\"select * from req\")\n",
    "# alerts.show()"
   ]
  },
  {
   "cell_type": "code",
   "execution_count": 119,
   "metadata": {
    "scrolled": true
   },
   "outputs": [
    {
     "name": "stdout",
     "output_type": "stream",
     "text": [
      "root\n",
      " |-- window: struct (nullable = false)\n",
      " |    |-- start: timestamp (nullable = true)\n",
      " |    |-- end: timestamp (nullable = true)\n",
      " |-- system: string (nullable = true)\n",
      " |-- api: string (nullable = true)\n",
      " |-- user: string (nullable = true)\n",
      " |-- count_req: long (nullable = false)\n",
      "\n"
     ]
    }
   ],
   "source": [
    "temp_data = spark\\\n",
    ".read.format(\"parquet\")\\\n",
    ".load(\"/cms/users/carizapo/ming/data_cmsweb_logs\");\n",
    "temp_data.printSchema()"
   ]
  },
  {
   "cell_type": "code",
   "execution_count": 120,
   "metadata": {},
   "outputs": [],
   "source": [
    "temp_data=temp_data.sample(False, 0.1, seed=1).limit(2000)"
   ]
  },
  {
   "cell_type": "markdown",
   "metadata": {},
   "source": [
    "Calculate % Difference according to the mean of the amounth of email within 1 day\n",
    "-----------"
   ]
  },
  {
   "cell_type": "code",
   "execution_count": 121,
   "metadata": {},
   "outputs": [],
   "source": [
    "from pyspark.sql import Window\n",
    "obs_interval=window(\"window.start\", \"1 hour\")\n",
    "mean_interval=window(\"window.start\", \"1 day\")\n",
    "\n",
    "columns_drop=['diff_user','diff_api','diff_sys','diff_req']\n",
    "\n",
    "wo_sys = Window.partitionBy('system',obs_interval)\n",
    "wo_user = Window.partitionBy('user',obs_interval)\n",
    "wo_api = Window.partitionBy('api',obs_interval)\n",
    "wo_req = Window.partitionBy('system','user','api',obs_interval)\n",
    "\n",
    "\n",
    "wm_sys = Window.partitionBy('system',mean_interval)\n",
    "wm_user = Window.partitionBy('user',mean_interval)\n",
    "wm_api = Window.partitionBy('api',mean_interval)\n",
    "wm_req = Window.partitionBy('system','user','api',mean_interval)\n",
    "\n",
    "freq_analyze_df=temp_data\\\n",
    ".filter(\"user!='null' and user!='-'\")\\\n",
    ".select('*', sum('count_req').over(wo_req).alias('req_load'))\\\n",
    ".select('*', count('system').over(wo_sys).alias('system_load'))\\\n",
    ".select('*', count('api').over(wo_api).alias('api_load'))\\\n",
    ".select('*', count('user').over(wo_user).alias('user_load'))\n",
    "freq_analyze_df=freq_analyze_df\\\n",
    ".select('*', avg('req_load').over(wm_req).alias('avg_req'))\\\n",
    ".select('*', ((col('req_load') - first('avg_req').over(wo_req))).alias('diff_req'))\\\n",
    ".select('*', ((col('diff_req')/first('avg_req').over(wo_req))).alias('%diff_req'))\\\n",
    ".select('*', avg('system_load').over(wm_sys).alias('avg_sys'))\\\n",
    ".select('*', ((col('system_load') - first('avg_sys').over(wo_sys))).alias('diff_sys'))\\\n",
    ".select('*', ((col('diff_sys')/first('avg_sys').over(wo_sys))).alias('%diff_sys'))\\\n",
    ".select('*', avg('api_load').over(wm_api).alias('avg_api'))\\\n",
    ".select('*', ((col('api_load') - first('avg_api').over(wo_api))).alias('diff_api'))\\\n",
    ".select('*', ((col('diff_api')/first('avg_api').over(wo_api))).alias('%diff_api'))\\\n",
    ".select('*', avg('user_load').over(wm_user).alias('avg_user'))\\\n",
    ".select('*', ((col('user_load') - first('avg_user').over(wo_user))).alias('diff_user'))\\\n",
    ".select('*', ((col('diff_user')/first('avg_user').over(wo_user))).alias('%diff_user'))\\\n",
    ".drop(*columns_drop)\n",
    "#Todos:Transform/Refactor to UDF"
   ]
  },
  {
   "cell_type": "code",
   "execution_count": 122,
   "metadata": {},
   "outputs": [
    {
     "name": "stdout",
     "output_type": "stream",
     "text": [
      "root\n",
      " |-- system: string (nullable = true)\n",
      " |-- window: struct (nullable = true)\n",
      " |    |-- start: timestamp (nullable = true)\n",
      " |    |-- end: timestamp (nullable = true)\n",
      " |-- api: string (nullable = true)\n",
      " |-- user: string (nullable = true)\n",
      " |-- count_req: long (nullable = true)\n",
      " |-- req_load: long (nullable = true)\n",
      " |-- system_load: long (nullable = false)\n",
      " |-- api_load: long (nullable = false)\n",
      " |-- user_load: long (nullable = false)\n",
      " |-- avg_req: double (nullable = true)\n",
      " |-- %diff_req: double (nullable = true)\n",
      " |-- avg_sys: double (nullable = true)\n",
      " |-- %diff_sys: double (nullable = true)\n",
      " |-- avg_api: double (nullable = true)\n",
      " |-- %diff_api: double (nullable = true)\n",
      " |-- avg_user: double (nullable = true)\n",
      " |-- %diff_user: double (nullable = true)\n",
      "\n"
     ]
    }
   ],
   "source": [
    "joined_raw_data=raw_data.join(freq_analyze_df, [\"system\",\"window\",\"api\",\"user\",\"count_req\"], \"inner\")\n",
    "joined_raw_data.printSchema()"
   ]
  },
  {
   "cell_type": "code",
   "execution_count": 123,
   "metadata": {},
   "outputs": [],
   "source": [
    "full_diff_flow = joined_raw_data.writeStream.queryName(\"MLdf\").outputMode(\"Append\").format(\"memory\").start()"
   ]
  },
  {
   "cell_type": "code",
   "execution_count": 124,
   "metadata": {},
   "outputs": [],
   "source": [
    "full_difference_hdfs=joined_raw_data.writeStream\\\n",
    ".outputMode(\"append\")\\\n",
    ".format(\"parquet\")\\\n",
    " .option(\"path\", \"/cms/users/carizapo/ming/fullDiff_cmsweb_logs\") \\\n",
    " .option(\"checkpointLocation\", \"/cms/users/carizapo/ming/checkpoint_fullDiff_cmsweb_logs\") \\\n",
    " .outputMode(\"append\") \\\n",
    " .start()"
   ]
  },
  {
   "cell_type": "code",
   "execution_count": 116,
   "metadata": {},
   "outputs": [],
   "source": [
    "full_diff_flow.stop()\n",
    "full_difference_hdfs.stop()\n",
    "# raw_data_flow.stop()\n",
    "# filter_alert_data_flow.stop()\n",
    "# difference_hdfs_flow.stop()"
   ]
  },
  {
   "cell_type": "code",
   "execution_count": null,
   "metadata": {},
   "outputs": [],
   "source": [
    "full_diff_flow.isActive"
   ]
  },
  {
   "cell_type": "code",
   "execution_count": 125,
   "metadata": {},
   "outputs": [
    {
     "data": {
      "text/plain": [
       "[<pyspark.sql.streaming.StreamingQuery at 0x7f80b09b8240>,\n",
       " <pyspark.sql.streaming.StreamingQuery at 0x7f80a364e9e8>]"
      ]
     },
     "execution_count": 125,
     "metadata": {},
     "output_type": "execute_result"
    }
   ],
   "source": [
    "spark.streams.active"
   ]
  },
  {
   "cell_type": "code",
   "execution_count": 130,
   "metadata": {},
   "outputs": [
    {
     "data": {
      "text/plain": [
       "{'id': 'f0a71447-a762-48f6-911d-b1f95e7558e5',\n",
       " 'runId': 'd040d230-8479-47c7-9f91-f9c081d472fc',\n",
       " 'name': 'MLdf',\n",
       " 'timestamp': '2019-07-27T05:08:23.255Z',\n",
       " 'batchId': 0,\n",
       " 'numInputRows': 23803401,\n",
       " 'processedRowsPerSecond': 149905.85619910702,\n",
       " 'durationMs': {'addBatch': 121664,\n",
       "  'getBatch': 30917,\n",
       "  'getOffset': 2743,\n",
       "  'queryPlanning': 3363,\n",
       "  'triggerExecution': 158789,\n",
       "  'walCommit': 42},\n",
       " 'stateOperators': [],\n",
       " 'sources': [{'description': 'FileStreamSource[hdfs://analytix/cms/users/carizapo/ming/data_cmsweb_logs]',\n",
       "   'startOffset': None,\n",
       "   'endOffset': {'logOffset': 0},\n",
       "   'numInputRows': 23803401,\n",
       "   'processedRowsPerSecond': 149905.85619910702}],\n",
       " 'sink': {'description': 'MemorySink'}}"
      ]
     },
     "execution_count": 130,
     "metadata": {},
     "output_type": "execute_result"
    }
   ],
   "source": [
    "full_diff_flow.lastProgress\n",
    "# # full_difference_hdfs.lastProgress\n",
    "# raw_data_flow.lastProgress\n",
    "# full_diff_flow.processAllAvailable()"
   ]
  },
  {
   "cell_type": "code",
   "execution_count": 131,
   "metadata": {},
   "outputs": [],
   "source": [
    "alerts = spark.sql(\"select * from MLdf\")"
   ]
  },
  {
   "cell_type": "code",
   "execution_count": 132,
   "metadata": {},
   "outputs": [],
   "source": [
    "raw_data_init = alerts.withColumn('date',col(\"window.start\")).drop(col(\"window\"))"
   ]
  },
  {
   "cell_type": "code",
   "execution_count": 133,
   "metadata": {},
   "outputs": [],
   "source": [
    "from pyspark.ml import Pipeline\n",
    "from pyspark.ml.feature import StringIndexer, OneHotEncoderEstimator\n",
    "\n",
    "\n",
    "sys_indexer = StringIndexer(inputCol=\"system\", outputCol=\"system_hash\")\n",
    "user_indexer = StringIndexer(inputCol=\"user\", outputCol=\"user_hash\")\n",
    "api_indexer = StringIndexer(inputCol=\"api\", outputCol=\"api_hash\")\n",
    "inputs = [sys_indexer.getOutputCol(), user_indexer.getOutputCol(),api_indexer.getOutputCol()]\n",
    "encoder = OneHotEncoderEstimator(inputCols=inputs, outputCols=[\"system_vec\",\"user_vec\",\"api_vec\"])\n",
    "\n",
    "pipeline = Pipeline(stages=[sys_indexer,user_indexer,api_indexer, encoder])\n",
    "result=pipeline.fit(raw_data_init).transform(raw_data_init)"
   ]
  },
  {
   "cell_type": "code",
   "execution_count": null,
   "metadata": {},
   "outputs": [],
   "source": [
    "result.printSchema()"
   ]
  },
  {
   "cell_type": "code",
   "execution_count": 134,
   "metadata": {},
   "outputs": [],
   "source": [
    "%run StoreItemDemand/custom_transformers.ipynb"
   ]
  },
  {
   "cell_type": "code",
   "execution_count": 135,
   "metadata": {},
   "outputs": [],
   "source": [
    "train_data, test_data = result.randomSplit([0.8,0.2], seed=1234)"
   ]
  },
  {
   "cell_type": "code",
   "execution_count": 136,
   "metadata": {},
   "outputs": [],
   "source": [
    "df_train = train_data.withColumn('set', lit(0))\n",
    "df_train = df_train.withColumn('id', lit(-1))\n",
    "df_test = test_data.withColumn('set', lit(1))\n",
    "\n",
    "joined = df_test.union(df_train.select(*df_test.columns))\n",
    "\n",
    "train_data = joined.filter('set == 0')\n",
    "test_data = joined.filter('set == 1')"
   ]
  },
  {
   "cell_type": "code",
   "execution_count": 137,
   "metadata": {},
   "outputs": [],
   "source": [
    "train, validation = train_data.randomSplit([0.8,0.2], seed=1234)"
   ]
  },
  {
   "cell_type": "code",
   "execution_count": 138,
   "metadata": {},
   "outputs": [],
   "source": [
    "from pyspark.ml.feature import VectorAssembler\n",
    "from pyspark.ml.feature import MinMaxScaler,StandardScaler\n",
    "# Feature extraction\n",
    "dc = DateConverter(inputCol='date', outputCol='dateFormated')\n",
    "hrex = HourExtractor(inputCol='date')\n",
    "minex = MinExtractor(inputCol='date')\n",
    "dex = DayExtractor(inputCol='dateFormated')\n",
    "mex = MonthExtractor(inputCol='dateFormated')\n",
    "yex = YearExtractor(inputCol='dateFormated')\n",
    "wdex = WeekDayExtractor(inputCol='dateFormated')\n",
    "wex = WeekendExtractor()\n",
    "mbex = MonthBeginExtractor()\n",
    "meex = MonthEndExtractor()\n",
    "# Data process\n",
    "va = VectorAssembler(inputCols=[\"system_vec\",\"user_vec\",\"api_vec\",'count_req','%diff_req','%diff_sys','%diff_api','%diff_user'\\\n",
    "                                 ,'weekday', 'weekend', 'monthbegin', 'monthend','hour','minute', 'day', 'month', 'year'], outputCol=\"features\")\n",
    "# scaler = StandardScaler(inputCol=\"raw_features\", outputCol=\"features\", withStd=True, withMean=True)\n",
    "# scaler = MinMaxScaler(inputCol=\"raw_features\", outputCol=\"features\")\n",
    "\n",
    "pipeline = Pipeline(stages=[dc,hrex,minex, dex, mex,wdex,wex,mbex,meex, yex, va])"
   ]
  },
  {
   "cell_type": "code",
   "execution_count": 139,
   "metadata": {},
   "outputs": [],
   "source": [
    "pipiline_model = pipeline.fit(train)"
   ]
  },
  {
   "cell_type": "code",
   "execution_count": 140,
   "metadata": {},
   "outputs": [],
   "source": [
    "train_transformed = pipiline_model.transform(train)\n",
    "validation_transformed = pipiline_model.transform(validation)\n",
    "test_transformed = pipiline_model.transform(test_data)"
   ]
  },
  {
   "cell_type": "markdown",
   "metadata": {},
   "source": [
    "# Using Elbow method to determine which 'K' to use"
   ]
  },
  {
   "cell_type": "code",
   "execution_count": 104,
   "metadata": {},
   "outputs": [],
   "source": [
    "from pyspark.ml.clustering import KMeans\n",
    "from pyspark.ml.evaluation import ClusteringEvaluator\n",
    "import matplotlib.pyplot as plt\n",
    "import numpy as np\n",
    "\n",
    "cost = np.zeros(20)\n",
    "for k in range(2,20):\n",
    "    kmeans = KMeans().setK(k).setSeed(1).setFeaturesCol(\"features\")\n",
    "    model = kmeans.fit(train_transformed)\n",
    "#     .sample(False,0.1, seed=1)\n",
    "    cost[k] = model.computeCost(train_transformed) # requires Spark 2.0 or later"
   ]
  },
  {
   "cell_type": "code",
   "execution_count": 105,
   "metadata": {},
   "outputs": [
    {
     "data": {
      "text/plain": [
       "Text(0,0.5,'cost')"
      ]
     },
     "execution_count": 105,
     "metadata": {},
     "output_type": "execute_result"
    },
    {
     "data": {
      "image/png": "[encoded data removed]",
      "text/plain": [
       "<Figure size 576x432 with 1 Axes>"
      ]
     },
     "metadata": {},
     "output_type": "display_data"
    }
   ],
   "source": [
    "fig, ax = plt.subplots(1,1, figsize =(8,6))\n",
    "ax.plot(range(2,20),cost[2:20])\n",
    "ax.set_xlabel('k')\n",
    "ax.set_ylabel('cost')"
   ]
  },
  {
   "cell_type": "markdown",
   "metadata": {},
   "source": [
    "From the graph, we choose the k that start to make no change to y-axis"
   ]
  },
  {
   "cell_type": "markdown",
   "metadata": {},
   "source": [
    "# Create the model and train/predict the data"
   ]
  },
  {
   "cell_type": "code",
   "execution_count": 141,
   "metadata": {},
   "outputs": [],
   "source": [
    "from numpy import array\n",
    "from math import sqrt\n",
    "\n",
    "kmeans = KMeans(k=10, seed=1)  # 10 clusters here\n",
    "model = kmeans.fit(train_transformed.select('features'))"
   ]
  },
  {
   "cell_type": "code",
   "execution_count": 142,
   "metadata": {},
   "outputs": [],
   "source": [
    "predictions = model.transform(train_transformed)"
   ]
  },
  {
   "cell_type": "code",
   "execution_count": 70,
   "metadata": {},
   "outputs": [],
   "source": [
    "# predictions = model.transform(test_transformed)"
   ]
  },
  {
   "cell_type": "markdown",
   "metadata": {},
   "source": [
    "# Kmeans Model evaluation using Silhouette method"
   ]
  },
  {
   "cell_type": "code",
   "execution_count": 143,
   "metadata": {},
   "outputs": [
    {
     "name": "stdout",
     "output_type": "stream",
     "text": [
      "Silhouette with squared euclidean distance = 0.5894087161853002\n"
     ]
    }
   ],
   "source": [
    "# Evaluate clustering by computing Silhouette score\n",
    "evaluator = ClusteringEvaluator()\n",
    "silhouette = evaluator.evaluate(predictions)\n",
    "print(\"Silhouette with squared euclidean distance = \" + str(silhouette))"
   ]
  },
  {
   "cell_type": "markdown",
   "metadata": {},
   "source": [
    "Label the outlier to spark dataframe\n",
    "<li>Add calculated distance column to predictions dataframe</li>\n",
    "<li>Drop unnecessary column from predictions dataframe</li>\n",
    "<li>Add Max_distance/Label column to dataframe</li>"
   ]
  },
  {
   "cell_type": "code",
   "execution_count": 151,
   "metadata": {},
   "outputs": [],
   "source": [
    "from scipy.spatial import distance\n",
    "columns_drop=['system_hash','user_hash','api_hash','system_vec','user_vec','api_vec','dateFormated','hour','minute'\\\n",
    "             ,'day','month','year','weekday','weekend','monthbegin','monthend','features']\n",
    "centers = model.clusterCenters()\n",
    "# print(len(centers))\n",
    "# for center in centers:\n",
    "#     print(center)\n",
    "fixed_entry = centers #for example, the entry against which you want distances\n",
    "distance_udf = udf(lambda x,y: float(distance.euclidean(x, fixed_entry[y])), FloatType())\n",
    "predictions = predictions.withColumn('distances', distance_udf(col('features'),col('prediction')))\\\n",
    ".select('*', avg('distances').over(Window.partitionBy('prediction')).alias('avg_distances'),\\\n",
    "       stddev('distances').over(Window.partitionBy('prediction')).alias('std_distances'),\\\n",
    "       max('distances').over(Window.partitionBy('prediction')).alias('max_distances'))\\\n",
    ".drop(*columns_drop)\n",
    "\n",
    "# max_dist_df = predictions.groupBy(\"prediction\")\\\n",
    "# .agg(max(\"distances\").alias(\"max_dist\"))\n",
    "# predictions=predictions.join(max_dist_df, [\"prediction\"], \"inner\")\n"
   ]
  },
  {
   "cell_type": "code",
   "execution_count": 38,
   "metadata": {},
   "outputs": [
    {
     "name": "stdout",
     "output_type": "stream",
     "text": [
      "root\n",
      " |-- system: string (nullable = true)\n",
      " |-- api: string (nullable = true)\n",
      " |-- user: string (nullable = true)\n",
      " |-- count_req: long (nullable = true)\n",
      " |-- req_load: long (nullable = true)\n",
      " |-- system_load: long (nullable = false)\n",
      " |-- api_load: long (nullable = false)\n",
      " |-- user_load: long (nullable = false)\n",
      " |-- avg_req: double (nullable = true)\n",
      " |-- %diff_req: double (nullable = true)\n",
      " |-- avg_sys: double (nullable = true)\n",
      " |-- %diff_sys: double (nullable = true)\n",
      " |-- avg_api: double (nullable = true)\n",
      " |-- %diff_api: double (nullable = true)\n",
      " |-- avg_user: double (nullable = true)\n",
      " |-- %diff_user: double (nullable = true)\n",
      " |-- date: timestamp (nullable = true)\n",
      " |-- set: integer (nullable = false)\n",
      " |-- prediction: integer (nullable = false)\n",
      " |-- distances: float (nullable = true)\n",
      " |-- avg_distances: double (nullable = true)\n",
      " |-- std_distances: double (nullable = true)\n",
      " |-- max_distances: float (nullable = true)\n",
      "\n"
     ]
    }
   ],
   "source": [
    "predictions.printSchema()"
   ]
  },
  {
   "cell_type": "markdown",
   "metadata": {},
   "source": [
    "# 2 Benchmark for detect outlier\n",
    "<li>Define outlier region to be +/- 10% of the max value</li>\n",
    "<li>Define the datapoint that have the distances further than 2 standard deviation of the mean distance per cluster as an outlier</li>"
   ]
  },
  {
   "cell_type": "code",
   "execution_count": 39,
   "metadata": {},
   "outputs": [],
   "source": [
    "# outlier_factor=0.1\n",
    "# alert_udf= udf(lambda max_distances,dist: dist>= max_distances-(max_distances*outlier_factor), BooleanType())\n",
    "alert_udf= udf(lambda avg_dist,std_dist,dist: dist>= avg_dist+2*std_dist, BooleanType())\n",
    "alerts = predictions.withColumn('label', alert_udf(col('avg_distances'),col('std_distances'),col('distances')))"
   ]
  },
  {
   "cell_type": "markdown",
   "metadata": {},
   "source": [
    "# Publish new alert from Kmeans "
   ]
  },
  {
   "cell_type": "code",
   "execution_count": 40,
   "metadata": {},
   "outputs": [],
   "source": [
    "alerts_broadcast= alerts.select([c for c in alerts.columns if c in\\\n",
    "                                 {'label','system','api','user','date'}]).where(alerts.label==1)\n",
    "alerts_broadcast=alerts_broadcast.toDF('system_temp', 'api_temp','user_temp','date','label')"
   ]
  },
  {
   "cell_type": "code",
   "execution_count": null,
   "metadata": {},
   "outputs": [],
   "source": [
    "alerts_broadcast.printSchema()"
   ]
  },
  {
   "cell_type": "code",
   "execution_count": 41,
   "metadata": {},
   "outputs": [
    {
     "name": "stdout",
     "output_type": "stream",
     "text": [
      "root\n",
      " |-- window: struct (nullable = true)\n",
      " |    |-- start: timestamp (nullable = true)\n",
      " |    |-- end: timestamp (nullable = true)\n",
      " |-- system: string (nullable = true)\n",
      " |-- api: string (nullable = true)\n",
      " |-- user: string (nullable = true)\n",
      " |-- count_req: long (nullable = true)\n",
      " |-- label: boolean (nullable = true)\n",
      "\n"
     ]
    }
   ],
   "source": [
    "alerts_email=raw_data.join(alerts_broadcast,[alerts_broadcast.date==raw_data.window.start,\\\n",
    "                                             alerts_broadcast.user_temp==raw_data.user,\\\n",
    "                                            alerts_broadcast.api_temp==raw_data.api,\\\n",
    "                                            alerts_broadcast.system_temp==raw_data.system] , \"inner\")\\\n",
    "                    .drop('system_temp','api_temp','user_temp','date')\n",
    "alerts_email.printSchema()"
   ]
  },
  {
   "cell_type": "code",
   "execution_count": null,
   "metadata": {},
   "outputs": [],
   "source": []
  },
  {
   "cell_type": "markdown",
   "metadata": {},
   "source": [
    "# Take a glimpse of how the training result looks like"
   ]
  },
  {
   "cell_type": "code",
   "execution_count": 152,
   "metadata": {},
   "outputs": [
    {
     "name": "stdout",
     "output_type": "stream",
     "text": [
      "['phedex' 'couchdb' 'crabserver' 'reqmgr2' 'crabcache' 'dqm' 'dbs'\n",
      " 'scheddmon' 'wmstats' 'sitedb' 'das' 'wmstatsserver']\n"
     ]
    }
   ],
   "source": [
    "transform_df=predictions.toPandas()\n",
    "# transform_df.head(10)\n",
    "print(transform_df['system'].unique())"
   ]
  },
  {
   "cell_type": "code",
   "execution_count": 224,
   "metadata": {},
   "outputs": [
    {
     "data": {
      "text/html": [
       "<div>\n",
       "<style scoped>\n",
       "    .dataframe tbody tr th:only-of-type {\n",
       "        vertical-align: middle;\n",
       "    }\n",
       "\n",
       "    .dataframe tbody tr th {\n",
       "        vertical-align: top;\n",
       "    }\n",
       "\n",
       "    .dataframe thead th {\n",
       "        text-align: right;\n",
       "    }\n",
       "</style>\n",
       "<table border=\"1\" class=\"dataframe\">\n",
       "  <thead>\n",
       "    <tr style=\"text-align: right;\">\n",
       "      <th></th>\n",
       "      <th>system</th>\n",
       "      <th>api</th>\n",
       "      <th>user</th>\n",
       "      <th>count_req</th>\n",
       "      <th>req_load</th>\n",
       "      <th>system_load</th>\n",
       "      <th>api_load</th>\n",
       "      <th>user_load</th>\n",
       "      <th>avg_req</th>\n",
       "      <th>%diff_req</th>\n",
       "      <th>...</th>\n",
       "      <th>avg_user</th>\n",
       "      <th>%diff_user</th>\n",
       "      <th>date</th>\n",
       "      <th>set</th>\n",
       "      <th>prediction</th>\n",
       "      <th>distances</th>\n",
       "      <th>avg_distances</th>\n",
       "      <th>std_distances</th>\n",
       "      <th>max_distances</th>\n",
       "      <th>outlier</th>\n",
       "    </tr>\n",
       "  </thead>\n",
       "  <tbody>\n",
       "    <tr>\n",
       "      <th>0</th>\n",
       "      <td>phedex</td>\n",
       "      <td>filereplicas</td>\n",
       "      <td>/DC=ch/DC=cern/OU=Organic Units/OU=Users/CN=dy...</td>\n",
       "      <td>1187</td>\n",
       "      <td>1850</td>\n",
       "      <td>12</td>\n",
       "      <td>2</td>\n",
       "      <td>2</td>\n",
       "      <td>1850.0</td>\n",
       "      <td>0.0</td>\n",
       "      <td>...</td>\n",
       "      <td>2.000000</td>\n",
       "      <td>0.000000</td>\n",
       "      <td>2019-07-19 13:00:00</td>\n",
       "      <td>0</td>\n",
       "      <td>1</td>\n",
       "      <td>0.000000</td>\n",
       "      <td>0.000000</td>\n",
       "      <td>NaN</td>\n",
       "      <td>0.000000</td>\n",
       "      <td>False</td>\n",
       "    </tr>\n",
       "    <tr>\n",
       "      <th>49</th>\n",
       "      <td>phedex</td>\n",
       "      <td>lfn2pfn</td>\n",
       "      <td>/DC=ch/DC=cern/OU=Organic Units/OU=Users/CN=vc...</td>\n",
       "      <td>5</td>\n",
       "      <td>5</td>\n",
       "      <td>16</td>\n",
       "      <td>7</td>\n",
       "      <td>2</td>\n",
       "      <td>5.0</td>\n",
       "      <td>0.0</td>\n",
       "      <td>...</td>\n",
       "      <td>1.666667</td>\n",
       "      <td>0.200000</td>\n",
       "      <td>2019-07-19 12:38:00</td>\n",
       "      <td>0</td>\n",
       "      <td>6</td>\n",
       "      <td>7.366225</td>\n",
       "      <td>3.112477</td>\n",
       "      <td>1.660669</td>\n",
       "      <td>9.066560</td>\n",
       "      <td>True</td>\n",
       "    </tr>\n",
       "    <tr>\n",
       "      <th>93</th>\n",
       "      <td>phedex</td>\n",
       "      <td>lfn2pfn</td>\n",
       "      <td>/DC=ch/DC=cern/OU=Organic Units/OU=Users/CN=ab...</td>\n",
       "      <td>1</td>\n",
       "      <td>1</td>\n",
       "      <td>16</td>\n",
       "      <td>7</td>\n",
       "      <td>2</td>\n",
       "      <td>1.0</td>\n",
       "      <td>0.0</td>\n",
       "      <td>...</td>\n",
       "      <td>1.666667</td>\n",
       "      <td>0.200000</td>\n",
       "      <td>2019-07-19 12:47:00</td>\n",
       "      <td>0</td>\n",
       "      <td>6</td>\n",
       "      <td>3.657042</td>\n",
       "      <td>3.112477</td>\n",
       "      <td>1.660669</td>\n",
       "      <td>9.066560</td>\n",
       "      <td>False</td>\n",
       "    </tr>\n",
       "    <tr>\n",
       "      <th>105</th>\n",
       "      <td>phedex</td>\n",
       "      <td>blockreplicas</td>\n",
       "      <td>/DC=ch/DC=cern/OU=Organic Units/OU=Users/CN=pa...</td>\n",
       "      <td>2</td>\n",
       "      <td>2</td>\n",
       "      <td>10</td>\n",
       "      <td>2</td>\n",
       "      <td>1</td>\n",
       "      <td>2.0</td>\n",
       "      <td>0.0</td>\n",
       "      <td>...</td>\n",
       "      <td>1.000000</td>\n",
       "      <td>0.000000</td>\n",
       "      <td>2019-07-19 11:46:00</td>\n",
       "      <td>0</td>\n",
       "      <td>6</td>\n",
       "      <td>3.086715</td>\n",
       "      <td>3.112477</td>\n",
       "      <td>1.660669</td>\n",
       "      <td>9.066560</td>\n",
       "      <td>False</td>\n",
       "    </tr>\n",
       "    <tr>\n",
       "      <th>143</th>\n",
       "      <td>phedex</td>\n",
       "      <td>filereplicas</td>\n",
       "      <td>/DC=ch/DC=cern/OU=Organic Units/OU=Users/CN=dy...</td>\n",
       "      <td>663</td>\n",
       "      <td>1850</td>\n",
       "      <td>12</td>\n",
       "      <td>2</td>\n",
       "      <td>2</td>\n",
       "      <td>1850.0</td>\n",
       "      <td>0.0</td>\n",
       "      <td>...</td>\n",
       "      <td>2.000000</td>\n",
       "      <td>0.000000</td>\n",
       "      <td>2019-07-19 13:23:00</td>\n",
       "      <td>0</td>\n",
       "      <td>3</td>\n",
       "      <td>21.974728</td>\n",
       "      <td>21.974728</td>\n",
       "      <td>0.000000</td>\n",
       "      <td>21.974728</td>\n",
       "      <td>True</td>\n",
       "    </tr>\n",
       "    <tr>\n",
       "      <th>164</th>\n",
       "      <td>phedex</td>\n",
       "      <td>lfn2pfn</td>\n",
       "      <td>/DC=ch/DC=cern/OU=Organic Units/OU=Users/CN=hc...</td>\n",
       "      <td>2</td>\n",
       "      <td>2</td>\n",
       "      <td>12</td>\n",
       "      <td>6</td>\n",
       "      <td>2</td>\n",
       "      <td>2.0</td>\n",
       "      <td>0.0</td>\n",
       "      <td>...</td>\n",
       "      <td>1.500000</td>\n",
       "      <td>0.333333</td>\n",
       "      <td>2019-07-19 13:28:00</td>\n",
       "      <td>0</td>\n",
       "      <td>5</td>\n",
       "      <td>3.217069</td>\n",
       "      <td>4.877465</td>\n",
       "      <td>2.033205</td>\n",
       "      <td>17.125338</td>\n",
       "      <td>False</td>\n",
       "    </tr>\n",
       "    <tr>\n",
       "      <th>202</th>\n",
       "      <td>phedex</td>\n",
       "      <td>inject</td>\n",
       "      <td>/DC=ch/DC=cern/OU=computers/CN=tier0/vocms001....</td>\n",
       "      <td>7</td>\n",
       "      <td>7</td>\n",
       "      <td>12</td>\n",
       "      <td>2</td>\n",
       "      <td>1</td>\n",
       "      <td>7.0</td>\n",
       "      <td>0.0</td>\n",
       "      <td>...</td>\n",
       "      <td>3.000000</td>\n",
       "      <td>-0.666667</td>\n",
       "      <td>2019-07-19 13:28:00</td>\n",
       "      <td>0</td>\n",
       "      <td>5</td>\n",
       "      <td>6.306994</td>\n",
       "      <td>4.877465</td>\n",
       "      <td>2.033205</td>\n",
       "      <td>17.125338</td>\n",
       "      <td>False</td>\n",
       "    </tr>\n",
       "    <tr>\n",
       "      <th>207</th>\n",
       "      <td>phedex</td>\n",
       "      <td>lfn2pfn</td>\n",
       "      <td>/DC=ch/DC=cern/OU=Organic Units/OU=Users/CN=co...</td>\n",
       "      <td>7</td>\n",
       "      <td>7</td>\n",
       "      <td>16</td>\n",
       "      <td>7</td>\n",
       "      <td>2</td>\n",
       "      <td>7.0</td>\n",
       "      <td>0.0</td>\n",
       "      <td>...</td>\n",
       "      <td>2.000000</td>\n",
       "      <td>0.000000</td>\n",
       "      <td>2019-07-19 12:19:00</td>\n",
       "      <td>0</td>\n",
       "      <td>5</td>\n",
       "      <td>8.979800</td>\n",
       "      <td>4.877465</td>\n",
       "      <td>2.033205</td>\n",
       "      <td>17.125338</td>\n",
       "      <td>True</td>\n",
       "    </tr>\n",
       "    <tr>\n",
       "      <th>220</th>\n",
       "      <td>phedex</td>\n",
       "      <td>lfn2pfn</td>\n",
       "      <td>/DC=ch/DC=cern/OU=Organic Units/OU=Users/CN=dm...</td>\n",
       "      <td>2</td>\n",
       "      <td>2</td>\n",
       "      <td>10</td>\n",
       "      <td>6</td>\n",
       "      <td>9</td>\n",
       "      <td>2.0</td>\n",
       "      <td>0.0</td>\n",
       "      <td>...</td>\n",
       "      <td>14.435897</td>\n",
       "      <td>-0.376554</td>\n",
       "      <td>2019-07-19 11:31:00</td>\n",
       "      <td>0</td>\n",
       "      <td>5</td>\n",
       "      <td>5.644970</td>\n",
       "      <td>4.877465</td>\n",
       "      <td>2.033205</td>\n",
       "      <td>17.125338</td>\n",
       "      <td>False</td>\n",
       "    </tr>\n",
       "    <tr>\n",
       "      <th>236</th>\n",
       "      <td>phedex</td>\n",
       "      <td>Activity::QualityPlots</td>\n",
       "      <td>/DC=ch/DC=cern/OU=Organic Units/OU=Users/CN=dh...</td>\n",
       "      <td>2</td>\n",
       "      <td>2</td>\n",
       "      <td>10</td>\n",
       "      <td>1</td>\n",
       "      <td>1</td>\n",
       "      <td>2.0</td>\n",
       "      <td>0.0</td>\n",
       "      <td>...</td>\n",
       "      <td>1.000000</td>\n",
       "      <td>0.000000</td>\n",
       "      <td>2019-07-19 11:29:00</td>\n",
       "      <td>0</td>\n",
       "      <td>5</td>\n",
       "      <td>3.899492</td>\n",
       "      <td>4.877465</td>\n",
       "      <td>2.033205</td>\n",
       "      <td>17.125338</td>\n",
       "      <td>False</td>\n",
       "    </tr>\n",
       "  </tbody>\n",
       "</table>\n",
       "<p>10 rows × 24 columns</p>\n",
       "</div>"
      ],
      "text/plain": [
       "     system                     api  \\\n",
       "0    phedex            filereplicas   \n",
       "49   phedex                 lfn2pfn   \n",
       "93   phedex                 lfn2pfn   \n",
       "105  phedex           blockreplicas   \n",
       "143  phedex            filereplicas   \n",
       "164  phedex                 lfn2pfn   \n",
       "202  phedex                  inject   \n",
       "207  phedex                 lfn2pfn   \n",
       "220  phedex                 lfn2pfn   \n",
       "236  phedex  Activity::QualityPlots   \n",
       "\n",
       "                                                  user  count_req  req_load  \\\n",
       "0    /DC=ch/DC=cern/OU=Organic Units/OU=Users/CN=dy...       1187      1850   \n",
       "49   /DC=ch/DC=cern/OU=Organic Units/OU=Users/CN=vc...          5         5   \n",
       "93   /DC=ch/DC=cern/OU=Organic Units/OU=Users/CN=ab...          1         1   \n",
       "105  /DC=ch/DC=cern/OU=Organic Units/OU=Users/CN=pa...          2         2   \n",
       "143  /DC=ch/DC=cern/OU=Organic Units/OU=Users/CN=dy...        663      1850   \n",
       "164  /DC=ch/DC=cern/OU=Organic Units/OU=Users/CN=hc...          2         2   \n",
       "202  /DC=ch/DC=cern/OU=computers/CN=tier0/vocms001....          7         7   \n",
       "207  /DC=ch/DC=cern/OU=Organic Units/OU=Users/CN=co...          7         7   \n",
       "220  /DC=ch/DC=cern/OU=Organic Units/OU=Users/CN=dm...          2         2   \n",
       "236  /DC=ch/DC=cern/OU=Organic Units/OU=Users/CN=dh...          2         2   \n",
       "\n",
       "     system_load  api_load  user_load  avg_req  %diff_req   ...      avg_user  \\\n",
       "0             12         2          2   1850.0        0.0   ...      2.000000   \n",
       "49            16         7          2      5.0        0.0   ...      1.666667   \n",
       "93            16         7          2      1.0        0.0   ...      1.666667   \n",
       "105           10         2          1      2.0        0.0   ...      1.000000   \n",
       "143           12         2          2   1850.0        0.0   ...      2.000000   \n",
       "164           12         6          2      2.0        0.0   ...      1.500000   \n",
       "202           12         2          1      7.0        0.0   ...      3.000000   \n",
       "207           16         7          2      7.0        0.0   ...      2.000000   \n",
       "220           10         6          9      2.0        0.0   ...     14.435897   \n",
       "236           10         1          1      2.0        0.0   ...      1.000000   \n",
       "\n",
       "     %diff_user                date  set  prediction  distances avg_distances  \\\n",
       "0      0.000000 2019-07-19 13:00:00    0           1   0.000000      0.000000   \n",
       "49     0.200000 2019-07-19 12:38:00    0           6   7.366225      3.112477   \n",
       "93     0.200000 2019-07-19 12:47:00    0           6   3.657042      3.112477   \n",
       "105    0.000000 2019-07-19 11:46:00    0           6   3.086715      3.112477   \n",
       "143    0.000000 2019-07-19 13:23:00    0           3  21.974728     21.974728   \n",
       "164    0.333333 2019-07-19 13:28:00    0           5   3.217069      4.877465   \n",
       "202   -0.666667 2019-07-19 13:28:00    0           5   6.306994      4.877465   \n",
       "207    0.000000 2019-07-19 12:19:00    0           5   8.979800      4.877465   \n",
       "220   -0.376554 2019-07-19 11:31:00    0           5   5.644970      4.877465   \n",
       "236    0.000000 2019-07-19 11:29:00    0           5   3.899492      4.877465   \n",
       "\n",
       "     std_distances  max_distances  outlier  \n",
       "0              NaN       0.000000    False  \n",
       "49        1.660669       9.066560     True  \n",
       "93        1.660669       9.066560    False  \n",
       "105       1.660669       9.066560    False  \n",
       "143       0.000000      21.974728     True  \n",
       "164       2.033205      17.125338    False  \n",
       "202       2.033205      17.125338    False  \n",
       "207       2.033205      17.125338     True  \n",
       "220       2.033205      17.125338    False  \n",
       "236       2.033205      17.125338    False  \n",
       "\n",
       "[10 rows x 24 columns]"
      ]
     },
     "execution_count": 224,
     "metadata": {},
     "output_type": "execute_result"
    }
   ],
   "source": [
    "import pandas as pd\n",
    "filter_data=transform_df[(transform_df.system =='phedex')]\n",
    "filter_data.loc[:,'outlier']=filter_data.apply(lambda x:x['distances']>=x['avg_distances']+x['std_distances'],axis=1)\n",
    "filter_data[filter_data.avg_distances>=0].head(10)"
   ]
  },
  {
   "cell_type": "code",
   "execution_count": 225,
   "metadata": {},
   "outputs": [],
   "source": [
    "filter_data.set_index('date', inplace=True)"
   ]
  },
  {
   "cell_type": "markdown",
   "metadata": {},
   "source": [
    "Calculate the Euclidean distance and label the outlier\n",
    "\n",
    "Make the group of furthest point from cluster center to be the outlier"
   ]
  },
  {
   "cell_type": "code",
   "execution_count": 226,
   "metadata": {},
   "outputs": [],
   "source": [
    "# import math\n",
    "# max_df=(filter_data.groupby('prediction'))['distances'].max()\n",
    "# outlier_factor=0.4\n",
    "# filter_data.loc[:,'outlier']=filter_data.apply(lambda x:x['distances']>= max_df.loc[x['prediction']]-(max_df.loc[x['prediction']]*outlier_factor), axis=1)"
   ]
  },
  {
   "cell_type": "code",
   "execution_count": 227,
   "metadata": {},
   "outputs": [],
   "source": [
    "prep=filter_data[['%diff_req','%diff_sys','%diff_api','%diff_user']]\n",
    "label=filter_data[['outlier']]"
   ]
  },
  {
   "cell_type": "code",
   "execution_count": 229,
   "metadata": {},
   "outputs": [
    {
     "data": {
      "text/plain": [
       "[<matplotlib.lines.Line2D at 0x7f80a2387a20>]"
      ]
     },
     "execution_count": 229,
     "metadata": {},
     "output_type": "execute_result"
    },
    {
     "data": {
      "image/png": "[encoded data removed]",
      "text/plain": [
       "<Figure size 432x288 with 1 Axes>"
      ]
     },
     "metadata": {},
     "output_type": "display_data"
    }
   ],
   "source": [
    "%matplotlib inline\n",
    "\n",
    "# prep_fix=prep.loc['2019-07-19 11:02:00':'2019-07-19 12:26:00']\n",
    "# label_fix=label.loc['2019-07-19 11:02:00':'2019-07-19 12:26:00']\n",
    "# prep_fix.plot()\n",
    "# plt.plot(prep_fix.index,label_fix.outlier,'o')\n",
    "prep.plot()\n",
    "plt.plot(prep.index,label.outlier,'o')"
   ]
  },
  {
   "cell_type": "code",
   "execution_count": null,
   "metadata": {},
   "outputs": [],
   "source": []
  },
  {
   "cell_type": "markdown",
   "metadata": {},
   "source": [
    "# Email notifier"
   ]
  },
  {
   "cell_type": "code",
   "execution_count": null,
   "metadata": {},
   "outputs": [],
   "source": [
    "from notifier import Notifier\n",
    "import json\n",
    "notifier = Notifier(config=json.loads(s='''\n",
    "{\n",
    "  \"cases\": {\n",
    "    \"exit_2\": {\n",
    "      \"alert_name\": \"cms-htcondor-es-validation\",\n",
    "      \"email\": {\n",
    "        \"send_ok\": true,\n",
    "        \"to\": [\n",
    "          \"yanisa.sunthornyotin@cern.ch\"\n",
    "        ]\n",
    "      },\n",
    "      \"entities\": [\n",
    "        \"default entity\"\n",
    "      ],\n",
    "      \"snow\": {\n",
    "        \"assignment_level\": 3,\n",
    "        \"functional_element\": \"\",\n",
    "        \"grouping\": true,\n",
    "        \"service_element\": \"MONITORING\"\n",
    "      },\n",
    "      \"source\": \"cms-monit-notifier\",\n",
    "      \"status\": \"ERROR\",\n",
    "      \"targets\": [\n",
    "        \"email\",\n",
    "        \"snow\"\n",
    "      ]\n",
    "    }\n",
    "  },\n",
    "  \"default_case\": {\n",
    "    \"alert_name\": \"cms-htcondor-es-validation\",\n",
    "    \"email\": {\n",
    "      \"send_ok\": true,\n",
    "      \"to\": [\n",
    "        \"yanisa.sunthornyotin@cern.ch\"\n",
    "      ]\n",
    "    },\n",
    "    \"entities\": [\n",
    "      \"default entity\"\n",
    "    ],\n",
    "    \"source\": \"cms-monit-notifier\",\n",
    "    \"status\": \"OK\",\n",
    "    \"targets\": [\n",
    "      \"email\"\n",
    "    ]\n",
    "  },\n",
    "  \"notification_endpoint\": \"http://monit-alarms.cern.ch:10011\"\n",
    "}'''\n",
    "                                    ))\n",
    "sc.addPyFile('notifier.py')"
   ]
  },
  {
   "cell_type": "code",
   "execution_count": null,
   "metadata": {},
   "outputs": [],
   "source": [
    "alert_flow = alerts_email.writeStream\\\n",
    ".foreach(lambda alert: notifier.send_notification(subject=alert.system,description=json.dumps(alert.asDict(), default=str)))\\\n",
    ".start()"
   ]
  }
 ],
 "metadata": {
  "kernelspec": {
   "display_name": "Python 3",
   "language": "python",
   "name": "python3"
  },
  "language_info": {
   "codemirror_mode": {
    "name": "ipython",
    "version": 3
   },
   "file_extension": ".py",
   "mimetype": "text/x-python",
   "name": "python",
   "nbconvert_exporter": "python",
   "pygments_lexer": "ipython3",
   "version": "3.6.5"
  },
  "sparkconnect": {
   "bundled_options": [],
   "list_of_options": [
    {
     "name": "spark.driver.memory",
     "value": "10g"
    },
    {
     "name": "spark.executor.instances",
     "value": "10"
    },
    {
     "name": "spark.executor.memory",
     "value": "10g"
    },
    {
     "name": "spark.driver.memoryOverhead",
     "value": "10g"
    }
   ]
  }
 },
 "nbformat": 4,
 "nbformat_minor": 2
}
