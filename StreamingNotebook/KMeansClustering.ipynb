{
 "cells": [
  {
   "cell_type": "markdown",
   "metadata": {},
   "source": [
    "todo-list\n",
    "=========\n",
    "<li>Migrate static->stream(if possible)</li>\n",
    "<li>Find new efficient way to do pattern detection/anomaly detection</li>\n",
    "<li>Email alert config (now sent to yanisa.sunthornyotin@cern.ch)</li>"
   ]
  },
  {
   "cell_type": "code",
   "execution_count": null,
   "metadata": {},
   "outputs": [],
   "source": [
    "spark.streams.active"
   ]
  },
  {
   "cell_type": "code",
   "execution_count": 3,
   "metadata": {},
   "outputs": [],
   "source": [
    "from pyspark.sql.functions import *\n",
    "from pyspark.sql.types import *\n",
    "userSchema = StructType() \\\n",
    "        .add(\"window\",StructType()\\\n",
    "             .add(\"start\",TimestampType())\\\n",
    "             .add(\"end\",TimestampType()))\\\n",
    "        .add(\"system\", StringType())\\\n",
    "        .add(\"api\", StringType())\\\n",
    "        .add(\"user\", StringType())\\\n",
    "        .add(\"count_req\", LongType())"
   ]
  },
  {
   "cell_type": "code",
   "execution_count": 4,
   "metadata": {},
   "outputs": [
    {
     "name": "stdout",
     "output_type": "stream",
     "text": [
      "root\n",
      " |-- window: struct (nullable = true)\n",
      " |    |-- start: timestamp (nullable = true)\n",
      " |    |-- end: timestamp (nullable = true)\n",
      " |-- system: string (nullable = true)\n",
      " |-- api: string (nullable = true)\n",
      " |-- user: string (nullable = true)\n",
      " |-- count_req: long (nullable = true)\n",
      "\n"
     ]
    }
   ],
   "source": [
    "raw_data = spark\\\n",
    ".readStream.format(\"parquet\")\\\n",
    ".schema(userSchema)\\\n",
    ".load(\"/cms/users/carizapo/ming/data_cmsweb_logs\");\n",
    "raw_data.printSchema()"
   ]
  },
  {
   "cell_type": "code",
   "execution_count": 3,
   "metadata": {},
   "outputs": [],
   "source": [
    "# raw_data_flow.lastProgress"
   ]
  },
  {
   "cell_type": "code",
   "execution_count": null,
   "metadata": {},
   "outputs": [],
   "source": [
    "# raw_data_flow = raw_data.writeStream.queryName(\"req\").outputMode(\"Append\").format(\"memory\").start()"
   ]
  },
  {
   "cell_type": "code",
   "execution_count": null,
   "metadata": {},
   "outputs": [],
   "source": [
    "# alerts = spark.sql(\"select * from req\")\n",
    "# alerts.show()"
   ]
  },
  {
   "cell_type": "code",
   "execution_count": 5,
   "metadata": {
    "scrolled": true
   },
   "outputs": [
    {
     "name": "stdout",
     "output_type": "stream",
     "text": [
      "root\n",
      " |-- window: struct (nullable = false)\n",
      " |    |-- start: timestamp (nullable = true)\n",
      " |    |-- end: timestamp (nullable = true)\n",
      " |-- system: string (nullable = true)\n",
      " |-- api: string (nullable = true)\n",
      " |-- user: string (nullable = true)\n",
      " |-- count_req: long (nullable = false)\n",
      "\n"
     ]
    }
   ],
   "source": [
    "temp_data = spark\\\n",
    ".read.format(\"parquet\")\\\n",
    ".load(\"/cms/users/carizapo/ming/data_cmsweb_logs\");\n",
    "temp_data.printSchema()"
   ]
  },
  {
   "cell_type": "code",
   "execution_count": 6,
   "metadata": {},
   "outputs": [],
   "source": [
    "temp_data=temp_data.sample(False, 0.1, seed=0).limit(2000)"
   ]
  },
  {
   "cell_type": "markdown",
   "metadata": {},
   "source": [
    "Calculate % Difference according to the mean of the amounth of email within 1 day\n",
    "-----------"
   ]
  },
  {
   "cell_type": "code",
   "execution_count": 7,
   "metadata": {},
   "outputs": [],
   "source": [
    "from pyspark.sql import Window\n",
    "obs_interval=window(\"window.start\", \"1 minute\")\n",
    "mean_interval=window(\"window.start\", \"1 day\")\n",
    "\n",
    "columns_drop=['diff_user','diff_api','diff_sys','diff_req']\n",
    "\n",
    "wo_sys = Window.partitionBy('system',obs_interval)\n",
    "wo_user = Window.partitionBy('user',obs_interval)\n",
    "wo_api = Window.partitionBy('api',obs_interval)\n",
    "wo_req = Window.partitionBy('system','user','api',obs_interval)\n",
    "\n",
    "\n",
    "wm_sys = Window.partitionBy('system',mean_interval)\n",
    "wm_user = Window.partitionBy('user',mean_interval)\n",
    "wm_api = Window.partitionBy('api',mean_interval)\n",
    "wm_req = Window.partitionBy('system','user','api',mean_interval)\n",
    "\n",
    "# .orderBy(col(\"window.start\").cast('long')).rangeBetween(-days(7), 0)\n",
    "\n",
    "freq_analyze_df=temp_data\\\n",
    ".filter(\"user!='null' and user!='-'\")\\\n",
    ".select('*', sum('count_req').over(wo_req).alias('req_load'))\\\n",
    ".select('*', count('system').over(wo_sys).alias('system_load'))\\\n",
    ".select('*', count('api').over(wo_api).alias('api_load'))\\\n",
    ".select('*', count('user').over(wo_user).alias('user_load'))\n",
    "freq_analyze_df=freq_analyze_df\\\n",
    ".select('*', avg('req_load').over(wm_req).alias('avg_req'))\\\n",
    ".select('*', ((col('req_load') - first('avg_req').over(wo_req))).alias('diff_req'))\\\n",
    ".select('*', ((col('diff_req')/first('avg_req').over(wo_req))).alias('%diff_req'))\\\n",
    ".select('*', avg('system_load').over(wm_sys).alias('avg_sys'))\\\n",
    ".select('*', ((col('system_load') - first('avg_sys').over(wo_sys))).alias('diff_sys'))\\\n",
    ".select('*', ((col('diff_sys')/first('avg_sys').over(wo_sys))).alias('%diff_sys'))\\\n",
    ".select('*', avg('api_load').over(wm_api).alias('avg_api'))\\\n",
    ".select('*', ((col('api_load') - first('avg_api').over(wo_api))).alias('diff_api'))\\\n",
    ".select('*', ((col('diff_api')/first('avg_api').over(wo_api))).alias('%diff_api'))\\\n",
    ".select('*', avg('user_load').over(wm_user).alias('avg_user'))\\\n",
    ".select('*', ((col('user_load') - first('avg_user').over(wo_user))).alias('diff_user'))\\\n",
    ".select('*', ((col('diff_user')/first('avg_user').over(wo_user))).alias('%diff_user'))\\\n",
    ".drop(*columns_drop)\n",
    "#Todos:Transform/Refactor to UDF\n",
    "# .select('*', when((abs(col('%diff'))>3), 1).otherwise(0).alias('label'))\n",
    "\n",
    "# freq_analyze_df.filter(\"system=='crabserver'\").show()"
   ]
  },
  {
   "cell_type": "code",
   "execution_count": 8,
   "metadata": {},
   "outputs": [
    {
     "name": "stdout",
     "output_type": "stream",
     "text": [
      "root\n",
      " |-- system: string (nullable = true)\n",
      " |-- window: struct (nullable = true)\n",
      " |    |-- start: timestamp (nullable = true)\n",
      " |    |-- end: timestamp (nullable = true)\n",
      " |-- api: string (nullable = true)\n",
      " |-- user: string (nullable = true)\n",
      " |-- count_req: long (nullable = true)\n",
      " |-- req_load: long (nullable = true)\n",
      " |-- system_load: long (nullable = false)\n",
      " |-- api_load: long (nullable = false)\n",
      " |-- user_load: long (nullable = false)\n",
      " |-- avg_req: double (nullable = true)\n",
      " |-- %diff_req: double (nullable = true)\n",
      " |-- avg_sys: double (nullable = true)\n",
      " |-- %diff_sys: double (nullable = true)\n",
      " |-- avg_api: double (nullable = true)\n",
      " |-- %diff_api: double (nullable = true)\n",
      " |-- avg_user: double (nullable = true)\n",
      " |-- %diff_user: double (nullable = true)\n",
      "\n"
     ]
    }
   ],
   "source": [
    "raw_data=raw_data.join(freq_analyze_df, [\"system\",\"window\",\"api\",\"user\",\"count_req\"], \"inner\")\n",
    "raw_data.printSchema()"
   ]
  },
  {
   "cell_type": "code",
   "execution_count": 9,
   "metadata": {},
   "outputs": [],
   "source": [
    "full_diff_flow = raw_data.writeStream.queryName(\"MLdf\").outputMode(\"Append\").format(\"memory\").start()"
   ]
  },
  {
   "cell_type": "code",
   "execution_count": 10,
   "metadata": {},
   "outputs": [],
   "source": [
    "full_difference_hdfs=raw_data.writeStream\\\n",
    ".outputMode(\"append\")\\\n",
    ".format(\"parquet\")\\\n",
    " .option(\"path\", \"/cms/users/carizapo/ming/fullDiff_cmsweb_logs\") \\\n",
    " .option(\"checkpointLocation\", \"/cms/users/carizapo/ming/checkpoint_fullDiff_cmsweb_logs\") \\\n",
    " .outputMode(\"append\") \\\n",
    " .start()"
   ]
  },
  {
   "cell_type": "code",
   "execution_count": null,
   "metadata": {},
   "outputs": [],
   "source": [
    "full_diff_flow.stop()\n",
    "full_difference_hdfs.stop()\n",
    "# raw_data_flow.stop()\n",
    "# filter_alert_data_flow.stop()\n",
    "# difference_hdfs_flow.stop()"
   ]
  },
  {
   "cell_type": "code",
   "execution_count": null,
   "metadata": {},
   "outputs": [],
   "source": [
    "full_diff_flow.isActive"
   ]
  },
  {
   "cell_type": "code",
   "execution_count": 11,
   "metadata": {},
   "outputs": [
    {
     "data": {
      "text/plain": [
       "[<pyspark.sql.streaming.StreamingQuery at 0x7fb754f97a58>,\n",
       " <pyspark.sql.streaming.StreamingQuery at 0x7fb754f97f28>]"
      ]
     },
     "execution_count": 11,
     "metadata": {},
     "output_type": "execute_result"
    }
   ],
   "source": [
    "spark.streams.active"
   ]
  },
  {
   "cell_type": "code",
   "execution_count": 15,
   "metadata": {},
   "outputs": [
    {
     "data": {
      "text/plain": [
       "{'id': '18b8447a-f06b-4162-a26f-7e72cd3c47b6',\n",
       " 'runId': '5eeba935-c5c3-49f7-a6d7-1d624ef9e467',\n",
       " 'name': 'MLdf',\n",
       " 'timestamp': '2019-07-18T11:48:53.352Z',\n",
       " 'batchId': 1,\n",
       " 'numInputRows': 3582,\n",
       " 'inputRowsPerSecond': 18.293710579402976,\n",
       " 'processedRowsPerSecond': 64.49754217908782,\n",
       " 'durationMs': {'addBatch': 42990,\n",
       "  'getBatch': 3878,\n",
       "  'getOffset': 3894,\n",
       "  'queryPlanning': 4324,\n",
       "  'triggerExecution': 55537,\n",
       "  'walCommit': 229},\n",
       " 'stateOperators': [],\n",
       " 'sources': [{'description': 'FileStreamSource[hdfs://analytix/cms/users/carizapo/ming/data_cmsweb_logs]',\n",
       "   'startOffset': {'logOffset': 0},\n",
       "   'endOffset': {'logOffset': 1},\n",
       "   'numInputRows': 3582,\n",
       "   'inputRowsPerSecond': 18.293710579402976,\n",
       "   'processedRowsPerSecond': 64.49754217908782}],\n",
       " 'sink': {'description': 'MemorySink'}}"
      ]
     },
     "execution_count": 15,
     "metadata": {},
     "output_type": "execute_result"
    }
   ],
   "source": [
    "full_diff_flow.lastProgress\n",
    "# # full_difference_hdfs.lastProgress\n",
    "# raw_data_flow.lastProgress\n",
    "# full_diff_flow.processAllAvailable()"
   ]
  },
  {
   "cell_type": "code",
   "execution_count": 16,
   "metadata": {},
   "outputs": [],
   "source": [
    "alerts = spark.sql(\"select * from MLdf\")\n",
    "# alerts.select([\"system\",\"user\"]).distinct().show(10,False)"
   ]
  },
  {
   "cell_type": "code",
   "execution_count": null,
   "metadata": {},
   "outputs": [],
   "source": [
    "# alerts=alerts.filter(\"user=='/DC=ch/DC=cern/OU=Organic Units/OU=Users/CN=yousen/CN=Yousen Zhang' or user=='/DC=ch/DC=cern/OU=Organic Units/OU=Users/CN=akormu/CN=Anna Kaarina Kormu' or user=='/DC=ch/DC=cern/OU=Organic Units/OU=Users/CN=leac/CN=Lea Michaela Caminada'\")"
   ]
  },
  {
   "cell_type": "code",
   "execution_count": 17,
   "metadata": {},
   "outputs": [],
   "source": [
    "raw_data_init = alerts.withColumn('date',col(\"window.start\")).drop(col(\"window\"))"
   ]
  },
  {
   "cell_type": "code",
   "execution_count": 18,
   "metadata": {},
   "outputs": [],
   "source": [
    "from pyspark.ml import Pipeline\n",
    "from pyspark.ml.feature import StringIndexer, OneHotEncoderEstimator\n",
    "\n",
    "\n",
    "sys_indexer = StringIndexer(inputCol=\"system\", outputCol=\"system_hash\")\n",
    "user_indexer = StringIndexer(inputCol=\"user\", outputCol=\"user_hash\")\n",
    "api_indexer = StringIndexer(inputCol=\"api\", outputCol=\"api_hash\")\n",
    "inputs = [sys_indexer.getOutputCol(), user_indexer.getOutputCol(),api_indexer.getOutputCol()]\n",
    "encoder = OneHotEncoderEstimator(inputCols=inputs, outputCols=[\"system_vec\",\"user_vec\",\"api_vec\"])\n",
    "\n",
    "# encoder = OneHotEncoderEstimator(\n",
    "#     inputCols=[\"system_hash\",\"user_hash\",\"api_hash\"],  \n",
    "#     outputCols=[\"req_vector\"]\n",
    "# )\n",
    "\n",
    "pipeline = Pipeline(stages=[sys_indexer,user_indexer,api_indexer, encoder])\n",
    "result=pipeline.fit(raw_data_init).transform(raw_data_init)\n",
    "\n",
    "# word2vec = Word2Vec(inputCol = 'user', outputCol = 'user_hash')\n",
    "# model = word2vec.fit(raw_data_init)\n",
    "# result = model.transform(raw_data_init)\n",
    "# result.select(\"user\",\"system\",\"api\",\"system_hash\",\"user_hash\",\"api_hash\",\"system_vec\",\"user_vec\",\"api_vec\").show(1)"
   ]
  },
  {
   "cell_type": "code",
   "execution_count": null,
   "metadata": {},
   "outputs": [],
   "source": [
    "result.printSchema()"
   ]
  },
  {
   "cell_type": "code",
   "execution_count": 19,
   "metadata": {},
   "outputs": [],
   "source": [
    "%run StoreItemDemand/custom_transformers.ipynb"
   ]
  },
  {
   "cell_type": "code",
   "execution_count": 20,
   "metadata": {},
   "outputs": [],
   "source": [
    "train_data, test_data = result.randomSplit([0.8,0.2], seed=1234)"
   ]
  },
  {
   "cell_type": "code",
   "execution_count": 21,
   "metadata": {},
   "outputs": [],
   "source": [
    "df_train = train_data.withColumn('set', lit(0))\n",
    "df_train = df_train.withColumn('id', lit(-1))\n",
    "df_test = test_data.withColumn('set', lit(1))\n",
    "\n",
    "joined = df_test.union(df_train.select(*df_test.columns))\n",
    "\n",
    "train_data = joined.filter('set == 0')\n",
    "test_data = joined.filter('set == 1')"
   ]
  },
  {
   "cell_type": "code",
   "execution_count": 22,
   "metadata": {},
   "outputs": [],
   "source": [
    "train, validation = train_data.randomSplit([0.8,0.2], seed=1234)"
   ]
  },
  {
   "cell_type": "code",
   "execution_count": 23,
   "metadata": {},
   "outputs": [],
   "source": [
    "from pyspark.ml.feature import VectorAssembler\n",
    "from pyspark.ml.feature import MinMaxScaler,StandardScaler\n",
    "# Feature extraction\n",
    "dc = DateConverter(inputCol='date', outputCol='dateFormated')\n",
    "hrex = HourExtractor(inputCol='date')\n",
    "minex = MinExtractor(inputCol='date')\n",
    "dex = DayExtractor(inputCol='dateFormated')\n",
    "mex = MonthExtractor(inputCol='dateFormated')\n",
    "yex = YearExtractor(inputCol='dateFormated')\n",
    "wdex = WeekDayExtractor(inputCol='dateFormated')\n",
    "wex = WeekendExtractor()\n",
    "mbex = MonthBeginExtractor()\n",
    "meex = MonthEndExtractor()\n",
    "# Data process\n",
    "va = VectorAssembler(inputCols=[\"system_vec\",\"user_vec\",\"api_vec\",'count_req','%diff_req','%diff_sys','%diff_api','%diff_user'\\\n",
    "                                 ,'weekday', 'weekend', 'monthbegin', 'monthend','hour','minute', 'day', 'month', 'year'], outputCol=\"features\")\n",
    "# scaler = StandardScaler(inputCol=\"raw_features\", outputCol=\"features\", withStd=True, withMean=True)\n",
    "# scaler = MinMaxScaler(inputCol=\"raw_features\", outputCol=\"features\")\n",
    "\n",
    "# Serialize data\n",
    "# sm = SerieMaker(inputCol='scaledFeatures', dateCol='date', idCol=['systemID'], serieSize=30)\n",
    "\n",
    "pipeline = Pipeline(stages=[dc,hrex,minex, dex, mex,wdex,wex,mbex,meex, yex, va])"
   ]
  },
  {
   "cell_type": "code",
   "execution_count": 24,
   "metadata": {},
   "outputs": [],
   "source": [
    "pipiline_model = pipeline.fit(train)"
   ]
  },
  {
   "cell_type": "code",
   "execution_count": 25,
   "metadata": {},
   "outputs": [],
   "source": [
    "train_transformed = pipiline_model.transform(train)\n",
    "validation_transformed = pipiline_model.transform(validation)\n",
    "test_transformed = pipiline_model.transform(test_data)"
   ]
  },
  {
   "cell_type": "code",
   "execution_count": null,
   "metadata": {},
   "outputs": [],
   "source": [
    "# arr=train_transformed.select(\"raw_features\",\"features\").show(1,False)"
   ]
  },
  {
   "cell_type": "code",
   "execution_count": 26,
   "metadata": {},
   "outputs": [
    {
     "data": {
      "text/plain": [
       "Text(0,0.5,'cost')"
      ]
     },
     "execution_count": 26,
     "metadata": {},
     "output_type": "execute_result"
    }
   ],
   "source": [
    "from pyspark.ml.clustering import KMeans\n",
    "from pyspark.ml.evaluation import ClusteringEvaluator\n",
    "import matplotlib.pyplot as plt\n",
    "import numpy as np\n",
    "\n",
    "cost = np.zeros(20)\n",
    "for k in range(2,20):\n",
    "    kmeans = KMeans().setK(k).setSeed(1).setFeaturesCol(\"features\")\n",
    "    model = kmeans.fit(train_transformed.sample(False,0.1, seed=42))\n",
    "    cost[k] = model.computeCost(train_transformed) # requires Spark 2.0 or later\n"
   ]
  },
  {
   "cell_type": "code",
   "execution_count": 27,
   "metadata": {},
   "outputs": [
    {
     "data": {
      "text/plain": [
       "Text(0,0.5,'cost')"
      ]
     },
     "execution_count": 27,
     "metadata": {},
     "output_type": "execute_result"
    },
    {
     "data": {
      "image/png": "[encoded data removed]",
      "text/plain": [
       "<Figure size 576x432 with 1 Axes>"
      ]
     },
     "metadata": {},
     "output_type": "display_data"
    }
   ],
   "source": [
    "\n",
    "fig, ax = plt.subplots(1,1, figsize =(8,6))\n",
    "ax.plot(range(2,20),cost[2:20])\n",
    "ax.set_xlabel('k')\n",
    "ax.set_ylabel('cost')"
   ]
  },
  {
   "cell_type": "code",
   "execution_count": 42,
   "metadata": {},
   "outputs": [],
   "source": [
    "from numpy import array\n",
    "from math import sqrt\n",
    "\n",
    "kmeans = KMeans(k=7, seed=1)  # 2 clusters here\n",
    "model = kmeans.fit(train_transformed.select('features'))"
   ]
  },
  {
   "cell_type": "code",
   "execution_count": 43,
   "metadata": {},
   "outputs": [],
   "source": [
    "transformed = model.transform(train_transformed).drop('features')\n",
    "# transformed.select(\"system\").distinct().show(5)"
   ]
  },
  {
   "cell_type": "code",
   "execution_count": 58,
   "metadata": {},
   "outputs": [
    {
     "name": "stdout",
     "output_type": "stream",
     "text": [
      "['couchdb' 'crabserver' 'das' 'dbs' 'dqm' 'phedex' 'reqmgr2'\n",
      " 'wmstatsserver' 'crabcache' 'scheddmon' 'sitedb']\n"
     ]
    }
   ],
   "source": [
    "transform_df=transformed.toPandas()\n",
    "print(transform_df['system'].unique())"
   ]
  },
  {
   "cell_type": "code",
   "execution_count": 45,
   "metadata": {},
   "outputs": [
    {
     "data": {
      "text/plain": [
       "(1313, 35)"
      ]
     },
     "execution_count": 45,
     "metadata": {},
     "output_type": "execute_result"
    }
   ],
   "source": [
    "transform_df.shape"
   ]
  },
  {
   "cell_type": "code",
   "execution_count": 95,
   "metadata": {},
   "outputs": [
    {
     "data": {
      "text/html": [
       "<div>\n",
       "<style scoped>\n",
       "    .dataframe tbody tr th:only-of-type {\n",
       "        vertical-align: middle;\n",
       "    }\n",
       "\n",
       "    .dataframe tbody tr th {\n",
       "        vertical-align: top;\n",
       "    }\n",
       "\n",
       "    .dataframe thead th {\n",
       "        text-align: right;\n",
       "    }\n",
       "</style>\n",
       "<table border=\"1\" class=\"dataframe\">\n",
       "  <thead>\n",
       "    <tr style=\"text-align: right;\">\n",
       "      <th></th>\n",
       "      <th>system</th>\n",
       "      <th>api</th>\n",
       "      <th>user</th>\n",
       "      <th>count_req</th>\n",
       "      <th>req_load</th>\n",
       "      <th>system_load</th>\n",
       "      <th>api_load</th>\n",
       "      <th>user_load</th>\n",
       "      <th>avg_req</th>\n",
       "      <th>%diff_req</th>\n",
       "      <th>...</th>\n",
       "      <th>hour</th>\n",
       "      <th>minute</th>\n",
       "      <th>day</th>\n",
       "      <th>month</th>\n",
       "      <th>weekday</th>\n",
       "      <th>weekend</th>\n",
       "      <th>monthbegin</th>\n",
       "      <th>monthend</th>\n",
       "      <th>year</th>\n",
       "      <th>prediction</th>\n",
       "    </tr>\n",
       "  </thead>\n",
       "  <tbody>\n",
       "    <tr>\n",
       "      <th>0</th>\n",
       "      <td>couchdb</td>\n",
       "      <td>_revs_diff</td>\n",
       "      <td>/DC=ch/DC=cern/OU=computers/CN=wmagent/vocms02...</td>\n",
       "      <td>89</td>\n",
       "      <td>89</td>\n",
       "      <td>1</td>\n",
       "      <td>1</td>\n",
       "      <td>1</td>\n",
       "      <td>93.666667</td>\n",
       "      <td>-0.049822</td>\n",
       "      <td>...</td>\n",
       "      <td>12</td>\n",
       "      <td>58</td>\n",
       "      <td>17</td>\n",
       "      <td>7</td>\n",
       "      <td>4</td>\n",
       "      <td>0</td>\n",
       "      <td>0</td>\n",
       "      <td>0</td>\n",
       "      <td>2019</td>\n",
       "      <td>0</td>\n",
       "    </tr>\n",
       "    <tr>\n",
       "      <th>1</th>\n",
       "      <td>couchdb</td>\n",
       "      <td>_revs_diff</td>\n",
       "      <td>/DC=ch/DC=cern/OU=computers/CN=wmagent/vocms02...</td>\n",
       "      <td>153</td>\n",
       "      <td>153</td>\n",
       "      <td>1</td>\n",
       "      <td>1</td>\n",
       "      <td>1</td>\n",
       "      <td>93.666667</td>\n",
       "      <td>0.633452</td>\n",
       "      <td>...</td>\n",
       "      <td>11</td>\n",
       "      <td>2</td>\n",
       "      <td>17</td>\n",
       "      <td>7</td>\n",
       "      <td>4</td>\n",
       "      <td>0</td>\n",
       "      <td>0</td>\n",
       "      <td>0</td>\n",
       "      <td>2019</td>\n",
       "      <td>4</td>\n",
       "    </tr>\n",
       "    <tr>\n",
       "      <th>2</th>\n",
       "      <td>couchdb</td>\n",
       "      <td>agentInfo</td>\n",
       "      <td>/DC=ch/DC=cern/OU=computers/CN=dmwm/cmsweb.cer...</td>\n",
       "      <td>1</td>\n",
       "      <td>1</td>\n",
       "      <td>125</td>\n",
       "      <td>1</td>\n",
       "      <td>97</td>\n",
       "      <td>1.000000</td>\n",
       "      <td>0.000000</td>\n",
       "      <td>...</td>\n",
       "      <td>15</td>\n",
       "      <td>0</td>\n",
       "      <td>17</td>\n",
       "      <td>7</td>\n",
       "      <td>4</td>\n",
       "      <td>0</td>\n",
       "      <td>0</td>\n",
       "      <td>0</td>\n",
       "      <td>2019</td>\n",
       "      <td>0</td>\n",
       "    </tr>\n",
       "    <tr>\n",
       "      <th>3</th>\n",
       "      <td>couchdb</td>\n",
       "      <td>asikdar_RVCMSSW_11_0_0_pre3QCD_Pt_80_120_13__F...</td>\n",
       "      <td>/DC=ch/DC=cern/OU=computers/CN=dmwm/cmsweb.cer...</td>\n",
       "      <td>1</td>\n",
       "      <td>1</td>\n",
       "      <td>1</td>\n",
       "      <td>1</td>\n",
       "      <td>1</td>\n",
       "      <td>1.000000</td>\n",
       "      <td>0.000000</td>\n",
       "      <td>...</td>\n",
       "      <td>13</td>\n",
       "      <td>14</td>\n",
       "      <td>17</td>\n",
       "      <td>7</td>\n",
       "      <td>4</td>\n",
       "      <td>0</td>\n",
       "      <td>0</td>\n",
       "      <td>0</td>\n",
       "      <td>2019</td>\n",
       "      <td>0</td>\n",
       "    </tr>\n",
       "    <tr>\n",
       "      <th>4</th>\n",
       "      <td>couchdb</td>\n",
       "      <td>chayanit_RVCMSSW_10_6_1_patch1QCDFlat_13UP21_P...</td>\n",
       "      <td>/DC=ch/DC=cern/OU=computers/CN=dmwm/cmsweb.cer...</td>\n",
       "      <td>1</td>\n",
       "      <td>1</td>\n",
       "      <td>3</td>\n",
       "      <td>1</td>\n",
       "      <td>3</td>\n",
       "      <td>1.000000</td>\n",
       "      <td>0.000000</td>\n",
       "      <td>...</td>\n",
       "      <td>12</td>\n",
       "      <td>35</td>\n",
       "      <td>17</td>\n",
       "      <td>7</td>\n",
       "      <td>4</td>\n",
       "      <td>0</td>\n",
       "      <td>0</td>\n",
       "      <td>0</td>\n",
       "      <td>2019</td>\n",
       "      <td>0</td>\n",
       "    </tr>\n",
       "  </tbody>\n",
       "</table>\n",
       "<p>5 rows × 35 columns</p>\n",
       "</div>"
      ],
      "text/plain": [
       "    system                                                api  \\\n",
       "0  couchdb                                         _revs_diff   \n",
       "1  couchdb                                         _revs_diff   \n",
       "2  couchdb                                          agentInfo   \n",
       "3  couchdb  asikdar_RVCMSSW_11_0_0_pre3QCD_Pt_80_120_13__F...   \n",
       "4  couchdb  chayanit_RVCMSSW_10_6_1_patch1QCDFlat_13UP21_P...   \n",
       "\n",
       "                                                user  count_req  req_load  \\\n",
       "0  /DC=ch/DC=cern/OU=computers/CN=wmagent/vocms02...         89        89   \n",
       "1  /DC=ch/DC=cern/OU=computers/CN=wmagent/vocms02...        153       153   \n",
       "2  /DC=ch/DC=cern/OU=computers/CN=dmwm/cmsweb.cer...          1         1   \n",
       "3  /DC=ch/DC=cern/OU=computers/CN=dmwm/cmsweb.cer...          1         1   \n",
       "4  /DC=ch/DC=cern/OU=computers/CN=dmwm/cmsweb.cer...          1         1   \n",
       "\n",
       "   system_load  api_load  user_load    avg_req  %diff_req     ...      hour  \\\n",
       "0            1         1          1  93.666667  -0.049822     ...        12   \n",
       "1            1         1          1  93.666667   0.633452     ...        11   \n",
       "2          125         1         97   1.000000   0.000000     ...        15   \n",
       "3            1         1          1   1.000000   0.000000     ...        13   \n",
       "4            3         1          3   1.000000   0.000000     ...        12   \n",
       "\n",
       "   minute  day  month  weekday  weekend monthbegin  monthend  year  prediction  \n",
       "0      58   17      7        4        0          0         0  2019           0  \n",
       "1       2   17      7        4        0          0         0  2019           4  \n",
       "2       0   17      7        4        0          0         0  2019           0  \n",
       "3      14   17      7        4        0          0         0  2019           0  \n",
       "4      35   17      7        4        0          0         0  2019           0  \n",
       "\n",
       "[5 rows x 35 columns]"
      ]
     },
     "execution_count": 95,
     "metadata": {},
     "output_type": "execute_result"
    }
   ],
   "source": [
    "import pandas as pd\n",
    "filter_data=transform_df[(transform_df.system =='couchdb')]\n",
    "filter_data.head(5)"
   ]
  },
  {
   "cell_type": "code",
   "execution_count": 96,
   "metadata": {},
   "outputs": [],
   "source": [
    "filter_data.set_index('date', inplace=True)"
   ]
  },
  {
   "cell_type": "code",
   "execution_count": 97,
   "metadata": {},
   "outputs": [],
   "source": [
    "prep=filter_data[['%diff_req','%diff_sys','%diff_api','%diff_user']]\n",
    "label=filter_data[['prediction']]"
   ]
  },
  {
   "cell_type": "code",
   "execution_count": 98,
   "metadata": {},
   "outputs": [
    {
     "data": {
      "text/html": [
       "<div>\n",
       "<style scoped>\n",
       "    .dataframe tbody tr th:only-of-type {\n",
       "        vertical-align: middle;\n",
       "    }\n",
       "\n",
       "    .dataframe tbody tr th {\n",
       "        vertical-align: top;\n",
       "    }\n",
       "\n",
       "    .dataframe thead th {\n",
       "        text-align: right;\n",
       "    }\n",
       "</style>\n",
       "<table border=\"1\" class=\"dataframe\">\n",
       "  <thead>\n",
       "    <tr style=\"text-align: right;\">\n",
       "      <th></th>\n",
       "      <th>%diff_req</th>\n",
       "      <th>%diff_sys</th>\n",
       "      <th>%diff_api</th>\n",
       "      <th>%diff_user</th>\n",
       "    </tr>\n",
       "    <tr>\n",
       "      <th>date</th>\n",
       "      <th></th>\n",
       "      <th></th>\n",
       "      <th></th>\n",
       "      <th></th>\n",
       "    </tr>\n",
       "  </thead>\n",
       "  <tbody>\n",
       "    <tr>\n",
       "      <th>2019-07-17 12:58:00</th>\n",
       "      <td>-0.049822</td>\n",
       "      <td>-0.966503</td>\n",
       "      <td>0.0</td>\n",
       "      <td>-0.849779</td>\n",
       "    </tr>\n",
       "    <tr>\n",
       "      <th>2019-07-17 11:02:00</th>\n",
       "      <td>0.633452</td>\n",
       "      <td>-0.966503</td>\n",
       "      <td>0.0</td>\n",
       "      <td>-0.849779</td>\n",
       "    </tr>\n",
       "    <tr>\n",
       "      <th>2019-07-17 15:00:00</th>\n",
       "      <td>0.000000</td>\n",
       "      <td>3.187137</td>\n",
       "      <td>0.0</td>\n",
       "      <td>3.110202</td>\n",
       "    </tr>\n",
       "    <tr>\n",
       "      <th>2019-07-17 13:14:00</th>\n",
       "      <td>0.000000</td>\n",
       "      <td>-0.966503</td>\n",
       "      <td>0.0</td>\n",
       "      <td>-0.957627</td>\n",
       "    </tr>\n",
       "    <tr>\n",
       "      <th>2019-07-17 12:35:00</th>\n",
       "      <td>0.000000</td>\n",
       "      <td>-0.899509</td>\n",
       "      <td>0.0</td>\n",
       "      <td>-0.872880</td>\n",
       "    </tr>\n",
       "    <tr>\n",
       "      <th>2019-07-17 15:01:00</th>\n",
       "      <td>0.000000</td>\n",
       "      <td>2.651184</td>\n",
       "      <td>0.0</td>\n",
       "      <td>2.686470</td>\n",
       "    </tr>\n",
       "    <tr>\n",
       "      <th>2019-07-17 11:03:00</th>\n",
       "      <td>0.000000</td>\n",
       "      <td>-0.933006</td>\n",
       "      <td>0.0</td>\n",
       "      <td>-0.915254</td>\n",
       "    </tr>\n",
       "    <tr>\n",
       "      <th>2019-07-17 15:00:00</th>\n",
       "      <td>0.000000</td>\n",
       "      <td>3.187137</td>\n",
       "      <td>0.0</td>\n",
       "      <td>3.110202</td>\n",
       "    </tr>\n",
       "    <tr>\n",
       "      <th>2019-07-17 15:01:00</th>\n",
       "      <td>0.000000</td>\n",
       "      <td>2.651184</td>\n",
       "      <td>0.0</td>\n",
       "      <td>2.686470</td>\n",
       "    </tr>\n",
       "    <tr>\n",
       "      <th>2019-07-17 11:39:00</th>\n",
       "      <td>0.000000</td>\n",
       "      <td>-0.933006</td>\n",
       "      <td>0.0</td>\n",
       "      <td>-0.957627</td>\n",
       "    </tr>\n",
       "  </tbody>\n",
       "</table>\n",
       "</div>"
      ],
      "text/plain": [
       "                     %diff_req  %diff_sys  %diff_api  %diff_user\n",
       "date                                                            \n",
       "2019-07-17 12:58:00  -0.049822  -0.966503        0.0   -0.849779\n",
       "2019-07-17 11:02:00   0.633452  -0.966503        0.0   -0.849779\n",
       "2019-07-17 15:00:00   0.000000   3.187137        0.0    3.110202\n",
       "2019-07-17 13:14:00   0.000000  -0.966503        0.0   -0.957627\n",
       "2019-07-17 12:35:00   0.000000  -0.899509        0.0   -0.872880\n",
       "2019-07-17 15:01:00   0.000000   2.651184        0.0    2.686470\n",
       "2019-07-17 11:03:00   0.000000  -0.933006        0.0   -0.915254\n",
       "2019-07-17 15:00:00   0.000000   3.187137        0.0    3.110202\n",
       "2019-07-17 15:01:00   0.000000   2.651184        0.0    2.686470\n",
       "2019-07-17 11:39:00   0.000000  -0.933006        0.0   -0.957627"
      ]
     },
     "execution_count": 98,
     "metadata": {},
     "output_type": "execute_result"
    }
   ],
   "source": [
    "prep.head(10)"
   ]
  },
  {
   "cell_type": "code",
   "execution_count": 99,
   "metadata": {},
   "outputs": [
    {
     "data": {
      "text/plain": [
       "<matplotlib.axes._subplots.AxesSubplot at 0x7fb7362f12b0>"
      ]
     },
     "execution_count": 99,
     "metadata": {},
     "output_type": "execute_result"
    },
    {
     "data": {
      "image/png": "[encoded data removed]",
      "text/plain": [
       "<Figure size 432x288 with 1 Axes>"
      ]
     },
     "metadata": {},
     "output_type": "display_data"
    },
    {
     "data": {
      "image/png": "[encoded data removed]",
      "text/plain": [
       "<Figure size 432x288 with 1 Axes>"
      ]
     },
     "metadata": {},
     "output_type": "display_data"
    }
   ],
   "source": [
    "%matplotlib inline\n",
    "\n",
    "# prep_fix=prep.loc['2019-07-1 22:00:00':'2019-07-2 21:00:00']\n",
    "prep.plot()\n",
    "label.plot()"
   ]
  },
  {
   "cell_type": "code",
   "execution_count": null,
   "metadata": {},
   "outputs": [],
   "source": []
  },
  {
   "cell_type": "code",
   "execution_count": null,
   "metadata": {},
   "outputs": [],
   "source": []
  }
 ],
 "metadata": {
  "kernelspec": {
   "display_name": "Python 3",
   "language": "python",
   "name": "python3"
  },
  "language_info": {
   "codemirror_mode": {
    "name": "ipython",
    "version": 3
   },
   "file_extension": ".py",
   "mimetype": "text/x-python",
   "name": "python",
   "nbconvert_exporter": "python",
   "pygments_lexer": "ipython3",
   "version": "3.6.5"
  },
  "sparkconnect": {
   "bundled_options": [],
   "list_of_options": [
    {
     "name": "spark.driver.memory",
     "value": "10g"
    },
    {
     "name": "spark.executor.instances",
     "value": "10"
    },
    {
     "name": "spark.executor.memory",
     "value": "10g"
    },
    {
     "name": "spark.driver.memoryOverhead",
     "value": "10g"
    }
   ]
  }
 },
 "nbformat": 4,
 "nbformat_minor": 2
}
