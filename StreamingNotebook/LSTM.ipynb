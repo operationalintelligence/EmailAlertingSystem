{
 "cells": [
  {
   "cell_type": "code",
   "execution_count": 1,
   "metadata": {},
   "outputs": [],
   "source": [
    "from pyspark.sql.functions import *\n",
    "from pyspark.sql.types import *"
   ]
  },
  {
   "cell_type": "code",
   "execution_count": 2,
   "metadata": {},
   "outputs": [],
   "source": [
    "userSchema = StructType() \\\n",
    "        .add(\"window\",StructType()\\\n",
    "             .add(\"start\",TimestampType())\\\n",
    "             .add(\"end\",TimestampType()))\\\n",
    "        .add(\"system\", StringType())\\\n",
    "        .add(\"count\", LongType())"
   ]
  },
  {
   "cell_type": "code",
   "execution_count": 3,
   "metadata": {},
   "outputs": [
    {
     "name": "stdout",
     "output_type": "stream",
     "text": [
      "root\n",
      " |-- window: struct (nullable = true)\n",
      " |    |-- start: timestamp (nullable = true)\n",
      " |    |-- end: timestamp (nullable = true)\n",
      " |-- system: string (nullable = true)\n",
      " |-- count: long (nullable = true)\n",
      "\n"
     ]
    }
   ],
   "source": [
    "raw_data = spark\\\n",
    ".readStream.format(\"parquet\")\\\n",
    ".schema(userSchema)\\\n",
    ".load(\"/cms/users/carizapo/ming/groupdata_cmsweb_logs\");\n",
    "raw_data.printSchema()"
   ]
  },
  {
   "cell_type": "code",
   "execution_count": 4,
   "metadata": {},
   "outputs": [],
   "source": [
    "raw_data_match = raw_data.withColumn('date',col(\"window.start\")).drop(col(\"window\"))\\"
   ]
  },
  {
   "cell_type": "code",
   "execution_count": 5,
   "metadata": {},
   "outputs": [],
   "source": [
    "raw_data_flow = raw_data.writeStream.queryName(\"hdfs\").outputMode(\"Append\").format(\"memory\").start()"
   ]
  },
  {
   "cell_type": "code",
   "execution_count": 10,
   "metadata": {},
   "outputs": [
    {
     "data": {
      "text/plain": [
       "{'id': '72ce3a7f-9da8-4fb4-b5b9-1bcc1202d73c',\n",
       " 'runId': '38590738-3ff3-430f-a5af-df2a9f31c2b1',\n",
       " 'name': 'hdfs',\n",
       " 'timestamp': '2019-07-12T13:08:17.926Z',\n",
       " 'batchId': 1,\n",
       " 'numInputRows': 0,\n",
       " 'inputRowsPerSecond': 0.0,\n",
       " 'processedRowsPerSecond': 0.0,\n",
       " 'durationMs': {'getOffset': 807, 'triggerExecution': 807},\n",
       " 'stateOperators': [],\n",
       " 'sources': [{'description': 'FileStreamSource[hdfs://analytix/cms/users/carizapo/ming/groupdata_cmsweb_logs]',\n",
       "   'startOffset': {'logOffset': 0},\n",
       "   'endOffset': {'logOffset': 0},\n",
       "   'numInputRows': 0,\n",
       "   'inputRowsPerSecond': 0.0,\n",
       "   'processedRowsPerSecond': 0.0}],\n",
       " 'sink': {'description': 'MemorySink'}}"
      ]
     },
     "execution_count": 10,
     "metadata": {},
     "output_type": "execute_result"
    }
   ],
   "source": [
    "raw_data_flow.lastProgress"
   ]
  },
  {
   "cell_type": "code",
   "execution_count": 13,
   "metadata": {},
   "outputs": [],
   "source": [
    "alerts = spark.sql(\"select * from hdfs\")\n",
    "# alerts.show()"
   ]
  },
  {
   "cell_type": "code",
   "execution_count": 14,
   "metadata": {},
   "outputs": [],
   "source": [
    "from pyspark.sql.window import Window as W\n",
    "raw_data_id = alerts.select(\"system\").distinct()\n",
    "windowSpec = W.orderBy(\"system\")\n",
    "raw_data_id=raw_data_id.withColumn(\"systemID\", row_number().over(windowSpec)).withColumnRenamed(\"system\",\"tempSystem\")"
   ]
  },
  {
   "cell_type": "code",
   "execution_count": 15,
   "metadata": {},
   "outputs": [],
   "source": [
    "alerts_df=alerts\\\n",
    ".join(raw_data_id, raw_data_id.tempSystem == alerts.system)\\\n",
    ".withColumn('date',col(\"window.start\")).drop(col(\"window\"))\\\n",
    ".drop(raw_data_id.tempSystem)"
   ]
  },
  {
   "cell_type": "code",
   "execution_count": null,
   "metadata": {},
   "outputs": [],
   "source": [
    "alerts_df.show()"
   ]
  },
  {
   "cell_type": "code",
   "execution_count": 16,
   "metadata": {},
   "outputs": [],
   "source": [
    "alerts_pd=alerts_df.toPandas()"
   ]
  },
  {
   "cell_type": "code",
   "execution_count": 180,
   "metadata": {},
   "outputs": [],
   "source": [
    "import matplotlib.pyplot as plt\n",
    "import pandas as pd\n",
    "filter_data=alerts_pd[(alerts_pd.system =='confdb')]"
   ]
  },
  {
   "cell_type": "code",
   "execution_count": 181,
   "metadata": {},
   "outputs": [],
   "source": [
    "filter_data.set_index('date', inplace=True)"
   ]
  },
  {
   "cell_type": "code",
   "execution_count": 182,
   "metadata": {},
   "outputs": [],
   "source": [
    "prep=filter_data[['count']]\n",
    "# print(prep.sort_values(by='date'))"
   ]
  },
  {
   "cell_type": "code",
   "execution_count": 183,
   "metadata": {},
   "outputs": [
    {
     "data": {
      "text/plain": [
       "False"
      ]
     },
     "execution_count": 183,
     "metadata": {},
     "output_type": "execute_result"
    }
   ],
   "source": [
    "# prep.dropna()\n",
    "prep.isnull().values.any()"
   ]
  },
  {
   "cell_type": "code",
   "execution_count": 184,
   "metadata": {},
   "outputs": [
    {
     "data": {
      "text/plain": [
       "<matplotlib.axes._subplots.AxesSubplot at 0x7f6d444b89b0>"
      ]
     },
     "execution_count": 184,
     "metadata": {},
     "output_type": "execute_result"
    },
    {
     "data": {
      "image/png": "[encoded data removed]",
      "text/plain": [
       "<Figure size 432x288 with 1 Axes>"
      ]
     },
     "metadata": {},
     "output_type": "display_data"
    }
   ],
   "source": [
    "%matplotlib inline\n",
    "\n",
    "prep_fix=prep.loc['2019-06-27':'2019-07-9']\n",
    "prep_fix.plot()\n",
    "# prep.plot()"
   ]
  },
  {
   "cell_type": "code",
   "execution_count": 185,
   "metadata": {},
   "outputs": [],
   "source": [
    "import numpy as np\n",
    "import math\n",
    "from keras.models import Sequential\n",
    "from keras.layers import Dense\n",
    "from keras.layers import LSTM\n",
    "from sklearn.preprocessing import MinMaxScaler\n",
    "from sklearn.metrics import mean_squared_error"
   ]
  },
  {
   "cell_type": "code",
   "execution_count": 186,
   "metadata": {},
   "outputs": [],
   "source": [
    "# fix random seed for reproducibility\n",
    "np.random.seed(7)"
   ]
  },
  {
   "cell_type": "code",
   "execution_count": 187,
   "metadata": {},
   "outputs": [],
   "source": [
    "prep_fix=prep_fix.sort_values(\"date\")"
   ]
  },
  {
   "cell_type": "code",
   "execution_count": 188,
   "metadata": {},
   "outputs": [],
   "source": [
    "# normalize the dataset\n",
    "scaler = MinMaxScaler(feature_range=(0, 1))\n",
    "dataset = scaler.fit_transform(prep_fix)"
   ]
  },
  {
   "cell_type": "code",
   "execution_count": 189,
   "metadata": {},
   "outputs": [
    {
     "data": {
      "text/plain": [
       "array([[0.03030303],\n",
       "       [0.09090909],\n",
       "       [0.        ],\n",
       "       [0.09090909],\n",
       "       [0.09090909],\n",
       "       [0.06060606],\n",
       "       [0.3030303 ],\n",
       "       [0.36363636],\n",
       "       [0.33333333],\n",
       "       [0.06060606],\n",
       "       [0.42424242],\n",
       "       [0.18181818],\n",
       "       [0.21212121],\n",
       "       [0.3030303 ],\n",
       "       [0.09090909],\n",
       "       [0.        ],\n",
       "       [0.39393939],\n",
       "       [0.        ],\n",
       "       [0.        ],\n",
       "       [0.        ],\n",
       "       [0.03030303],\n",
       "       [0.36363636],\n",
       "       [0.03030303],\n",
       "       [0.        ],\n",
       "       [0.27272727],\n",
       "       [0.24242424],\n",
       "       [0.18181818],\n",
       "       [0.        ],\n",
       "       [0.3030303 ],\n",
       "       [0.09090909],\n",
       "       [0.06060606],\n",
       "       [0.06060606],\n",
       "       [0.        ],\n",
       "       [0.21212121],\n",
       "       [0.03030303],\n",
       "       [0.        ],\n",
       "       [0.03030303],\n",
       "       [0.        ],\n",
       "       [0.27272727],\n",
       "       [0.21212121],\n",
       "       [0.24242424],\n",
       "       [0.51515152],\n",
       "       [0.24242424],\n",
       "       [0.03030303],\n",
       "       [0.21212121],\n",
       "       [0.39393939],\n",
       "       [0.27272727],\n",
       "       [0.        ],\n",
       "       [0.63636364],\n",
       "       [0.24242424],\n",
       "       [0.03030303],\n",
       "       [0.45454545],\n",
       "       [0.06060606],\n",
       "       [0.06060606],\n",
       "       [0.18181818],\n",
       "       [0.18181818],\n",
       "       [0.        ],\n",
       "       [0.        ],\n",
       "       [0.        ],\n",
       "       [0.24242424],\n",
       "       [0.18181818],\n",
       "       [0.03030303],\n",
       "       [0.09090909],\n",
       "       [0.        ],\n",
       "       [0.03030303],\n",
       "       [0.54545455],\n",
       "       [0.51515152],\n",
       "       [0.36363636],\n",
       "       [0.        ],\n",
       "       [0.03030303],\n",
       "       [0.        ],\n",
       "       [0.24242424],\n",
       "       [0.03030303],\n",
       "       [0.24242424],\n",
       "       [0.51515152],\n",
       "       [1.        ],\n",
       "       [0.        ],\n",
       "       [0.03030303],\n",
       "       [0.        ],\n",
       "       [0.        ],\n",
       "       [0.03030303],\n",
       "       [0.09090909],\n",
       "       [0.06060606],\n",
       "       [0.12121212],\n",
       "       [0.27272727],\n",
       "       [0.09090909],\n",
       "       [0.        ],\n",
       "       [0.24242424],\n",
       "       [0.45454545],\n",
       "       [0.51515152],\n",
       "       [0.03030303],\n",
       "       [0.15151515],\n",
       "       [0.33333333],\n",
       "       [0.09090909],\n",
       "       [0.03030303],\n",
       "       [0.36363636],\n",
       "       [0.21212121],\n",
       "       [0.        ],\n",
       "       [0.06060606],\n",
       "       [0.03030303],\n",
       "       [0.06060606],\n",
       "       [0.09090909],\n",
       "       [0.12121212],\n",
       "       [0.3030303 ],\n",
       "       [0.63636364],\n",
       "       [0.27272727],\n",
       "       [0.03030303],\n",
       "       [0.18181818],\n",
       "       [0.        ],\n",
       "       [0.09090909],\n",
       "       [0.27272727],\n",
       "       [0.        ],\n",
       "       [0.06060606],\n",
       "       [0.        ],\n",
       "       [0.21212121],\n",
       "       [0.06060606],\n",
       "       [0.03030303],\n",
       "       [0.21212121],\n",
       "       [0.03030303],\n",
       "       [0.24242424],\n",
       "       [0.06060606],\n",
       "       [0.21212121],\n",
       "       [0.        ],\n",
       "       [0.45454545],\n",
       "       [0.09090909],\n",
       "       [0.        ],\n",
       "       [0.75757576],\n",
       "       [0.09090909],\n",
       "       [0.33333333],\n",
       "       [0.        ],\n",
       "       [0.06060606],\n",
       "       [0.24242424],\n",
       "       [0.09090909],\n",
       "       [0.36363636],\n",
       "       [0.36363636],\n",
       "       [0.12121212],\n",
       "       [0.03030303],\n",
       "       [0.24242424],\n",
       "       [0.03030303],\n",
       "       [0.        ],\n",
       "       [0.06060606],\n",
       "       [0.03030303],\n",
       "       [0.        ],\n",
       "       [0.        ],\n",
       "       [0.42424242],\n",
       "       [0.63636364],\n",
       "       [0.72727273],\n",
       "       [0.03030303],\n",
       "       [0.21212121],\n",
       "       [0.        ],\n",
       "       [0.        ],\n",
       "       [0.27272727],\n",
       "       [0.24242424],\n",
       "       [0.        ],\n",
       "       [0.18181818],\n",
       "       [0.        ]])"
      ]
     },
     "execution_count": 189,
     "metadata": {},
     "output_type": "execute_result"
    }
   ],
   "source": [
    "dataset"
   ]
  },
  {
   "cell_type": "code",
   "execution_count": 190,
   "metadata": {},
   "outputs": [
    {
     "name": "stdout",
     "output_type": "stream",
     "text": [
      "104 52\n"
     ]
    }
   ],
   "source": [
    "# split into train and test sets\n",
    "train_size = int(len(dataset) * 0.67)\n",
    "test_size = len(dataset) - train_size\n",
    "train, test = dataset[0:train_size,:], dataset[train_size:len(dataset),:]\n",
    "print(len(train), len(test))"
   ]
  },
  {
   "cell_type": "code",
   "execution_count": 191,
   "metadata": {},
   "outputs": [],
   "source": [
    "# convert an array of values into a dataset matrix\n",
    "def create_dataset(dataset, look_back=1):\n",
    "    dataX, dataY = [], []\n",
    "    for i in range(len(dataset)-look_back-1):\n",
    "        a = dataset[i:(i+look_back), 0]\n",
    "        dataX.append(a)\n",
    "        dataY.append(dataset[i + look_back, 0])\n",
    "    return np.array(dataX), np.array(dataY)"
   ]
  },
  {
   "cell_type": "code",
   "execution_count": 192,
   "metadata": {},
   "outputs": [],
   "source": [
    "# reshape into X=t and Y=t+1\n",
    "look_back = 1\n",
    "trainX, trainY = create_dataset(train, look_back)\n",
    "testX, testY = create_dataset(test, look_back)"
   ]
  },
  {
   "cell_type": "code",
   "execution_count": 193,
   "metadata": {},
   "outputs": [],
   "source": [
    "# reshape input to be [samples, time steps, features]\n",
    "trainX = np.reshape(trainX, (trainX.shape[0], 1, trainX.shape[1]))\n",
    "testX = np.reshape(testX, (testX.shape[0], 1, testX.shape[1]))"
   ]
  },
  {
   "cell_type": "code",
   "execution_count": 194,
   "metadata": {},
   "outputs": [
    {
     "name": "stdout",
     "output_type": "stream",
     "text": [
      "Epoch 1/100\n",
      " - 2s - loss: 0.0462\n",
      "Epoch 2/100\n",
      " - 0s - loss: 0.0352\n",
      "Epoch 3/100\n",
      " - 0s - loss: 0.0325\n",
      "Epoch 4/100\n",
      " - 0s - loss: 0.0320\n",
      "Epoch 5/100\n",
      " - 0s - loss: 0.0320\n",
      "Epoch 6/100\n",
      " - 0s - loss: 0.0318\n",
      "Epoch 7/100\n",
      " - 0s - loss: 0.0317\n",
      "Epoch 8/100\n",
      " - 0s - loss: 0.0318\n",
      "Epoch 9/100\n",
      " - 0s - loss: 0.0318\n",
      "Epoch 10/100\n",
      " - 0s - loss: 0.0316\n",
      "Epoch 11/100\n",
      " - 0s - loss: 0.0316\n",
      "Epoch 12/100\n",
      " - 0s - loss: 0.0315\n",
      "Epoch 13/100\n",
      " - 0s - loss: 0.0317\n",
      "Epoch 14/100\n",
      " - 0s - loss: 0.0315\n",
      "Epoch 15/100\n",
      " - 0s - loss: 0.0316\n",
      "Epoch 16/100\n",
      " - 0s - loss: 0.0316\n",
      "Epoch 17/100\n",
      " - 0s - loss: 0.0316\n",
      "Epoch 18/100\n",
      " - 0s - loss: 0.0319\n",
      "Epoch 19/100\n",
      " - 0s - loss: 0.0315\n",
      "Epoch 20/100\n",
      " - 0s - loss: 0.0316\n",
      "Epoch 21/100\n",
      " - 0s - loss: 0.0316\n",
      "Epoch 22/100\n",
      " - 0s - loss: 0.0315\n",
      "Epoch 23/100\n",
      " - 0s - loss: 0.0316\n",
      "Epoch 24/100\n",
      " - 0s - loss: 0.0315\n",
      "Epoch 25/100\n",
      " - 0s - loss: 0.0316\n",
      "Epoch 26/100\n",
      " - 0s - loss: 0.0315\n",
      "Epoch 27/100\n",
      " - 0s - loss: 0.0315\n",
      "Epoch 28/100\n",
      " - 0s - loss: 0.0316\n",
      "Epoch 29/100\n",
      " - 0s - loss: 0.0315\n",
      "Epoch 30/100\n",
      " - 0s - loss: 0.0316\n",
      "Epoch 31/100\n",
      " - 0s - loss: 0.0314\n",
      "Epoch 32/100\n",
      " - 0s - loss: 0.0316\n",
      "Epoch 33/100\n",
      " - 0s - loss: 0.0315\n",
      "Epoch 34/100\n",
      " - 0s - loss: 0.0316\n",
      "Epoch 35/100\n",
      " - 0s - loss: 0.0315\n",
      "Epoch 36/100\n",
      " - 0s - loss: 0.0314\n",
      "Epoch 37/100\n",
      " - 0s - loss: 0.0315\n",
      "Epoch 38/100\n",
      " - 0s - loss: 0.0315\n",
      "Epoch 39/100\n",
      " - 0s - loss: 0.0314\n",
      "Epoch 40/100\n",
      " - 0s - loss: 0.0314\n",
      "Epoch 41/100\n",
      " - 0s - loss: 0.0314\n",
      "Epoch 42/100\n",
      " - 0s - loss: 0.0316\n",
      "Epoch 43/100\n",
      " - 0s - loss: 0.0315\n",
      "Epoch 44/100\n",
      " - 0s - loss: 0.0316\n",
      "Epoch 45/100\n",
      " - 0s - loss: 0.0316\n",
      "Epoch 46/100\n",
      " - 0s - loss: 0.0316\n",
      "Epoch 47/100\n",
      " - 0s - loss: 0.0319\n",
      "Epoch 48/100\n",
      " - 0s - loss: 0.0314\n",
      "Epoch 49/100\n",
      " - 0s - loss: 0.0314\n",
      "Epoch 50/100\n",
      " - 0s - loss: 0.0314\n",
      "Epoch 51/100\n",
      " - 0s - loss: 0.0315\n",
      "Epoch 52/100\n",
      " - 0s - loss: 0.0314\n",
      "Epoch 53/100\n",
      " - 0s - loss: 0.0315\n",
      "Epoch 54/100\n",
      " - 0s - loss: 0.0315\n",
      "Epoch 55/100\n",
      " - 0s - loss: 0.0317\n",
      "Epoch 56/100\n",
      " - 0s - loss: 0.0315\n",
      "Epoch 57/100\n",
      " - 0s - loss: 0.0316\n",
      "Epoch 58/100\n",
      " - 0s - loss: 0.0315\n",
      "Epoch 59/100\n",
      " - 0s - loss: 0.0316\n",
      "Epoch 60/100\n",
      " - 0s - loss: 0.0315\n",
      "Epoch 61/100\n",
      " - 0s - loss: 0.0314\n",
      "Epoch 62/100\n",
      " - 0s - loss: 0.0317\n",
      "Epoch 63/100\n",
      " - 0s - loss: 0.0314\n",
      "Epoch 64/100\n",
      " - 0s - loss: 0.0314\n",
      "Epoch 65/100\n",
      " - 0s - loss: 0.0316\n",
      "Epoch 66/100\n",
      " - 0s - loss: 0.0314\n",
      "Epoch 67/100\n",
      " - 0s - loss: 0.0316\n",
      "Epoch 68/100\n",
      " - 0s - loss: 0.0316\n",
      "Epoch 69/100\n",
      " - 0s - loss: 0.0315\n",
      "Epoch 70/100\n",
      " - 0s - loss: 0.0314\n",
      "Epoch 71/100\n",
      " - 0s - loss: 0.0315\n",
      "Epoch 72/100\n",
      " - 0s - loss: 0.0315\n",
      "Epoch 73/100\n",
      " - 0s - loss: 0.0315\n",
      "Epoch 74/100\n",
      " - 0s - loss: 0.0314\n",
      "Epoch 75/100\n",
      " - 0s - loss: 0.0315\n",
      "Epoch 76/100\n",
      " - 0s - loss: 0.0315\n",
      "Epoch 77/100\n",
      " - 0s - loss: 0.0315\n",
      "Epoch 78/100\n",
      " - 0s - loss: 0.0313\n",
      "Epoch 79/100\n",
      " - 0s - loss: 0.0313\n",
      "Epoch 80/100\n",
      " - 0s - loss: 0.0315\n",
      "Epoch 81/100\n",
      " - 0s - loss: 0.0315\n",
      "Epoch 82/100\n",
      " - 0s - loss: 0.0315\n",
      "Epoch 83/100\n",
      " - 0s - loss: 0.0314\n",
      "Epoch 84/100\n",
      " - 0s - loss: 0.0314\n",
      "Epoch 85/100\n",
      " - 0s - loss: 0.0315\n",
      "Epoch 86/100\n",
      " - 0s - loss: 0.0315\n",
      "Epoch 87/100\n",
      " - 0s - loss: 0.0314\n",
      "Epoch 88/100\n",
      " - 0s - loss: 0.0314\n",
      "Epoch 89/100\n",
      " - 0s - loss: 0.0314\n",
      "Epoch 90/100\n",
      " - 0s - loss: 0.0315\n",
      "Epoch 91/100\n",
      " - 0s - loss: 0.0313\n",
      "Epoch 92/100\n",
      " - 0s - loss: 0.0313\n",
      "Epoch 93/100\n",
      " - 0s - loss: 0.0315\n",
      "Epoch 94/100\n",
      " - 0s - loss: 0.0314\n",
      "Epoch 95/100\n",
      " - 0s - loss: 0.0314\n",
      "Epoch 96/100\n",
      " - 0s - loss: 0.0314\n",
      "Epoch 97/100\n",
      " - 0s - loss: 0.0314\n",
      "Epoch 98/100\n",
      " - 0s - loss: 0.0314\n",
      "Epoch 99/100\n",
      " - 0s - loss: 0.0315\n",
      "Epoch 100/100\n",
      " - 0s - loss: 0.0315\n"
     ]
    },
    {
     "data": {
      "text/plain": [
       "<keras.callbacks.History at 0x7f6d443a4e48>"
      ]
     },
     "execution_count": 194,
     "metadata": {},
     "output_type": "execute_result"
    }
   ],
   "source": [
    "# create and fit the LSTM network\n",
    "model = Sequential()\n",
    "model.add(LSTM(4, input_shape=(1, look_back)))\n",
    "model.add(Dense(1))\n",
    "model.compile(loss='mean_squared_error', optimizer='adam')\n",
    "model.fit(trainX, trainY, epochs=100, batch_size=1, verbose=2)"
   ]
  },
  {
   "cell_type": "code",
   "execution_count": 195,
   "metadata": {},
   "outputs": [
    {
     "name": "stdout",
     "output_type": "stream",
     "text": [
      "Train Score: 5.83 RMSE\n",
      "Test Score: 6.20 RMSE\n"
     ]
    }
   ],
   "source": [
    "# make predictions\n",
    "trainPredict = model.predict(trainX)\n",
    "testPredict = model.predict(testX)\n",
    "# invert predictions\n",
    "trainPredict = scaler.inverse_transform(trainPredict)\n",
    "trainY = scaler.inverse_transform([trainY])\n",
    "testPredict = scaler.inverse_transform(testPredict)\n",
    "testY = scaler.inverse_transform([testY])\n",
    "# calculate root mean squared error\n",
    "trainScore = math.sqrt(mean_squared_error(trainY[0], trainPredict[:,0]))\n",
    "print('Train Score: %.2f RMSE' % (trainScore))\n",
    "testScore = math.sqrt(mean_squared_error(testY[0], testPredict[:,0]))\n",
    "print('Test Score: %.2f RMSE' % (testScore))"
   ]
  },
  {
   "cell_type": "code",
   "execution_count": 200,
   "metadata": {},
   "outputs": [
    {
     "data": {
      "image/png": "[encoded data removed]",
      "text/plain": [
       "<Figure size 432x288 with 3 Axes>"
      ]
     },
     "metadata": {},
     "output_type": "display_data"
    }
   ],
   "source": [
    "# shift train predictions for plotting\n",
    "trainPredictPlot = np.empty_like(dataset)\n",
    "trainPredictPlot[:, :] = np.nan\n",
    "trainPredictPlot[look_back:len(trainPredict)+look_back, :] = trainPredict\n",
    "# shift test predictions for plotting\n",
    "testPredictPlot = np.empty_like(dataset)\n",
    "testPredictPlot[:, :] = np.nan\n",
    "testPredictPlot[len(trainPredict)+(look_back*2)+1:len(dataset)-1, :] = testPredict\n",
    "\n",
    "# plot baseline and predictions\n",
    "\n",
    "fig, (ax1, ax2,ax3) = plt.subplots(nrows=1, ncols=3)\n",
    "\n",
    "ax1.plot(scaler.inverse_transform(dataset))\n",
    "ax1.set_title('Original cmsweb \\'confdb\\' systems requests logs dataset')\n",
    "ax1.set_ylabel('Amount of requests logs(Real)')\n",
    "ax1.set_xlabel('Time')\n",
    "# plt.subplot(1, 2, 1)\n",
    "# ax1.plot(scaler.inverse_transform(dataset))\n",
    "ax2.plot(dataset)\n",
    "ax2.set_title('Original cmsweb \\'confdb\\' systems requests logs dataset')\n",
    "ax2.set_ylabel('Amount of requests logs(Scaled)')\n",
    "ax2.set_xlabel('Time')\n",
    "\n",
    "# plt.subplot(1, 2, 2)\n",
    "ax3.plot(trainPredictPlot)\n",
    "ax3.plot(testPredictPlot)\n",
    "ax3.set_title('Train/Test cmsweb \\'confdb\\' systems requests logs dataset')\n",
    "ax3.set_ylabel('Amount of requests logs(Scaled)')\n",
    "ax3.set_xlabel('Time')\n",
    "\n",
    "plt.subplots_adjust(bottom=0.15,right = 2.5, wspace=0.1)\n",
    "plt.show()"
   ]
  },
  {
   "cell_type": "code",
   "execution_count": 197,
   "metadata": {},
   "outputs": [
    {
     "data": {
      "text/plain": [
       "<matplotlib.axes._subplots.AxesSubplot at 0x7f6d3b958320>"
      ]
     },
     "execution_count": 197,
     "metadata": {},
     "output_type": "execute_result"
    },
    {
     "data": {
      "image/png": "[encoded data removed]",
      "text/plain": [
       "<Figure size 432x288 with 1 Axes>"
      ]
     },
     "metadata": {},
     "output_type": "display_data"
    }
   ],
   "source": [
    "prep_fix.plot()"
   ]
  },
  {
   "cell_type": "code",
   "execution_count": 174,
   "metadata": {},
   "outputs": [],
   "source": [
    "# print(dataset)"
   ]
  },
  {
   "cell_type": "code",
   "execution_count": null,
   "metadata": {},
   "outputs": [],
   "source": []
  },
  {
   "cell_type": "code",
   "execution_count": null,
   "metadata": {},
   "outputs": [],
   "source": []
  },
  {
   "cell_type": "code",
   "execution_count": null,
   "metadata": {},
   "outputs": [],
   "source": []
  }
 ],
 "metadata": {
  "kernelspec": {
   "display_name": "Python 3",
   "language": "python",
   "name": "python3"
  },
  "language_info": {
   "codemirror_mode": {
    "name": "ipython",
    "version": 3
   },
   "file_extension": ".py",
   "mimetype": "text/x-python",
   "name": "python",
   "nbconvert_exporter": "python",
   "pygments_lexer": "ipython3",
   "version": "3.6.5"
  },
  "sparkconnect": {
   "bundled_options": [],
   "list_of_options": [
    {
     "name": "spark.jars",
     "value": "/eos/home-y/ysunthor/SWAN_projects/StreamingNotebook"
    },
    {
     "name": "spark.jars.packages",
     "value": "org.apache.spark:spark-sql-kafka-0-10_2.11:2.4.1"
    },
    {
     "name": "spark.driver.memory",
     "value": "6g"
    },
    {
     "name": "spark.executor.memory",
     "value": "10g"
    }
   ]
  }
 },
 "nbformat": 4,
 "nbformat_minor": 2
}
