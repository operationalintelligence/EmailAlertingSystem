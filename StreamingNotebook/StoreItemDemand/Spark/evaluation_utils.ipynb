{
 "cells": [
  {
   "cell_type": "markdown",
   "metadata": {},
   "source": [
    ""
   ]
  },
  {
   "cell_type": "code",
   "execution_count": 2,
   "metadata": {},
   "outputs": [
    {
     "data": {
      "text/html": [
       "<style scoped>\n  .ansiout {\n    display: block;\n    unicode-bidi: embed;\n    white-space: pre-wrap;\n    word-wrap: break-word;\n    word-break: break-all;\n    font-family: \"Source Code Pro\", \"Menlo\", monospace;;\n    font-size: 13px;\n    color: #555;\n    margin-left: 4px;\n    line-height: 19px;\n  }\n</style>\n<div class=\"ansiout\"></div>"
      ]
     },
     "metadata": {},
     "output_type": "execute_result"
    }
   ],
   "source": [
    "import pandas as pd\n",
    "from pyspark.sql.types import *\n",
    "from pyspark.sql import *"
   ]
  },
  {
   "cell_type": "code",
   "execution_count": 3,
   "metadata": {},
   "outputs": [],
   "source": [
    "def evaluate_model(model_name, model_path, weights_path, validation_data_set, evaluation, input_col='serie', label_col='sales'):\n",
    "  # Load model\n",
    "  model = load_model(model_path, weights_path)\n",
    "  # Load validation data set\n",
    "  validation = spark.sql(\"select * from %s\" % validation_data_set)\n",
    "  # Get validation series and labels\n",
    "  validation_x, validation_y = prepare_collected_data(validation.select(input_col, label_col).collect())\n",
    "  # Make predictions\n",
    "  predictions = model.predict(validation_x)\n",
    "  # Turn predctions into spark dataframe\n",
    "  df = pd.DataFrame(validation_y, columns=['label'])\n",
    "  df[label_col] = predictions\n",
    "  df_predictions = spark.createDataFrame(df)\n",
    "  # Evaluate model\n",
    "  rmse = rmse_evaluator.evaluate(df_predictions)\n",
    "  mse = mse_evaluator.evaluate(df_predictions)\n",
    "  mae = mae_evaluator.evaluate(df_predictions)\n",
    "  print(\"RMSE: %f, MSE: %f, MAE: %f\" % (rmse, mse, mae))\n",
    "  store_model(model_name, rmse, mse, mae, evaluation)"
   ]
  },
  {
   "cell_type": "code",
   "execution_count": 4,
   "metadata": {},
   "outputs": [],
   "source": [
    "def store_model(model_name, validation_rmse, validation_mse, validation_mae, evaluation):\n",
    "  data = [Row(model_name, validation_rmse, validation_mse, validation_mae)]\n",
    "\n",
    "  schema = [\n",
    "    StructField(\"Model name\", StringType(), True),\n",
    "    StructField(\"RMSE\", FloatType(), True),\n",
    "    StructField(\"MSE\", FloatType(), True),\n",
    "    StructField(\"MAE\", FloatType(), True)]\n",
    "\n",
    "  new_df = spark.createDataFrame(\n",
    "    spark.sparkContext.parallelize(data),\n",
    "    StructType(schema))\n",
    "  \n",
    "  evaluation = spark.sql(\"select * from %s\" % evaluation)\n",
    "  evaluation = evaluation.union(new_df)\n",
    "  evaluation.write.saveAsTable('model_evaluation_temp', mode='overwrite')\n",
    "  evaluation = spark.sql(\"select * from %s\" % 'model_evaluation_temp')\n",
    "  evaluation.write.saveAsTable('model_evaluation', mode='overwrite')"
   ]
  },
  {
   "cell_type": "code",
   "execution_count": 5,
   "metadata": {},
   "outputs": [
    {
     "data": {
      "text/html": [
       "<style scoped>\n  .ansiout {\n    display: block;\n    unicode-bidi: embed;\n    white-space: pre-wrap;\n    word-wrap: break-word;\n    word-break: break-all;\n    font-family: \"Source Code Pro\", \"Menlo\", monospace;;\n    font-size: 13px;\n    color: #555;\n    margin-left: 4px;\n    line-height: 19px;\n  }\n</style>\n<div class=\"ansiout\"></div>"
      ]
     },
     "metadata": {},
     "output_type": "execute_result"
    }
   ],
   "source": [
    "# someData = [\n",
    "#   Row('model1', 1, 2, 3)\n",
    "# ]\n",
    "\n",
    "# someSchema = [\n",
    "#   StructField(\"Model_name\", StringType(), True),\n",
    "#   StructField(\"RMSE\", FloatType(), True),\n",
    "#   StructField(\"MSE\", FloatType(), True),\n",
    "#   StructField(\"MAE\", FloatType(), True)\n",
    "# ]\n",
    "\n",
    "# model_evaluation = spark.createDataFrame(\n",
    "#   spark.sparkContext.parallelize([]),\n",
    "#   StructType(someSchema)\n",
    "# )\n",
    "# model_evaluation.write.saveAsTable('model_evaluation', mode='overwrite')"
   ]
  }
 ],
 "metadata": {
  "name": "evaluation_utils",
  "notebookId": 6.34798552107223E14
 },
 "nbformat": 4,
 "nbformat_minor": 0
}
