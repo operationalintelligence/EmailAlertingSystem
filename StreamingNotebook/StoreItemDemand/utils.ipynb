{
 "cells": [
  {
   "cell_type": "markdown",
   "metadata": {},
   "source": [
    "Notebook with auxiliary functions."
   ]
  },
  {
   "cell_type": "code",
   "execution_count": 2,
   "metadata": {},
   "outputs": [],
   "source": [
    "# delete file in dbfs\n",
    "# %fs rm -r file_name\n",
    "\n",
    "# see dbfs\n",
    "# %sh ls /dbfs"
   ]
  },
  {
   "cell_type": "code",
   "execution_count": 3,
   "metadata": {},
   "outputs": [],
   "source": [
    "import json\n",
    "import numpy as np\n",
    "import matplotlib.pyplot as plt\n",
    "from keras.models import model_from_json"
   ]
  },
  {
   "cell_type": "code",
   "execution_count": 4,
   "metadata": {},
   "outputs": [],
   "source": [
    "unlist = lambda x: [float(i[0]) for i in x]"
   ]
  },
  {
   "cell_type": "code",
   "execution_count": 5,
   "metadata": {},
   "outputs": [],
   "source": [
    "def prepare_data(data):\n",
    "  list_result = []\n",
    "  for i in range(len(data)):\n",
    "    list_result.append(np.asarray(data[i]))\n",
    "  return np.asarray(list_result)"
   ]
  },
  {
   "cell_type": "code",
   "execution_count": 6,
   "metadata": {},
   "outputs": [],
   "source": [
    "def prepare_collected_data(data):\n",
    "  list_features = []\n",
    "  list_labels = []\n",
    "  for i in range(len(data)):\n",
    "    list_features.append(np.asarray(data[i][0]))\n",
    "    list_labels.append(data[i][1])\n",
    "  return np.asarray(list_features), np.asarray(list_labels)"
   ]
  },
  {
   "cell_type": "code",
   "execution_count": 7,
   "metadata": {},
   "outputs": [],
   "source": [
    "def prepare_collected_data_test(data):\n",
    "  list_features = []\n",
    "  for i in range(len(data)):\n",
    "    list_features.append(np.asarray(data[i][0]))\n",
    "  return np.asarray(list_features)"
   ]
  },
  {
   "cell_type": "code",
   "execution_count": 8,
   "metadata": {},
   "outputs": [],
   "source": [
    "def save_model(model_path, weights_path, model):\n",
    "    \"\"\"\n",
    "    Save model.\n",
    "    \"\"\"\n",
    "    np.save(weights_path, model.get_weights())\n",
    "    with open(model_path, 'w') as f:\n",
    "      json.dump(model.to_json(), f)"
   ]
  },
  {
   "cell_type": "code",
   "execution_count": 9,
   "metadata": {},
   "outputs": [],
   "source": [
    "def load_model(model_path, weights_path):\n",
    "  \"\"\"\n",
    "  Load model.\n",
    "  \"\"\"\n",
    "  with open(model_path, 'r') as f:\n",
    "     data = json.load(f)\n",
    "\n",
    "  model = model_from_json(data)\n",
    "  weights = np.load(weights_path)\n",
    "  model.set_weights(weights)\n",
    "\n",
    "  return model"
   ]
  },
  {
   "cell_type": "code",
   "execution_count": 10,
   "metadata": {},
   "outputs": [],
   "source": [
    "def plot_metric(history, imgsize=(20,7)):\n",
    "  fig, (ax1) = plt.subplots(1, 1, sharex='col', figsize=imgsize)\n",
    "\n",
    "  ax1.plot(history.history['loss'], label='Train')\n",
    "  ax1.plot(history.history['val_loss'], label='Validation')\n",
    "  ax1.legend(loc='best')\n",
    "\n",
    "  plt.ylabel('loss')\n",
    "  plt.xlabel('Epochs')\n",
    "\n",
    "  return fig"
   ]
  }
 ],
 "metadata": {
  "kernelspec": {
   "display_name": "Python 3",
   "language": "python",
   "name": "python3"
  },
  "language_info": {
   "codemirror_mode": {
    "name": "ipython",
    "version": 3
   },
   "file_extension": ".py",
   "mimetype": "text/x-python",
   "name": "python",
   "nbconvert_exporter": "python",
   "pygments_lexer": "ipython3",
   "version": "3.6.5"
  },
  "name": "utils",
  "notebookId": 4039381710409462
 },
 "nbformat": 4,
 "nbformat_minor": 1
}
