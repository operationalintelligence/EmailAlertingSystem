{
 "cells": [
  {
   "cell_type": "markdown",
   "metadata": {},
   "source": [
    "Notebook with the custom spark ml transformers."
   ]
  },
  {
   "cell_type": "code",
   "execution_count": 2,
   "metadata": {},
   "outputs": [
    {
     "data": {
      "text/html": [
       "<style scoped>\n  .ansiout {\n    display: block;\n    unicode-bidi: embed;\n    white-space: pre-wrap;\n    word-wrap: break-word;\n    word-break: break-all;\n    font-family: \"Source Code Pro\", \"Menlo\", monospace;;\n    font-size: 13px;\n    color: #555;\n    margin-left: 4px;\n    line-height: 19px;\n  }\n</style>\n<div class=\"ansiout\"></div>"
      ]
     },
     "metadata": {},
     "output_type": "execute_result"
    }
   ],
   "source": [
    "from pyspark.sql import Window\n",
    "from pyspark.ml import Pipeline\n",
    "from pyspark.sql.types import *\n",
    "from pyspark.sql import types as T\n",
    "from pyspark.sql.functions import udf\n",
    "from pyspark.sql import functions as F\n",
    "from pyspark.ml.pipeline import Transformer\n",
    "from pyspark.ml.param.shared import HasInputCol, HasOutputCol"
   ]
  },
  {
   "cell_type": "code",
   "execution_count": 3,
   "metadata": {},
   "outputs": [
    {
     "data": {
      "text/html": [
       "<style scoped>\n  .ansiout {\n    display: block;\n    unicode-bidi: embed;\n    white-space: pre-wrap;\n    word-wrap: break-word;\n    word-break: break-all;\n    font-family: \"Source Code Pro\", \"Menlo\", monospace;;\n    font-size: 13px;\n    color: #555;\n    margin-left: 4px;\n    line-height: 19px;\n  }\n</style>\n<div class=\"ansiout\"></div>"
      ]
     },
     "metadata": {},
     "output_type": "execute_result"
    }
   ],
   "source": [
    "days = lambda i: i * 86400\n",
    "get_weekday = udf(lambda x: x.weekday())\n",
    "serie_has_null = F.udf(lambda x: reduce((lambda x, y: x and y), x))"
   ]
  },
  {
   "cell_type": "code",
   "execution_count": 4,
   "metadata": {},
   "outputs": [
    {
     "data": {
      "text/html": [
       "<style scoped>\n  .ansiout {\n    display: block;\n    unicode-bidi: embed;\n    white-space: pre-wrap;\n    word-wrap: break-word;\n    word-break: break-all;\n    font-family: \"Source Code Pro\", \"Menlo\", monospace;;\n    font-size: 13px;\n    color: #555;\n    margin-left: 4px;\n    line-height: 19px;\n  }\n</style>\n<div class=\"ansiout\"></div>"
      ]
     },
     "metadata": {},
     "output_type": "execute_result"
    }
   ],
   "source": [
    "class DateConverter(Transformer):\n",
    "  def __init__(self, inputCol, outputCol):\n",
    "    self.inputCol = inputCol\n",
    "    self.outputCol = outputCol\n",
    "  \n",
    "  def this():\n",
    "    this(Identifiable.randomUID(\"dateconverter\"))\n",
    "\n",
    "  def copy(extra):\n",
    "    defaultCopy(extra)\n",
    "    \n",
    "  def check_input_type(self, schema):\n",
    "    field = schema[self.inputCol]\n",
    "    if (field.dataType != TimestampType()):\n",
    "      raise Exception('Input type %s did not match input type TimestampType' % field.dataType)\n",
    "\n",
    "  def _transform(self, df):\n",
    "    self.check_input_type(df.schema)\n",
    "    return df.withColumn(self.outputCol, df.date.cast(self.inputCol))"
   ]
  },
  {
   "cell_type": "code",
   "execution_count": 5,
   "metadata": {},
   "outputs": [
    {
     "data": {
      "text/html": [
       "<style scoped>\n  .ansiout {\n    display: block;\n    unicode-bidi: embed;\n    white-space: pre-wrap;\n    word-wrap: break-word;\n    word-break: break-all;\n    font-family: \"Source Code Pro\", \"Menlo\", monospace;;\n    font-size: 13px;\n    color: #555;\n    margin-left: 4px;\n    line-height: 19px;\n  }\n</style>\n<div class=\"ansiout\"></div>"
      ]
     },
     "metadata": {},
     "output_type": "execute_result"
    }
   ],
   "source": [
    "class DayExtractor(Transformer):\n",
    "  def __init__(self, inputCol, outputCol='day'):\n",
    "    self.inputCol = inputCol\n",
    "    self.outputCol = outputCol\n",
    "  \n",
    "  def this():\n",
    "    this(Identifiable.randomUID(\"dayextractor\"))\n",
    "\n",
    "  def copy(extra):\n",
    "    defaultCopy(extra)\n",
    "    \n",
    "  def check_input_type(self, schema):\n",
    "    field = schema[self.inputCol]\n",
    "    if (field.dataType != DateType()):\n",
    "      raise Exception('DayExtractor input type %s did not match input type DateType' % field.dataType)\n",
    "\n",
    "  def _transform(self, df):\n",
    "    self.check_input_type(df.schema)\n",
    "    return df.withColumn(self.outputCol, F.dayofmonth(df[self.inputCol]))"
   ]
  },
  {
   "cell_type": "code",
   "execution_count": 6,
   "metadata": {},
   "outputs": [
    {
     "data": {
      "text/html": [
       "<style scoped>\n  .ansiout {\n    display: block;\n    unicode-bidi: embed;\n    white-space: pre-wrap;\n    word-wrap: break-word;\n    word-break: break-all;\n    font-family: \"Source Code Pro\", \"Menlo\", monospace;;\n    font-size: 13px;\n    color: #555;\n    margin-left: 4px;\n    line-height: 19px;\n  }\n</style>\n<div class=\"ansiout\"></div>"
      ]
     },
     "metadata": {},
     "output_type": "execute_result"
    }
   ],
   "source": [
    "class MonthExtractor(Transformer):\n",
    "  def __init__(self, inputCol, outputCol='month'):\n",
    "    self.inputCol = inputCol\n",
    "    self.outputCol = outputCol\n",
    "  \n",
    "  def this():\n",
    "    this(Identifiable.randomUID(\"monthextractor\"))\n",
    "\n",
    "  def copy(extra):\n",
    "    defaultCopy(extra)\n",
    "    \n",
    "  def check_input_type(self, schema):\n",
    "    field = schema[self.inputCol]\n",
    "    if (field.dataType != DateType()):\n",
    "      raise Exception('MonthExtractor input type %s did not match input type DateType' % field.dataType)\n",
    "\n",
    "  def _transform(self, df):\n",
    "    self.check_input_type(df.schema)\n",
    "    return df.withColumn(self.outputCol, F.month(df[self.inputCol]))"
   ]
  },
  {
   "cell_type": "code",
   "execution_count": 7,
   "metadata": {},
   "outputs": [
    {
     "data": {
      "text/html": [
       "<style scoped>\n  .ansiout {\n    display: block;\n    unicode-bidi: embed;\n    white-space: pre-wrap;\n    word-wrap: break-word;\n    word-break: break-all;\n    font-family: \"Source Code Pro\", \"Menlo\", monospace;;\n    font-size: 13px;\n    color: #555;\n    margin-left: 4px;\n    line-height: 19px;\n  }\n</style>\n<div class=\"ansiout\"></div>"
      ]
     },
     "metadata": {},
     "output_type": "execute_result"
    }
   ],
   "source": [
    "class YearExtractor(Transformer):\n",
    "  def __init__(self, inputCol, outputCol='year'):\n",
    "    self.inputCol = inputCol\n",
    "    self.outputCol = outputCol\n",
    "  \n",
    "  def this():\n",
    "    this(Identifiable.randomUID(\"yearextractor\"))\n",
    "\n",
    "  def copy(extra):\n",
    "    defaultCopy(extra)\n",
    "    \n",
    "  def check_input_type(self, schema):\n",
    "    field = schema[self.inputCol]\n",
    "    if (field.dataType != DateType()):\n",
    "      raise Exception('YearExtractor input type %s did not match input type DateType' % field.dataType)\n",
    "\n",
    "  def _transform(self, df):\n",
    "    self.check_input_type(df.schema)\n",
    "    return df.withColumn(self.outputCol, F.year(df[self.inputCol]))"
   ]
  },
  {
   "cell_type": "code",
   "execution_count": 8,
   "metadata": {},
   "outputs": [
    {
     "data": {
      "text/html": [
       "<style scoped>\n  .ansiout {\n    display: block;\n    unicode-bidi: embed;\n    white-space: pre-wrap;\n    word-wrap: break-word;\n    word-break: break-all;\n    font-family: \"Source Code Pro\", \"Menlo\", monospace;;\n    font-size: 13px;\n    color: #555;\n    margin-left: 4px;\n    line-height: 19px;\n  }\n</style>\n<div class=\"ansiout\"></div>"
      ]
     },
     "metadata": {},
     "output_type": "execute_result"
    }
   ],
   "source": [
    "class WeekDayExtractor(Transformer):\n",
    "  def __init__(self, inputCol, outputCol='weekday'):\n",
    "    self.inputCol = inputCol\n",
    "    self.outputCol = outputCol\n",
    "  \n",
    "  def this():\n",
    "    this(Identifiable.randomUID(\"weekdayextractor\"))\n",
    "\n",
    "  def copy(extra):\n",
    "    defaultCopy(extra)\n",
    "    \n",
    "  def check_input_type(self, schema):\n",
    "    field = schema[self.inputCol]\n",
    "    if (field.dataType != DateType()):\n",
    "      raise Exception('WeekDayExtractor input type %s did not match input type DateType' % field.dataType)\n",
    "\n",
    "  def _transform(self, df):\n",
    "    self.check_input_type(df.schema)\n",
    "    return df.withColumn(self.outputCol, F.dayofweek(F.col(self.inputCol)))\n",
    "  \n",
    "  "
   ]
  },
  {
   "cell_type": "code",
   "execution_count": 9,
   "metadata": {},
   "outputs": [],
   "source": [
    "class WeekendExtractor(Transformer):\n",
    "  def __init__(self, inputCol='weekday', outputCol='weekend'):\n",
    "    self.inputCol = inputCol\n",
    "    self.outputCol = outputCol\n",
    "  \n",
    "  def this():\n",
    "    this(Identifiable.randomUID(\"weekdayextractor\"))\n",
    "\n",
    "  def copy(extra):\n",
    "    defaultCopy(extra)\n",
    "    \n",
    "  def check_input_type(self, schema):\n",
    "    field = schema[self.inputCol]\n",
    "    if (field.dataType != IntegerType()):\n",
    "      raise Exception('WeekendExtractor input type %s did not match input type IntegerType' % field.dataType)\n",
    "\n",
    "  def _transform(self, df):\n",
    "    self.check_input_type(df.schema)\n",
    "    return df.withColumn(self.outputCol, F.when(((df[self.inputCol] == 5) | (df[self.inputCol] == 6)), 1).otherwise(0))"
   ]
  },
  {
   "cell_type": "code",
   "execution_count": 10,
   "metadata": {},
   "outputs": [],
   "source": [
    "class DataLabeler(Transformer):\n",
    "  def __init__(self, inputCol, outputCol='label', dateCol='date', idCol=['store', 'item']):\n",
    "    self.inputCol = inputCol\n",
    "    self.outputCol = outputCol\n",
    "    self.dateCol = dateCol\n",
    "    self.idCol = idCol\n",
    "  \n",
    "  def this():\n",
    "    this(Identifiable.randomUID(\"datalabeler\"))\n",
    "\n",
    "  def copy(extra):\n",
    "    defaultCopy(extra)\n",
    "    \n",
    "  def check_input_type(self, schema):\n",
    "    field = schema[self.inputCol]\n",
    "    if (field.dataType != IntegerType()):\n",
    "      raise Exception('DataLabeler input type %s did not match input type IntegerType' % field.dataType)\n",
    "\n",
    "  def _transform(self, df):\n",
    "    self.check_input_type(df.schema)\n",
    "    window = Window().partitionBy(self.idCol).orderBy(df[self.dateCol].cast('timestamp').cast('long')).rangeBetween(0, days(30))\n",
    "    \n",
    "    return df.withColumn(self.outputCol, F.last(df[self.inputCol]).over(window))"
   ]
  },
  {
   "cell_type": "code",
   "execution_count": 11,
   "metadata": {},
   "outputs": [
    {
     "data": {
      "text/html": [
       "<style scoped>\n  .ansiout {\n    display: block;\n    unicode-bidi: embed;\n    white-space: pre-wrap;\n    word-wrap: break-word;\n    word-break: break-all;\n    font-family: \"Source Code Pro\", \"Menlo\", monospace;;\n    font-size: 13px;\n    color: #555;\n    margin-left: 4px;\n    line-height: 19px;\n  }\n</style>\n<div class=\"ansiout\"></div>"
      ]
     },
     "metadata": {},
     "output_type": "execute_result"
    }
   ],
   "source": [
    "class SerieMaker(Transformer):\n",
    "  def __init__(self, inputCol='scaledFeatures', outputCol='serie', dateCol='date', idCol=['store', 'item'], serieSize=30):\n",
    "    self.inputCol = inputCol\n",
    "    self.outputCol = outputCol\n",
    "    self.dateCol = dateCol\n",
    "    self.serieSize = serieSize\n",
    "    self.idCol = idCol\n",
    "  \n",
    "  def this():\n",
    "    this(Identifiable.randomUID(\"seriemaker\"))\n",
    "\n",
    "  def copy(extra):\n",
    "    defaultCopy(extra)\n",
    "\n",
    "  def _transform(self, df):\n",
    "    window = Window.partitionBy(self.idCol).orderBy(self.dateCol)\n",
    "    series = []   \n",
    "  \n",
    "    df = df.withColumn('filled_serie', F.lit(0))\n",
    "    \n",
    "    for index in reversed(range(0, self.serieSize)):\n",
    "      window2 = Window.partitionBy(self.idCol).orderBy(self.dateCol).rowsBetween((30 - index), 30)\n",
    "      col_name = (self.outputCol + '%s' % index)\n",
    "      series.append(col_name)\n",
    "      df = df.withColumn(col_name, F.when(F.isnull(F.lag(F.col(self.inputCol), index).over(window)), F.first(F.col(self.inputCol), ignorenulls=True).over(window2)).otherwise(F.lag(F.col(self.inputCol), index).over(window)))\n",
    "      df = df.withColumn('filled_serie', F.when(F.isnull(F.lag(F.col(self.inputCol), index).over(window)), (F.col('filled_serie') + 1)).otherwise(F.col('filled_serie')))\n",
    "\n",
    "    df = df.withColumn('rank', F.rank().over(window))\n",
    "    df = df.withColumn(self.outputCol, F.array(*series))\n",
    "    \n",
    "    return df.drop(*series)"
   ]
  },
  {
   "cell_type": "code",
   "execution_count": 12,
   "metadata": {},
   "outputs": [],
   "source": [
    "class MonthBeginExtractor(Transformer):\n",
    "  def __init__(self, inputCol='day', outputCol='monthbegin'):\n",
    "    self.inputCol = inputCol\n",
    "    self.outputCol = outputCol\n",
    "  \n",
    "  def this():\n",
    "    this(Identifiable.randomUID(\"monthbeginextractor\"))\n",
    "\n",
    "  def copy(extra):\n",
    "    defaultCopy(extra)\n",
    "    \n",
    "  def check_input_type(self, schema):\n",
    "    field = schema[self.inputCol]\n",
    "    if (field.dataType != IntegerType()):\n",
    "      raise Exception('MonthBeginExtractor input type %s did not match input type IntegerType' % field.dataType)\n",
    "\n",
    "  def _transform(self, df):\n",
    "    self.check_input_type(df.schema)\n",
    "    return df.withColumn(self.outputCol, F.when((df[self.inputCol] <= 7), 1).otherwise(0))"
   ]
  },
  {
   "cell_type": "code",
   "execution_count": 13,
   "metadata": {},
   "outputs": [],
   "source": [
    "class MonthEndExtractor(Transformer):\n",
    "  def __init__(self, inputCol='day', outputCol='monthend'):\n",
    "    self.inputCol = inputCol\n",
    "    self.outputCol = outputCol\n",
    "  \n",
    "  def this():\n",
    "    this(Identifiable.randomUID(\"monthendextractor\"))\n",
    "\n",
    "  def copy(extra):\n",
    "    defaultCopy(extra)\n",
    "    \n",
    "  def check_input_type(self, schema):\n",
    "    field = schema[self.inputCol]\n",
    "    if (field.dataType != IntegerType()):\n",
    "      raise Exception('MonthEndExtractor input type %s did not match input type IntegerType' % field.dataType)\n",
    "\n",
    "  def _transform(self, df):\n",
    "    self.check_input_type(df.schema)\n",
    "    return df.withColumn(self.outputCol, F.when((df[self.inputCol] >= 24), 1).otherwise(0))"
   ]
  },
  {
   "cell_type": "code",
   "execution_count": 14,
   "metadata": {},
   "outputs": [],
   "source": [
    "class YearQuarterExtractor(Transformer):\n",
    "  def __init__(self, inputCol='month', outputCol='yearquarter'):\n",
    "    self.inputCol = inputCol\n",
    "    self.outputCol = outputCol\n",
    "  \n",
    "  def this():\n",
    "    this(Identifiable.randomUID(\"yearquarterextractor\"))\n",
    "\n",
    "  def copy(extra):\n",
    "    defaultCopy(extra)\n",
    "    \n",
    "  def check_input_type(self, schema):\n",
    "    field = schema[self.inputCol]\n",
    "    if (field.dataType != IntegerType()):\n",
    "      raise Exception('YearQuarterExtractor input type %s did not match input type IntegerType' % field.dataType)\n",
    "\n",
    "  def _transform(self, df):\n",
    "    self.check_input_type(df.schema)\n",
    "    return df.withColumn(self.outputCol, F.when((df[self.inputCol] <= 3), 0)\n",
    "                               .otherwise(F.when((df[self.inputCol] <= 6), 1)\n",
    "                                .otherwise(F.when((df[self.inputCol] <= 9), 2)\n",
    "                                 .otherwise(3))))"
   ]
  },
  {
   "cell_type": "code",
   "execution_count": 15,
   "metadata": {},
   "outputs": [],
   "source": [
    "class YearDayExtractor(Transformer):\n",
    "  def __init__(self, inputCol, outputCol='yearday'):\n",
    "    self.inputCol = inputCol\n",
    "    self.outputCol = outputCol\n",
    "  \n",
    "  def this():\n",
    "    this(Identifiable.randomUID(\"yeardayextractor\"))\n",
    "\n",
    "  def copy(extra):\n",
    "    defaultCopy(extra)\n",
    "    \n",
    "  def check_input_type(self, schema):\n",
    "    field = schema[self.inputCol]\n",
    "    if (field.dataType != DateType()):\n",
    "      raise Exception('YearDayExtractor input type %s did not match input type DateType' % field.dataType)\n",
    "\n",
    "  def _transform(self, df):\n",
    "    self.check_input_type(df.schema)\n",
    "    return df.withColumn(self.outputCol, F.dayofyear(F.col(self.inputCol)))"
   ]
  },
  {
   "cell_type": "code",
   "execution_count": 16,
   "metadata": {},
   "outputs": [],
   "source": [
    "class PreviousYearInputer(Transformer):\n",
    "  def __init__(self, idCol, dateCol, inputCol='sales', outputCol='previousyear'):\n",
    "    self.inputCol = inputCol\n",
    "    self.outputCol = outputCol\n",
    "    self.idCol = idCol\n",
    "    self.dateCol = dateCol\n",
    "  \n",
    "  def this():\n",
    "    this(Identifiable.randomUID(\"previousyearinputer\"))\n",
    "\n",
    "  def copy(extra):\n",
    "    defaultCopy(extra)\n",
    "\n",
    "  def _transform(self, df):\n",
    "    window = Window().partitionBy(self.idCol).orderBy(F.col(self.dateCol).cast('timestamp').cast('long')).rangeBetween(-days(365), 0)\n",
    "\n",
    "    return df.withColumn(self.outputCol, F.first(self.inputCol).over(window))"
   ]
  }
 ],
 "metadata": {
  "name": "custom_transformers",
  "notebookId": 4.039381710409205E15
 },
 "nbformat": 4,
 "nbformat_minor": 0
}
