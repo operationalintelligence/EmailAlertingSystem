{
 "cells": [
  {
   "cell_type": "code",
   "execution_count": null,
   "metadata": {},
   "outputs": [],
   "source": [
    "from pyspark.sql.functions import *\n",
    "from pyspark.sql.types import *"
   ]
  },
  {
   "cell_type": "code",
   "execution_count": null,
   "metadata": {},
   "outputs": [],
   "source": [
    "df_month = spark.read\\\n",
    ".parquet(\"/cms/users/carizapo/ming/groupdata_month_cmsweb_logs\")\\\n",
    ".withColumn(\"start\", col(\"window.start\"))\\\n",
    ".withColumn(\"end\", col(\"window.end\"))\\\n",
    ".drop(\"window\")\\\n",
    ".write.mode('overwrite').csv(\"/user/ysunthor/collection/month.csv\")"
   ]
  },
  {
   "cell_type": "code",
   "execution_count": null,
   "metadata": {},
   "outputs": [],
   "source": [
    "df_week = spark.read\\\n",
    ".parquet(\"/cms/users/carizapo/ming/groupdata_week_cmsweb_logs\")\\\n",
    ".withColumn(\"start\", from_unixtime(unix_timestamp(regexp_replace(col(\"window.start\"), 'T',' ')), 'dd-MM-yyyy HH:mm:ss'))\\\n",
    ".withColumn(\"end\", from_unixtime(unix_timestamp(regexp_replace(col(\"window.end\"), 'T',' ')), 'dd-MM-yyyy HH:mm:ss'))\\\n",
    ".drop(\"window\")\\\n",
    ".write.mode('overwrite').csv(\"/user/ysunthor/collection/week.csv\")"
   ]
  },
  {
   "cell_type": "code",
   "execution_count": null,
   "metadata": {},
   "outputs": [],
   "source": [
    "df_day = spark.read\\\n",
    ".option(\"timestampFormat\", \"MM-dd-yyyy hh mm ss\")\\\n",
    ".parquet(\"/cms/users/carizapo/ming/groupdata_day_cmsweb_logs\")\\\n",
    ".withColumn(\"start\", from_unixtime(unix_timestamp(regexp_replace(col(\"window.start\"), 'T',' ')), 'dd-MM-yyyy HH:mm:ss'))\\\n",
    ".withColumn(\"end\", from_unixtime(unix_timestamp(regexp_replace(col(\"window.end\"), 'T',' ')), 'dd-MM-yyyy HH:mm:ss'))\\\n",
    ".drop(\"window\")\\\n",
    ".write.mode('overwrite').csv(\"/user/ysunthor/collection/day.csv\")"
   ]
  },
  {
   "cell_type": "code",
   "execution_count": null,
   "metadata": {},
   "outputs": [],
   "source": [
    "df_hour = spark.read\\\n",
    ".parquet(\"/cms/users/carizapo/ming/groupdata_hour_cmsweb_logs\")\\\n",
    ".withColumn(\"start\", from_unixtime(unix_timestamp(regexp_replace(col(\"window.start\"), 'T',' ')), 'dd-MM-yyyy HH:mm:ss'))\\\n",
    ".withColumn(\"end\", from_unixtime(unix_timestamp(regexp_replace(col(\"window.end\"), 'T',' ')), 'dd-MM-yyyy HH:mm:ss'))\\\n",
    ".drop(\"window\")\\\n",
    ".write.csv(\"/user/ysunthor/collection/hour2.csv\")"
   ]
  },
  {
   "cell_type": "code",
   "execution_count": null,
   "metadata": {},
   "outputs": [],
   "source": [
    "df = spark.read\\\n",
    ".parquet(\"/cms/users/carizapo/ming/groupdata_cmsweb_logs\")\\\n",
    ".withColumn(\"start\", col(\"window.start\"))\\\n",
    ".withColumn(\"end\", col(\"window.end\"))\\\n",
    ".drop(\"window\")\\\n",
    ".write.mode('overwrite').csv(\"/user/ysunthor/collection/default.csv\")"
   ]
  },
  {
   "cell_type": "code",
   "execution_count": null,
   "metadata": {},
   "outputs": [],
   "source": [
    "!hdfs dfs -rm -r -skipTrash /user/ysunthor/collection/defaultFix.csv"
   ]
  },
  {
   "cell_type": "code",
   "execution_count": null,
   "metadata": {},
   "outputs": [],
   "source": []
  },
  {
   "cell_type": "code",
   "execution_count": null,
   "metadata": {},
   "outputs": [],
   "source": []
  },
  {
   "cell_type": "code",
   "execution_count": null,
   "metadata": {},
   "outputs": [],
   "source": []
  },
  {
   "cell_type": "code",
   "execution_count": null,
   "metadata": {},
   "outputs": [],
   "source": []
  }
 ],
 "metadata": {
  "kernelspec": {
   "display_name": "Python 3",
   "language": "python",
   "name": "python3"
  },
  "language_info": {
   "codemirror_mode": {
    "name": "ipython",
    "version": 3
   },
   "file_extension": ".py",
   "mimetype": "text/x-python",
   "name": "python",
   "nbconvert_exporter": "python",
   "pygments_lexer": "ipython3",
   "version": "3.6.5"
  },
  "sparkconnect": {
   "bundled_options": [],
   "list_of_options": []
  }
 },
 "nbformat": 4,
 "nbformat_minor": 2
}
