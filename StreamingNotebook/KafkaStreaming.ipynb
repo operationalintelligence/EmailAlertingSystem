{
 "cells": [
  {
   "cell_type": "markdown",
   "metadata": {},
   "source": [
    "# Todo list: \n",
    "<li> Find a way to \"trigger\" messege to kafka (May not need to store in hdfs anymore-> contr)</li>\n",
    "<li> Push to github </li>"
   ]
  },
  {
   "cell_type": "code",
   "execution_count": null,
   "metadata": {},
   "outputs": [],
   "source": [
    "!wget http://central.maven.org/maven2/org/apache/spark/spark-sql-kafka-0-10_2.11/2.4.1/spark-sql-kafka-0-10_2.11-2.4.1.jar"
   ]
  },
  {
   "cell_type": "code",
   "execution_count": null,
   "metadata": {},
   "outputs": [],
   "source": [
    "!hdfs dfs -rm -r -skipTrash /user/ysunthor/y_checkpoint"
   ]
  },
  {
   "cell_type": "code",
   "execution_count": null,
   "metadata": {},
   "outputs": [],
   "source": [
    "from pyspark.sql.functions import *\n",
    "from pyspark.sql.types import *\n",
    "from datetime import datetime\n",
    "from pyspark.sql.types import StructType\n",
    "import json\n",
    "emailSchema = StructType() \\\n",
    "        .add(\"subject\", StringType()) \\\n",
    "        .add(\"body\", StringType())"
   ]
  },
  {
   "cell_type": "markdown",
   "metadata": {},
   "source": [
    "# Group the data by window and subject and compute the count of each group\n",
    "\n",
    "<li>The engine will maintain state and allow late data to be update the state until (max event time seen by the engine - late threshold > 1 minute). In other words, late data within the threshold will be aggregated, but data later than the threshold will be dropped.</li> \n",
    "<li>Count subject within 5 minutes windows, updating every 5 sec</li>\n",
    "<li>Grouping is 2 min delay on Spark</li>"
   ]
  },
  {
   "cell_type": "code",
   "execution_count": null,
   "metadata": {},
   "outputs": [],
   "source": [
    "\n",
    "# Subscribe to 1 topic\n",
    "\n",
    "# .option(\"kafka.bootstrap.servers\", \"188.185.79.229:9092\")\\\n",
    "# .option(\"startingOffsets\", \"earliest\") \\\n",
    "\n",
    "raw_data = spark.readStream.format(\"kafka\")\\\n",
    ".option(\"kafka.bootstrap.servers\", \"188.185.79.229:9092\")\\\n",
    ".option(\"subscribe\",\"mock_email_alert\")\\\n",
    ".load()\\\n",
    ".select(\n",
    "    from_json(col(\"value\").cast(\"string\"), emailSchema).getField(\"subject\").alias(\"subject\"),\n",
    "    col(\"timestamp\").alias(\"timestamp\"))\\\n",
    "\n",
    "raw_data.printSchema()"
   ]
  },
  {
   "cell_type": "markdown",
   "metadata": {},
   "source": [
    "## Pattern \n",
    "<li>Similar Subject name more than N number per window in \"filtered_email\"</li>\n",
    "\n",
    "<li>Different Subject name more than N number per window in \"strenge_email\"</li>"
   ]
  },
  {
   "cell_type": "code",
   "execution_count": null,
   "metadata": {},
   "outputs": [],
   "source": [
    "groupped_data=raw_data\\\n",
    ".withWatermark(\"timestamp\", \"1 minute\")\\\n",
    ".groupBy(window('timestamp', \"1 minute\", \"1 minute\"),\"subject\")\\\n",
    ".agg(count(\"subject\"))\\\n",
    "\n",
    "groupped_data.printSchema()"
   ]
  },
  {
   "cell_type": "code",
   "execution_count": null,
   "metadata": {},
   "outputs": [],
   "source": [
    "unique_row=raw_data\\\n",
    ".select(\n",
    "    window(\"timestamp\", \"1 minute\"),\n",
    "    \"timestamp\",\n",
    "    \"subject\"\n",
    "  )\\\n",
    ".withWatermark(\"window\", \"1 day\")\\\n",
    ".dropDuplicates([\"subject\", \"window\"])\\"
   ]
  },
  {
   "cell_type": "code",
   "execution_count": null,
   "metadata": {},
   "outputs": [],
   "source": [
    "from pyspark.sql.functions import concat_ws, collect_list\n",
    "seq=raw_data\\\n",
    ".withWatermark(\"timestamp\", \"1 minute\")\\\n",
    ".groupBy(window('timestamp', \"1 minute\", \"1 minute\"))\\\n",
    ".agg(concat_ws(',',collect_list(\"subject\")).alias(\"subject_sequence\"))"
   ]
  },
  {
   "cell_type": "code",
   "execution_count": null,
   "metadata": {},
   "outputs": [],
   "source": [
    "filtered_data= groupped_data.filter(\"count(subject) > 10\")\n",
    "filtered_data.printSchema()"
   ]
  },
  {
   "cell_type": "code",
   "execution_count": null,
   "metadata": {},
   "outputs": [],
   "source": [
    "streamout_data_flow=filtered_data\\\n",
    "  .selectExpr(\"CAST(window AS STRING) AS key\", \"to_json(struct(subject,count)) AS value\") \\\n",
    "  .writeStream \\\n",
    "  .format(\"kafka\") \\\n",
    "  .option(\"kafka.bootstrap.servers\", \"188.185.79.229:9092\") \\\n",
    "  .option(\"topic\", \"filter_alert\") \\\n",
    "  .option(\"checkpointLocation\", \"/cms/users/carizapo/ming/kafka\") \\\n",
    "    .outputMode(\"Append\")\\\n",
    "    .start()"
   ]
  },
  {
   "cell_type": "code",
   "execution_count": null,
   "metadata": {},
   "outputs": [],
   "source": [
    "hdfs_data_flow=groupped_data.writeStream \\\n",
    ".outputMode(\"append\")\\\n",
    ".format(\"parquet\")\\\n",
    " .option(\"path\", \"/cms/users/carizapo/ming/groupdata\") \\\n",
    " .option(\"checkpointLocation\", \"/cms/users/carizapo/ming/checkpoint\") \\\n",
    " .outputMode(\"append\") \\\n",
    " .start()"
   ]
  },
  {
   "cell_type": "code",
   "execution_count": null,
   "metadata": {},
   "outputs": [],
   "source": [
    "raw_data_flow = raw_data.writeStream.queryName(\"email\").outputMode(\"Append\").format(\"memory\").start()\n",
    "groupped_data_flow = groupped_data.writeStream.queryName(\"groupped_email\").outputMode(\"Append\").format(\"memory\").start()\n",
    "# filtered_data_flow = filtered_data.writeStream.queryName(\"filtered_email\").outputMode(\"Append\").format(\"memory\").start()\n",
    "# unique_row_flow=unique_row.writeStream.queryName(\"unique_email\").outputMode(\"Append\").format(\"memory\").start()\n",
    "# seq_flow=seq.writeStream.queryName(\"seq_email\").outputMode(\"Append\").format(\"memory\").start()\"\""
   ]
  },
  {
   "cell_type": "code",
   "execution_count": null,
   "metadata": {},
   "outputs": [],
   "source": [
    "spark.streams.active"
   ]
  },
  {
   "cell_type": "code",
   "execution_count": null,
   "metadata": {},
   "outputs": [],
   "source": [
    "# raw_data.isStreaming\n",
    "# unique_row.isStreaming\n",
    "# filtered_data.isStreaming\n",
    "# groupped_data.isStreaming"
   ]
  },
  {
   "cell_type": "code",
   "execution_count": null,
   "metadata": {},
   "outputs": [],
   "source": [
    "# streamout_data_flow.processAllAvailable()\n",
    "# hdfs_data_flow.processAllAvailable()"
   ]
  },
  {
   "cell_type": "code",
   "execution_count": null,
   "metadata": {},
   "outputs": [],
   "source": [
    "# raw_data_flow.lastProgress\n",
    "# groupped_data_flow.lastProgress\n",
    "# unique_row_flow.lastProgress\n",
    "# filtered_data_flow.lastProgress\n",
    "# streamout_data_flow.lastProgress"
   ]
  },
  {
   "cell_type": "code",
   "execution_count": null,
   "metadata": {},
   "outputs": [],
   "source": [
    "raw_data_flow.stop()\n",
    "groupped_data_flow.stop()\n",
    "# filtered_data_flow.stop()\n",
    "hdfs_data_flow.stop()\n",
    "# streamout_data_flow.stop()\n",
    "# unique_row_flow.stop()\n",
    "# seq_flow.stop()"
   ]
  },
  {
   "cell_type": "code",
   "execution_count": null,
   "metadata": {},
   "outputs": [],
   "source": [
    "alerts = spark.sql(\"select * from email\")\n",
    "alerts.show()"
   ]
  },
  {
   "cell_type": "code",
   "execution_count": null,
   "metadata": {},
   "outputs": [],
   "source": [
    "alerts = spark.sql(\"select * from groupped_email\")\n",
    "alerts.show()"
   ]
  },
  {
   "cell_type": "code",
   "execution_count": null,
   "metadata": {},
   "outputs": [],
   "source": [
    "alerts = spark.sql(\"select * from filtered_email\")\n",
    "alerts.show()"
   ]
  },
  {
   "cell_type": "code",
   "execution_count": null,
   "metadata": {},
   "outputs": [],
   "source": [
    "alerts = spark.sql(\"select * from unique_email\")\n",
    "alerts.show()"
   ]
  },
  {
   "cell_type": "code",
   "execution_count": null,
   "metadata": {},
   "outputs": [],
   "source": [
    "alerts = spark.sql(\"select * from seq_email\")\n",
    "alerts.show()"
   ]
  }
 ],
 "metadata": {
  "kernelspec": {
   "display_name": "Python 3",
   "language": "python",
   "name": "python3"
  },
  "language_info": {
   "codemirror_mode": {
    "name": "ipython",
    "version": 3
   },
   "file_extension": ".py",
   "mimetype": "text/x-python",
   "name": "python",
   "nbconvert_exporter": "python",
   "pygments_lexer": "ipython3",
   "version": "3.6.5"
  },
  "sparkconnect": {
   "bundled_options": [],
   "list_of_options": [
    {
     "name": "spark.jars",
     "value": "/eos/home-y/ysunthor/SWAN_projects/StreamingNotebook"
    },
    {
     "name": "spark.jars.packages",
     "value": "org.apache.spark:spark-sql-kafka-0-10_2.11:2.4.1"
    }
   ]
  }
 },
 "nbformat": 4,
 "nbformat_minor": 2
}
