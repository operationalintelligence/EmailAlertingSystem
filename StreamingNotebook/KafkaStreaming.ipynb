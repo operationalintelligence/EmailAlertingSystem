{
 "cells": [
  {
   "cell_type": "markdown",
   "metadata": {},
   "source": [
    "# Todo list: \n",
    "<li> Find a way to \"trigger\" messege to kafka (May not need to store in hdfs anymore-> contr)</li>\n",
    "<li> Push to github </li>"
   ]
  },
  {
   "cell_type": "code",
   "execution_count": null,
   "metadata": {},
   "outputs": [],
   "source": [
    "!wget http://central.maven.org/maven2/org/apache/spark/spark-sql-kafka-0-10_2.11/2.4.1/spark-sql-kafka-0-10_2.11-2.4.1.jar"
   ]
  },
  {
   "cell_type": "code",
   "execution_count": 3,
   "metadata": {},
   "outputs": [],
   "source": [
    "from pyspark.sql.functions import *\n",
    "from pyspark.sql.types import *\n",
    "from datetime import datetime\n",
    "from pyspark.sql.types import StructType\n",
    "import json\n",
    "emailSchema = StructType() \\\n",
    "        .add(\"subject\", StringType()) \\\n",
    "        .add(\"body\", StringType())"
   ]
  },
  {
   "cell_type": "markdown",
   "metadata": {},
   "source": [
    "# Group the data by window and subject and compute the count of each group\n",
    "\n",
    "<li>The engine will maintain state and allow late data to be update the state until (max event time seen by the engine - late threshold > 1 Month). In other words, late data within the threshold will be aggregated, but data later than the threshold will be dropped.</li> \n",
    "<li>Count subject within 1 day windows, updating every 40 minutes</li>"
   ]
  },
  {
   "cell_type": "code",
   "execution_count": 4,
   "metadata": {},
   "outputs": [
    {
     "name": "stdout",
     "output_type": "stream",
     "text": [
      "root\n",
      " |-- subject: string (nullable = true)\n",
      " |-- timestamp: timestamp (nullable = true)\n",
      "\n"
     ]
    }
   ],
   "source": [
    "\n",
    "# Subscribe to 1 topic\n",
    "\n",
    "# .option(\"kafka.bootstrap.servers\", \"188.185.79.229:9092\")\\\n",
    "# .option(\"startingOffsets\", \"earliest\") \\\n",
    "\n",
    "data = spark.readStream.format(\"kafka\")\\\n",
    ".option(\"kafka.bootstrap.servers\", \"188.185.79.229:9092\")\\\n",
    ".option(\"subscribe\",\"mock_email_alert\")\\\n",
    ".load()\\\n",
    ".select(\n",
    "    from_json(col(\"value\").cast(\"string\"), emailSchema).getField(\"subject\").alias(\"subject\"),\n",
    "    col(\"timestamp\").alias(\"timestamp\"))\\\n",
    "\n",
    "data.printSchema()"
   ]
  },
  {
   "cell_type": "code",
   "execution_count": 22,
   "metadata": {},
   "outputs": [
    {
     "name": "stdout",
     "output_type": "stream",
     "text": [
      "root\n",
      " |-- window: struct (nullable = true)\n",
      " |    |-- start: timestamp (nullable = true)\n",
      " |    |-- end: timestamp (nullable = true)\n",
      " |-- subject: string (nullable = true)\n",
      " |-- count(subject): long (nullable = false)\n",
      "\n"
     ]
    }
   ],
   "source": [
    "filter_data=data.withWatermark(\"timestamp\", \"1 minute\")\\\n",
    ".groupBy(window('timestamp', \"5 minute\", \"5 seconds\"),\"subject\")\\\n",
    ".agg(count(\"subject\"))\\\n",
    "# .select(\"*\").where(\"count(subject) > 10\")\n",
    "\n",
    "filter_data.printSchema()"
   ]
  },
  {
   "cell_type": "code",
   "execution_count": 32,
   "metadata": {},
   "outputs": [],
   "source": [
    "streamout_data=data\\\n",
    ".select( \\\n",
    "    to_json(struct(\"subject\")).alias(\"key\"),\n",
    "    col(\"subject\").cast(\"string\").alias(\"value\")) \\\n",
    "  .writeStream \\\n",
    "  .format(\"kafka\") \\\n",
    "  .option(\"kafka.bootstrap.servers\", \"kafka:9092\") \\\n",
    "  .option(\"topic\", \"filter_alert\") \\\n",
    "  .option(\"checkpointLocation\", \"/user/ysunthor/checkpoint\") \\\n",
    "  .outputMode(\"append\") \\"
   ]
  },
  {
   "cell_type": "code",
   "execution_count": 23,
   "metadata": {},
   "outputs": [],
   "source": [
    "data_flow = data.writeStream.queryName(\"email\").outputMode(\"Append\").format(\"memory\").start()\n",
    "filter_flow = filter_data.writeStream.queryName(\"filter_email\").outputMode(\"Append\").format(\"memory\").start()\n",
    "# streamout_flow = streamout_data.start()"
   ]
  },
  {
   "cell_type": "code",
   "execution_count": 127,
   "metadata": {},
   "outputs": [
    {
     "data": {
      "text/plain": [
       "True"
      ]
     },
     "execution_count": 127,
     "metadata": {},
     "output_type": "execute_result"
    }
   ],
   "source": [
    "data.isStreaming"
   ]
  },
  {
   "cell_type": "code",
   "execution_count": 34,
   "metadata": {},
   "outputs": [
    {
     "data": {
      "text/plain": [
       "[]"
      ]
     },
     "execution_count": 34,
     "metadata": {},
     "output_type": "execute_result"
    }
   ],
   "source": [
    "spark.streams.active"
   ]
  },
  {
   "cell_type": "code",
   "execution_count": 25,
   "metadata": {},
   "outputs": [],
   "source": [
    "data_flow.lastProgress\n",
    "# filter_flow.lastProgress\n",
    "# streamout_flow.lastProgress"
   ]
  },
  {
   "cell_type": "code",
   "execution_count": 33,
   "metadata": {},
   "outputs": [],
   "source": [
    "data_flow.stop()\n",
    "filter_flow.stop()\n",
    "# streamout_flow.stop()"
   ]
  },
  {
   "cell_type": "code",
   "execution_count": 30,
   "metadata": {},
   "outputs": [
    {
     "name": "stdout",
     "output_type": "stream",
     "text": [
      "+--------------+--------------------+\n",
      "|       subject|           timestamp|\n",
      "+--------------+--------------------+\n",
      "|      CRON job|2019-06-11 16:26:...|\n",
      "|      CRON job|2019-06-11 16:26:...|\n",
      "|PopDB problems|2019-06-11 16:27:...|\n",
      "|PopDB problems|2019-06-11 16:27:...|\n",
      "|       WARNING|2019-06-11 16:27:...|\n",
      "|       WARNING|2019-06-11 16:27:...|\n",
      "|PopDB problems|2019-06-11 16:27:...|\n",
      "|PopDB problems|2019-06-11 16:27:...|\n",
      "|PopDB problems|2019-06-11 16:27:...|\n",
      "|       WARNING|2019-06-11 16:27:...|\n",
      "|       WARNING|2019-06-11 16:27:...|\n",
      "|PopDB problems|2019-06-11 16:27:...|\n",
      "|      CRON job|2019-06-11 16:27:...|\n",
      "|      CRON job|2019-06-11 16:27:...|\n",
      "|       WARNING|2019-06-11 16:28:...|\n",
      "|       WARNING|2019-06-11 16:28:...|\n",
      "|       WARNING|2019-06-11 16:28:...|\n",
      "|       WARNING|2019-06-11 16:28:...|\n",
      "|PopDB problems|2019-06-11 16:28:...|\n",
      "|      CRON job|2019-06-11 16:28:...|\n",
      "+--------------+--------------------+\n",
      "only showing top 20 rows\n",
      "\n"
     ]
    }
   ],
   "source": [
    "alerts = spark.sql(\"select * from email\")\n",
    "alerts.show()"
   ]
  },
  {
   "cell_type": "code",
   "execution_count": 31,
   "metadata": {},
   "outputs": [
    {
     "name": "stdout",
     "output_type": "stream",
     "text": [
      "+--------------------+--------------+--------------+\n",
      "|              window|       subject|count(subject)|\n",
      "+--------------------+--------------+--------------+\n",
      "|[2019-06-11 16:21...|      CRON job|             1|\n",
      "|[2019-06-11 16:22...|      CRON job|             2|\n",
      "|[2019-06-11 16:22...|       WARNING|             2|\n",
      "|[2019-06-11 16:23...|       WARNING|             4|\n",
      "|[2019-06-11 16:22...|       WARNING|             3|\n",
      "|[2019-06-11 16:22...|      CRON job|             2|\n",
      "|[2019-06-11 16:22...|      CRON job|             2|\n",
      "|[2019-06-11 16:22...|       WARNING|             4|\n",
      "|[2019-06-11 16:22...|PopDB problems|             5|\n",
      "|[2019-06-11 16:22...|      CRON job|             2|\n",
      "|[2019-06-11 16:22...|      CRON job|             2|\n",
      "|[2019-06-11 16:22...|PopDB problems|             5|\n",
      "|[2019-06-11 16:22...|PopDB problems|             6|\n",
      "|[2019-06-11 16:23...|PopDB problems|             6|\n",
      "|[2019-06-11 16:22...|PopDB problems|             1|\n",
      "|[2019-06-11 16:23...|PopDB problems|             6|\n",
      "|[2019-06-11 16:22...|PopDB problems|             3|\n",
      "|[2019-06-11 16:22...|PopDB problems|             4|\n",
      "|[2019-06-11 16:22...|      CRON job|             2|\n",
      "|[2019-06-11 16:22...|PopDB problems|             5|\n",
      "+--------------------+--------------+--------------+\n",
      "only showing top 20 rows\n",
      "\n"
     ]
    }
   ],
   "source": [
    "alerts = spark.sql(\"select * from filter_email\")\n",
    "alerts.show()"
   ]
  },
  {
   "cell_type": "code",
   "execution_count": null,
   "metadata": {},
   "outputs": [],
   "source": []
  },
  {
   "cell_type": "code",
   "execution_count": null,
   "metadata": {},
   "outputs": [],
   "source": []
  }
 ],
 "metadata": {
  "kernelspec": {
   "display_name": "Python 3",
   "language": "python",
   "name": "python3"
  },
  "language_info": {
   "codemirror_mode": {
    "name": "ipython",
    "version": 3
   },
   "file_extension": ".py",
   "mimetype": "text/x-python",
   "name": "python",
   "nbconvert_exporter": "python",
   "pygments_lexer": "ipython3",
   "version": "3.6.5"
  },
  "sparkconnect": {
   "bundled_options": [],
   "list_of_options": [
    {
     "name": "spark.jars",
     "value": "/eos/home-y/ysunthor/SWAN_projects/StreamingNotebook"
    },
    {
     "name": "spark.jars.packages",
     "value": "org.apache.spark:spark-sql-kafka-0-10_2.11:2.4.1"
    }
   ]
  }
 },
 "nbformat": 4,
 "nbformat_minor": 2
}
