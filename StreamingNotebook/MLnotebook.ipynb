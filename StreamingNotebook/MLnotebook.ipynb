{
 "cells": [
  {
   "cell_type": "code",
   "execution_count": 42,
   "metadata": {},
   "outputs": [
    {
     "data": {
      "text/plain": [
       "[<pyspark.sql.streaming.StreamingQuery at 0x7fe8ea7a3d68>]"
      ]
     },
     "execution_count": 42,
     "metadata": {},
     "output_type": "execute_result"
    }
   ],
   "source": [
    "spark.streams.active"
   ]
  },
  {
   "cell_type": "code",
   "execution_count": 1,
   "metadata": {},
   "outputs": [],
   "source": [
    "from pyspark.sql.functions import *\n",
    "from pyspark.sql.types import *"
   ]
  },
  {
   "cell_type": "code",
   "execution_count": 2,
   "metadata": {},
   "outputs": [],
   "source": [
    "userSchema = StructType() \\\n",
    "        .add(\"window\",StructType()\\\n",
    "             .add(\"start\",TimestampType())\\\n",
    "             .add(\"end\",TimestampType()))\\\n",
    "        .add(\"subject\", StringType())\\\n",
    "        .add(\"count\", LongType())"
   ]
  },
  {
   "cell_type": "code",
   "execution_count": 11,
   "metadata": {},
   "outputs": [
    {
     "name": "stdout",
     "output_type": "stream",
     "text": [
      "root\n",
      " |-- window: struct (nullable = true)\n",
      " |    |-- start: timestamp (nullable = true)\n",
      " |    |-- end: timestamp (nullable = true)\n",
      " |-- subject: string (nullable = true)\n",
      " |-- count: long (nullable = true)\n",
      "\n"
     ]
    }
   ],
   "source": [
    "raw_data = spark\\\n",
    ".readStream.format(\"parquet\")\\\n",
    ".schema(userSchema)\\\n",
    ".load(\"/cms/users/carizapo/ming/groupdata_cmsweb_logs\");\n",
    "raw_data.printSchema()"
   ]
  },
  {
   "cell_type": "code",
   "execution_count": 181,
   "metadata": {},
   "outputs": [],
   "source": [
    "raw_data_match = raw_data.withColumnRenamed(\"subject\",\"system\").drop(\"subject\").withColumn('date',col(\"window.start\")).drop(col(\"window\"))\\"
   ]
  },
  {
   "cell_type": "code",
   "execution_count": null,
   "metadata": {},
   "outputs": [],
   "source": [
    "raw_data_flow.lastProgress()"
   ]
  },
  {
   "cell_type": "code",
   "execution_count": 14,
   "metadata": {},
   "outputs": [],
   "source": [
    "raw_data_flow = raw_data.writeStream.queryName(\"hdfs\").outputMode(\"Append\").format(\"memory\").start()"
   ]
  },
  {
   "cell_type": "code",
   "execution_count": 12,
   "metadata": {},
   "outputs": [],
   "source": [
    "raw_data_flow.stop()"
   ]
  },
  {
   "cell_type": "code",
   "execution_count": 157,
   "metadata": {},
   "outputs": [
    {
     "name": "stdout",
     "output_type": "stream",
     "text": [
      "+--------------------+-------+-----+\n",
      "|              window|subject|count|\n",
      "+--------------------+-------+-----+\n",
      "|[2019-06-28 16:14...|   null|  101|\n",
      "|[2019-06-29 19:59...|   null|    2|\n",
      "|[2019-06-28 12:54...|   null|    1|\n",
      "|[2019-07-01 07:45...|   null|    2|\n",
      "|[2019-06-28 12:08...|   null| 4292|\n",
      "|[2019-07-01 03:43...|   null| 8435|\n",
      "|[2019-06-28 12:57...|   null|    1|\n",
      "|[2019-06-30 21:38...|   null|    1|\n",
      "|[2019-06-29 13:42...|   null|    1|\n",
      "|[2019-07-01 04:39...|   null|  662|\n",
      "|[2019-06-29 20:53...|   null|    1|\n",
      "|[2019-06-29 17:29...|   null|   25|\n",
      "|[2019-06-30 16:13...|   null|    1|\n",
      "|[2019-06-29 09:23...|   null|    4|\n",
      "|[2019-06-28 12:58...|   null|    1|\n",
      "|[2019-06-30 17:13...|   null|    9|\n",
      "|[2019-06-29 05:14...|   null|    1|\n",
      "|[2019-06-30 00:59...|   null|   37|\n",
      "|[2019-06-30 10:38...|   null|    1|\n",
      "|[2019-06-29 08:14...|   null|    5|\n",
      "+--------------------+-------+-----+\n",
      "only showing top 20 rows\n",
      "\n"
     ]
    }
   ],
   "source": [
    "alerts = spark.sql(\"select * from hdfs\")\n",
    "alerts.show()"
   ]
  },
  {
   "cell_type": "code",
   "execution_count": 158,
   "metadata": {},
   "outputs": [],
   "source": [
    "from pyspark.sql.window import Window as W\n",
    "alerts = alerts.fillna({'subject':'unknown'})\n",
    "raw_data_id = alerts.select(\"subject\").distinct()\n",
    "windowSpec = W.orderBy(\"subject\")\n",
    "raw_data_id=raw_data_id.withColumn(\"id\", row_number().over(windowSpec))\n",
    "raw_data_id=raw_data_id.withColumnRenamed(\"subject\",\"system\")"
   ]
  },
  {
   "cell_type": "code",
   "execution_count": 159,
   "metadata": {},
   "outputs": [
    {
     "name": "stdout",
     "output_type": "stream",
     "text": [
      "+--------------------+-------+-----+\n",
      "|              window|subject|count|\n",
      "+--------------------+-------+-----+\n",
      "|[2019-06-28 16:14...|unknown|  101|\n",
      "|[2019-06-29 19:59...|unknown|    2|\n",
      "|[2019-06-28 12:54...|unknown|    1|\n",
      "|[2019-07-01 07:45...|unknown|    2|\n",
      "|[2019-06-28 12:08...|unknown| 4292|\n",
      "|[2019-07-01 03:43...|unknown| 8435|\n",
      "|[2019-06-28 12:57...|unknown|    1|\n",
      "|[2019-06-30 21:38...|unknown|    1|\n",
      "|[2019-06-29 13:42...|unknown|    1|\n",
      "|[2019-07-01 04:39...|unknown|  662|\n",
      "|[2019-06-29 20:53...|unknown|    1|\n",
      "|[2019-06-29 17:29...|unknown|   25|\n",
      "|[2019-06-30 16:13...|unknown|    1|\n",
      "|[2019-06-29 09:23...|unknown|    4|\n",
      "|[2019-06-28 12:58...|unknown|    1|\n",
      "|[2019-06-30 17:13...|unknown|    9|\n",
      "|[2019-06-29 05:14...|unknown|    1|\n",
      "|[2019-06-30 00:59...|unknown|   37|\n",
      "|[2019-06-30 10:38...|unknown|    1|\n",
      "|[2019-06-29 08:14...|unknown|    5|\n",
      "+--------------------+-------+-----+\n",
      "only showing top 20 rows\n",
      "\n",
      "+-------+---+\n",
      "| system| id|\n",
      "+-------+---+\n",
      "|unknown|  1|\n",
      "+-------+---+\n",
      "\n"
     ]
    }
   ],
   "source": [
    "alerts.show()\n",
    "raw_data_id.show()"
   ]
  },
  {
   "cell_type": "code",
   "execution_count": 164,
   "metadata": {},
   "outputs": [],
   "source": [
    "alerts_df=alerts\\\n",
    ".join(raw_data_id, raw_data_id.system == alerts.subject)\\\n",
    ".withColumn('date',col(\"window.start\")).drop(col(\"window\"))\\\n",
    ".drop(alerts.subject)"
   ]
  },
  {
   "cell_type": "code",
   "execution_count": 165,
   "metadata": {},
   "outputs": [
    {
     "name": "stdout",
     "output_type": "stream",
     "text": [
      "+-----+-------+---+-------------------+\n",
      "|count| system| id|               date|\n",
      "+-----+-------+---+-------------------+\n",
      "|  101|unknown|  1|2019-06-28 16:14:00|\n",
      "|    2|unknown|  1|2019-06-29 19:59:00|\n",
      "|    1|unknown|  1|2019-06-28 12:54:00|\n",
      "|    2|unknown|  1|2019-07-01 07:45:00|\n",
      "| 4292|unknown|  1|2019-06-28 12:08:00|\n",
      "| 8435|unknown|  1|2019-07-01 03:43:00|\n",
      "|    1|unknown|  1|2019-06-28 12:57:00|\n",
      "|    1|unknown|  1|2019-06-30 21:38:00|\n",
      "|    1|unknown|  1|2019-06-29 13:42:00|\n",
      "|  662|unknown|  1|2019-07-01 04:39:00|\n",
      "|    1|unknown|  1|2019-06-29 20:53:00|\n",
      "|   25|unknown|  1|2019-06-29 17:29:00|\n",
      "|    1|unknown|  1|2019-06-30 16:13:00|\n",
      "|    4|unknown|  1|2019-06-29 09:23:00|\n",
      "|    1|unknown|  1|2019-06-28 12:58:00|\n",
      "|    9|unknown|  1|2019-06-30 17:13:00|\n",
      "|    1|unknown|  1|2019-06-29 05:14:00|\n",
      "|   37|unknown|  1|2019-06-30 00:59:00|\n",
      "|    1|unknown|  1|2019-06-30 10:38:00|\n",
      "|    5|unknown|  1|2019-06-29 08:14:00|\n",
      "+-----+-------+---+-------------------+\n",
      "only showing top 20 rows\n",
      "\n"
     ]
    }
   ],
   "source": [
    "alerts_df.show()"
   ]
  },
  {
   "cell_type": "code",
   "execution_count": null,
   "metadata": {},
   "outputs": [],
   "source": [
    "# !git clone https://github.com/dimitreOliveira/StoreItemDemand/"
   ]
  },
  {
   "cell_type": "code",
   "execution_count": null,
   "metadata": {},
   "outputs": [],
   "source": [
    "!pip install --user --upgrade dist-keras"
   ]
  },
  {
   "cell_type": "code",
   "execution_count": 18,
   "metadata": {},
   "outputs": [],
   "source": [
    "from pyspark.ml.feature import VectorAssembler\n",
    "from pyspark.ml.feature import MinMaxScaler"
   ]
  },
  {
   "cell_type": "code",
   "execution_count": 2,
   "metadata": {},
   "outputs": [],
   "source": [
    "%run StoreItemDemand/custom_transformers.ipynb"
   ]
  },
  {
   "cell_type": "code",
   "execution_count": 166,
   "metadata": {},
   "outputs": [],
   "source": [
    "train_data, test_data = alerts_df.randomSplit([0.8,0.2], seed=1234)"
   ]
  },
  {
   "cell_type": "code",
   "execution_count": 167,
   "metadata": {},
   "outputs": [],
   "source": [
    "df_train = train_data.withColumn('set', lit(0))\n",
    "df_train = df_train.withColumn('id', lit(-1))\n",
    "df_test = test_data.withColumn('set', lit(1))\n",
    "\n",
    "df_test = df_test.withColumn('count', lit(-1))\n",
    "joined = df_test.union(df_train.select(*df_test.columns))\n",
    "\n",
    "train_data = joined.filter('set == 0')\n",
    "test_data = joined.filter('set == 1')"
   ]
  },
  {
   "cell_type": "code",
   "execution_count": 168,
   "metadata": {},
   "outputs": [],
   "source": [
    "train, validation = train_data.randomSplit([0.8,0.2], seed=1234)"
   ]
  },
  {
   "cell_type": "code",
   "execution_count": 169,
   "metadata": {},
   "outputs": [
    {
     "name": "stdout",
     "output_type": "stream",
     "text": [
      "+-----+-------+---+-------------------+\n",
      "|count| system| id|               date|\n",
      "+-----+-------+---+-------------------+\n",
      "|  101|unknown|  1|2019-06-28 16:14:00|\n",
      "|    2|unknown|  1|2019-06-29 19:59:00|\n",
      "|    1|unknown|  1|2019-06-28 12:54:00|\n",
      "|    2|unknown|  1|2019-07-01 07:45:00|\n",
      "| 4292|unknown|  1|2019-06-28 12:08:00|\n",
      "| 8435|unknown|  1|2019-07-01 03:43:00|\n",
      "|    1|unknown|  1|2019-06-28 12:57:00|\n",
      "|    1|unknown|  1|2019-06-30 21:38:00|\n",
      "|    1|unknown|  1|2019-06-29 13:42:00|\n",
      "|  662|unknown|  1|2019-07-01 04:39:00|\n",
      "|    1|unknown|  1|2019-06-29 20:53:00|\n",
      "|   25|unknown|  1|2019-06-29 17:29:00|\n",
      "|    1|unknown|  1|2019-06-30 16:13:00|\n",
      "|    4|unknown|  1|2019-06-29 09:23:00|\n",
      "|    1|unknown|  1|2019-06-28 12:58:00|\n",
      "|    9|unknown|  1|2019-06-30 17:13:00|\n",
      "|    1|unknown|  1|2019-06-29 05:14:00|\n",
      "|   37|unknown|  1|2019-06-30 00:59:00|\n",
      "|    1|unknown|  1|2019-06-30 10:38:00|\n",
      "|    5|unknown|  1|2019-06-29 08:14:00|\n",
      "+-----+-------+---+-------------------+\n",
      "only showing top 20 rows\n",
      "\n"
     ]
    }
   ],
   "source": [
    "alerts_df.show()"
   ]
  },
  {
   "cell_type": "code",
   "execution_count": 171,
   "metadata": {},
   "outputs": [],
   "source": [
    "# Feature extraction\n",
    "dc = DateConverter(inputCol='date', outputCol='dateFormated')\n",
    "dex = DayExtractor(inputCol='dateFormated')\n",
    "mex = MonthExtractor(inputCol='dateFormated')\n",
    "yex = YearExtractor(inputCol='dateFormated')\n",
    "wdex = WeekDayExtractor(inputCol='dateFormated')\n",
    "# Data process\n",
    "#tentar fazer 'day', 'month', 'year', 'weekday', 'weekend' (as colunas derivadas) ficarem de forma dinâmica, no lugar delas ficar a saída de seu respectivo transformer\n",
    "va = VectorAssembler(inputCols=['id','count', 'day', 'month', 'year', 'weekday'], outputCol=\"features\")\n",
    "# scaler = StandardScaler(inputCol=\"features\", outputCol=\"scaledFeatures\", withStd=True, withMean=True)\n",
    "scaler = MinMaxScaler(inputCol=\"features\", outputCol=\"scaledFeatures\")\n",
    "\n",
    "# Serialize data\n",
    "sm = SerieMaker(inputCol='scaledFeatures', dateCol='date', idCol=['system'], serieSize=30)\n",
    "\n",
    "pipeline = Pipeline(stages=[dc, dex, mex, yex, wdex, va, scaler, sm])"
   ]
  },
  {
   "cell_type": "code",
   "execution_count": 172,
   "metadata": {},
   "outputs": [],
   "source": [
    "pipiline_model = pipeline.fit(train)"
   ]
  },
  {
   "cell_type": "code",
   "execution_count": 173,
   "metadata": {},
   "outputs": [],
   "source": [
    "train_transformed = pipiline_model.transform(train)\n",
    "validation_transformed = pipiline_model.transform(validation)\n",
    "test_transformed = pipiline_model.transform(test_data)"
   ]
  },
  {
   "cell_type": "code",
   "execution_count": 182,
   "metadata": {},
   "outputs": [],
   "source": [
    "validation_stream=raw_data_match.join(validation_transformed, [\"system\",\"date\",\"count\"], \"inner\")\n",
    "test_stream=raw_data_match.join(test_transformed, [\"system\",\"date\",\"count\"], \"inner\")\n",
    "train_stream=raw_data_match.join(train_transformed, [\"system\",\"date\",\"count\"], \"inner\")"
   ]
  },
  {
   "cell_type": "code",
   "execution_count": 183,
   "metadata": {},
   "outputs": [],
   "source": [
    "validation_stream_flow=validation_stream.writeStream.queryName(\"validation_transformed\").outputMode(\"Append\").format(\"memory\").start()\n",
    "test_stream_flow=test_stream.writeStream.queryName(\"test_transformed\").outputMode(\"Append\").format(\"memory\").start()\n",
    "train_stream_flow=train_stream.writeStream.queryName(\"train_transformed\").outputMode(\"Append\").format(\"memory\").start()\n"
   ]
  },
  {
   "cell_type": "code",
   "execution_count": null,
   "metadata": {},
   "outputs": [],
   "source": [
    "validation_stream_flow.stop()\n",
    "train_stream_flow.stop()\n",
    "test_stream_flow.stop()"
   ]
  },
  {
   "cell_type": "code",
   "execution_count": null,
   "metadata": {},
   "outputs": [],
   "source": [
    "spark.streams.active"
   ]
  },
  {
   "cell_type": "code",
   "execution_count": 178,
   "metadata": {},
   "outputs": [
    {
     "name": "stdout",
     "output_type": "stream",
     "text": [
      "Train raw: 156591\n",
      "Validation raw: 39171\n",
      "Test raw: 48908\n"
     ]
    }
   ],
   "source": [
    "print('Train raw: %s' % train.count())\n",
    "print('Validation raw: %s' % validation.count())\n",
    "print('Test raw: %s' % test_data.count())"
   ]
  },
  {
   "cell_type": "code",
   "execution_count": null,
   "metadata": {},
   "outputs": [],
   "source": [
    "print('Train transformed: %s' % train_transformed.count())\n",
    "print('Validation transformed: %s' % validation_transformed.count())\n",
    "print('Test transformed: %s' % test_transformed.count())"
   ]
  },
  {
   "cell_type": "code",
   "execution_count": null,
   "metadata": {},
   "outputs": [],
   "source": [
    "train_transformed.select(\"features\",\"subject\").distinct().show()"
   ]
  },
  {
   "cell_type": "code",
   "execution_count": 184,
   "metadata": {},
   "outputs": [
    {
     "name": "stderr",
     "output_type": "stream",
     "text": [
      "Using TensorFlow backend.\n"
     ]
    }
   ],
   "source": [
    "from keras import optimizers\n",
    "from keras.models import Sequential\n",
    "from keras.layers import Dense, LSTM, Dropout, GRU\n",
    "from pyspark.ml.evaluation import RegressionEvaluator"
   ]
  },
  {
   "cell_type": "code",
   "execution_count": 1,
   "metadata": {},
   "outputs": [
    {
     "name": "stderr",
     "output_type": "stream",
     "text": [
      "Using TensorFlow backend.\n"
     ]
    }
   ],
   "source": [
    "%run StoreItemDemand/utils.ipynb"
   ]
  },
  {
   "cell_type": "code",
   "execution_count": 186,
   "metadata": {},
   "outputs": [],
   "source": [
    "train_transformed = spark.sql(\"select * from train_transformed\")\n",
    "validation_transformed = spark.sql(\"select * from validation_transformed\")"
   ]
  },
  {
   "cell_type": "code",
   "execution_count": null,
   "metadata": {},
   "outputs": [],
   "source": [
    "train_x, train_y = prepare_collected_data(train_transformed.select('serie', 'count').collect())\n",
    "validation_x, validation_y = prepare_collected_data(validation_transformed.select('serie', 'count').collect())"
   ]
  },
  {
   "cell_type": "code",
   "execution_count": null,
   "metadata": {},
   "outputs": [],
   "source": [
    "n_label = 1\n",
    "serie_size = len(train_x[0])\n",
    "n_features = len(train_x[0][0])"
   ]
  },
  {
   "cell_type": "code",
   "execution_count": null,
   "metadata": {},
   "outputs": [],
   "source": [
    "for i in train_x:\n",
    "    print(i)"
   ]
  },
  {
   "cell_type": "code",
   "execution_count": null,
   "metadata": {},
   "outputs": [],
   "source": [
    "from keras.layers import Input, Flatten"
   ]
  },
  {
   "cell_type": "code",
   "execution_count": null,
   "metadata": {},
   "outputs": [],
   "source": [
    "# hyperparameters\n",
    "epochs = 80\n",
    "batch = 512\n",
    "lr = 0.001\n",
    "\n",
    "# design network\n",
    "model = Sequential()\n",
    "model.add(GRU(40, input_shape=(serie_size, n_features)))\n",
    "model.add(Dense(10, kernel_initializer='glorot_normal', activation='relu'))\n",
    "model.add(Dense(n_label))\n",
    "model.add(Flatten())\n",
    "model.summary()\n",
    "\n",
    "adam = optimizers.Adam(lr)\n",
    "model.compile(loss='mae', optimizer=adam, metrics=['mse', 'msle'])\n",
    "\n",
    "history = model.fit(train_x, train_y, epochs=epochs, batch_size=batch, validation_data=(validation_x, validation_y), verbose=2, shuffle=False)"
   ]
  },
  {
   "cell_type": "code",
   "execution_count": null,
   "metadata": {},
   "outputs": [],
   "source": []
  }
 ],
 "metadata": {
  "kernelspec": {
   "display_name": "Python 3",
   "language": "python",
   "name": "python3"
  },
  "language_info": {
   "codemirror_mode": {
    "name": "ipython",
    "version": 3
   },
   "file_extension": ".py",
   "mimetype": "text/x-python",
   "name": "python",
   "nbconvert_exporter": "python",
   "pygments_lexer": "ipython3",
   "version": "3.6.5"
  },
  "sparkconnect": {
   "bundled_options": [],
   "list_of_options": [
    {
     "name": "spark.jars",
     "value": "/eos/home-y/ysunthor/SWAN_projects/StreamingNotebook"
    },
    {
     "name": "spark.jars.packages",
     "value": "org.apache.spark:spark-sql-kafka-0-10_2.11:2.4.1"
    }
   ]
  }
 },
 "nbformat": 4,
 "nbformat_minor": 2
}
